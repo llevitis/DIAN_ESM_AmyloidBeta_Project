{
 "cells": [
  {
   "cell_type": "code",
   "execution_count": 1,
   "metadata": {},
   "outputs": [],
   "source": [
    "%load_ext autoreload\n",
    "%autoreload 2 \n",
    "import sys\n",
    "sys.path.insert(0, '../../')\n",
    "sys.path.insert(0, '../preprocessing/')\n",
    "sys.path.insert(0, '../')\n",
    "\n",
    "import ESM_utils as esm\n",
    "import os\n",
    "import glob \n",
    "import shutil \n",
    "import re\n",
    "#import plotly.graph_objects as go\n",
    "\n",
    "import nibabel as nib\n",
    "\n",
    "import create_pet_probability_matrix\n",
    "\n",
    "import pandas as pd\n",
    "import numpy as np\n",
    "import nilearn.plotting as plotting\n",
    "import itertools\n",
    "import matplotlib.colors as colors\n",
    "import seaborn as sns\n",
    "\n",
    "import matplotlib.pyplot as plt\n",
    "import math\n",
    "from statannot import add_stat_annotation\n",
    "\n",
    "from scipy import stats\n",
    "from sklearn.metrics import mean_squared_error\n",
    "from sklearn.metrics import mean_absolute_error\n",
    "from sklearn.decomposition import PCA\n",
    "from sklearn.linear_model import LinearRegression\n",
    "from nilearn import input_data, image"
   ]
  },
  {
   "cell_type": "code",
   "execution_count": 2,
   "metadata": {},
   "outputs": [],
   "source": [
    "def intersection(lst1, lst2): \n",
    "  \n",
    "    # Use of hybrid method \n",
    "    temp = set(lst2) \n",
    "    lst3 = [value for value in lst1 if value in temp] \n",
    "    return lst3 "
   ]
  },
  {
   "cell_type": "code",
   "execution_count": 3,
   "metadata": {},
   "outputs": [
    {
     "name": "stderr",
     "output_type": "stream",
     "text": [
      "/usr/local/lib/python3.7/site-packages/IPython/core/interactiveshell.py:3063: DtypeWarning: Columns (139,152,512,991,997,999,1001,1003,1005,1013,1015,1019,1021,1039,1041,1043,1113,1117) have mixed types.Specify dtype option on import or set low_memory=False.\n",
      "  interactivity=interactivity, compiler=compiler, result=result)\n"
     ]
    }
   ],
   "source": [
    "clinical_df = pd.read_csv(\"../../data/DIAN/participant_metadata/CLINICAL_D1801.csv\")\n",
    "genetic_df = pd.read_csv(\"../../data/DIAN/participant_metadata/GENETIC_D1801.csv\")\n",
    "pib_df = pd.read_csv(\"../../data/DIAN/participant_metadata/pib_D1801.csv\")"
   ]
  },
  {
   "cell_type": "code",
   "execution_count": 4,
   "metadata": {},
   "outputs": [],
   "source": [
    "dian_pup_voxelwise_ecdf_v00 = pd.read_csv(\"../../data/DIAN/pet_probability_matrices/DIAN_PUP_coregistered_voxelwise_ecdf_orig_method_ref-brainstem_75perc_v00.csv\", index_col=0)\n",
    "dian_pup_voxelwise_ecdf_v00.loc[:, 'visit'] = \"v00\"\n",
    "dian_pup_voxelwise_ecdf_v01 = pd.read_csv(\"../../data/DIAN/pet_probability_matrices/DIAN_PUP_coregistered_voxelwise_ecdf_orig_method_ref-brainstem_75perc_v01.csv\", index_col=0)\n",
    "dian_pup_voxelwise_ecdf_v01.loc[:, 'visit'] = \"v01\"\n",
    "dian_pup_voxelwise_ecdf_v02 = pd.read_csv(\"../../data/DIAN/pet_probability_matrices/DIAN_PUP_coregistered_voxelwise_ecdf_orig_method_ref-brainstem_75perc_v02.csv\", index_col=0)\n",
    "dian_pup_voxelwise_ecdf_v02.loc[:, 'visit'] = \"v02\"\n",
    "dian_pup_voxelwise_ecdf_v03 = pd.read_csv(\"../../data/DIAN/pet_probability_matrices/DIAN_PUP_coregistered_voxelwise_ecdf_orig_method_ref-brainstem_75perc_v03.csv\", index_col=0)\n",
    "dian_pup_voxelwise_ecdf_v03.loc[:, 'visit'] = \"v03\"\n",
    "dian_pup_voxelwise_ecdf_v04 = pd.read_csv(\"../../data/DIAN/pet_probability_matrices/DIAN_PUP_coregistered_voxelwise_ecdf_orig_method_ref-brainstem_75perc_v04.csv\", index_col=0)\n",
    "dian_pup_voxelwise_ecdf_v04.loc[:, 'visit'] = \"v04\"\n",
    "dian_pup_voxelwise_ecdf_v05 = pd.read_csv(\"../../data/DIAN/pet_probability_matrices/DIAN_PUP_coregistered_voxelwise_ecdf_orig_method_ref-brainstem_75perc_v05.csv\", index_col=0)\n",
    "dian_pup_voxelwise_ecdf_v05.loc[:, 'visit'] = \"v05\""
   ]
  },
  {
   "cell_type": "code",
   "execution_count": 5,
   "metadata": {},
   "outputs": [],
   "source": [
    "### drop BS2VBS at v03 & \"U482R7\" at v00 as they were not fully processed with PUP\n",
    "dian_pup_voxelwise_ecdf_v00 = dian_pup_voxelwise_ecdf_v00[dian_pup_voxelwise_ecdf_v00.index != \"U482R7\"]\n",
    "dian_pup_voxelwise_ecdf_v03 = dian_pup_voxelwise_ecdf_v03[dian_pup_voxelwise_ecdf_v03.index != \"BS2VBS\"]"
   ]
  },
  {
   "cell_type": "code",
   "execution_count": 6,
   "metadata": {},
   "outputs": [],
   "source": [
    "dian_pup_voxelwise_ecdf_all_visits = pd.concat([dian_pup_voxelwise_ecdf_v00,\n",
    "                                                dian_pup_voxelwise_ecdf_v01, \n",
    "                                                dian_pup_voxelwise_ecdf_v02, \n",
    "                                                dian_pup_voxelwise_ecdf_v03,\n",
    "                                                dian_pup_voxelwise_ecdf_v04,\n",
    "                                                dian_pup_voxelwise_ecdf_v05])"
   ]
  },
  {
   "cell_type": "code",
   "execution_count": 7,
   "metadata": {},
   "outputs": [],
   "source": [
    "roi_cols = dian_pup_voxelwise_ecdf_all_visits.columns[0:78]\n",
    "subcortical_cols = [\"globus pallidus\", \"thalamus\", \"hypothalamus\", \"putamen\"]\n",
    "roi_cols_to_exclude = [] \n",
    "for col in roi_cols: \n",
    "    for bad_col in subcortical_cols: \n",
    "        if bad_col in col.lower(): \n",
    "            roi_cols_to_exclude.append(col)\n",
    "roi_cols_to_keep = [x for x in roi_cols if x not in roi_cols_to_exclude]\n",
    "dian_pup_voxelwise_ecdf_all_visits[roi_cols_to_exclude] = 0"
   ]
  },
  {
   "cell_type": "code",
   "execution_count": 173,
   "metadata": {},
   "outputs": [
    {
     "name": "stdout",
     "output_type": "stream",
     "text": [
      "11 Left Medial orbitofrontal\n",
      "12 Left Middle temporal\n",
      "20 Left Posterior cingulate\n",
      "22 Left Precuneus\n",
      "24 Left Rostral middle frontal\n",
      "25 Left Superior frontal\n",
      "27 Left Superior Temporal\n",
      "46 Right Medial orbitofrontal\n",
      "47 Right Middle temporal\n",
      "55 Right Posterior cingulate\n",
      "57 Right Precuneus\n",
      "59 Right Rostral middle frontal\n",
      "60 Right Superior frontal\n",
      "62 Right Superior Temporal\n"
     ]
    }
   ],
   "source": [
    "pup_cortical_analysis_col_idx = []\n",
    "pup_cortical_analysis_col_names = []\n",
    "\n",
    "for i, roi in enumerate(roi_cols_to_keep): \n",
    "    if \"precuneus\" in roi.lower() or \"superior frontal\" in roi.lower() \\\n",
    "        or \"rostral middle frontal\" in roi.lower() or \"lateral orbitofrontal\" in roi.lower() \\\n",
    "        or \"medial orbitofrontal\" in roi.lower() or \"superior temporal\" in roi.lower() \\\n",
    "        or \"middle temporal\" in roi.lower() or \"posterior cingulate\" in roi.lower(): \n",
    "        print(i, roi)\n",
    "        pup_cortical_analysis_col_idx.append(i)\n",
    "        pup_cortical_analysis_col_names.append(roi)"
   ]
  },
  {
   "cell_type": "code",
   "execution_count": 8,
   "metadata": {},
   "outputs": [],
   "source": [
    "for sub in dian_pup_voxelwise_ecdf_all_visits.index: \n",
    "    sub_df = dian_pup_voxelwise_ecdf_all_visits[dian_pup_voxelwise_ecdf_all_visits.index == sub]\n",
    "    visits = list(sub_df.visit)\n",
    "    mutation = genetic_df[(genetic_df.IMAGID == sub)].Mutation.values[0]\n",
    "    for i in range(0, len(visits)):\n",
    "        visit = visits[i]\n",
    "        dian_eyo = clinical_df[(clinical_df.IMAGID == sub) & (clinical_df.visit == visit)].DIAN_EYO.values\n",
    "        age = clinical_df[(clinical_df.IMAGID == sub) & (clinical_df.visit == visit)].VISITAGEc.values\n",
    "        if len(dian_eyo) == 0:\n",
    "            print(sub + \" \" + visit)\n",
    "        if len(dian_eyo) > 0:\n",
    "            dian_pup_voxelwise_ecdf_all_visits.loc[(dian_pup_voxelwise_ecdf_all_visits.index == sub) & (dian_pup_voxelwise_ecdf_all_visits.visit == visit), \"DIAN_EYO\"] = dian_eyo[0]\n",
    "            dian_pup_voxelwise_ecdf_all_visits.loc[(dian_pup_voxelwise_ecdf_all_visits.index == sub) & (dian_pup_voxelwise_ecdf_all_visits.visit == visit), \"VISITAGEc\"] = age[0]\n",
    "            dian_pup_voxelwise_ecdf_all_visits.loc[(dian_pup_voxelwise_ecdf_all_visits.index == sub) & (dian_pup_voxelwise_ecdf_all_visits.visit == visit), \"visitNumber\"] = i + 1\n",
    "            dian_pup_voxelwise_ecdf_all_visits.loc[(dian_pup_voxelwise_ecdf_all_visits.index == sub) & (dian_pup_voxelwise_ecdf_all_visits.visit == visit), \"Mutation\"] = mutation"
   ]
  },
  {
   "cell_type": "code",
   "execution_count": 9,
   "metadata": {},
   "outputs": [
    {
     "data": {
      "text/html": [
       "<div>\n",
       "<style scoped>\n",
       "    .dataframe tbody tr th:only-of-type {\n",
       "        vertical-align: middle;\n",
       "    }\n",
       "\n",
       "    .dataframe tbody tr th {\n",
       "        vertical-align: top;\n",
       "    }\n",
       "\n",
       "    .dataframe thead th {\n",
       "        text-align: right;\n",
       "    }\n",
       "</style>\n",
       "<table border=\"1\" class=\"dataframe\">\n",
       "  <thead>\n",
       "    <tr style=\"text-align: right;\">\n",
       "      <th></th>\n",
       "      <th>Left Caudal anterior cingulate</th>\n",
       "      <th>Left Caudal middle frontal</th>\n",
       "      <th>Left Cuneus</th>\n",
       "      <th>Left entorinal</th>\n",
       "      <th>Left fusiform</th>\n",
       "      <th>Left Inferior parietal</th>\n",
       "      <th>Left Inferior temporal</th>\n",
       "      <th>Left Isthmus cingulate</th>\n",
       "      <th>Left Lateral Occipital</th>\n",
       "      <th>Left Lateral orbitofronal</th>\n",
       "      <th>...</th>\n",
       "      <th>Right Transverse temporal</th>\n",
       "      <th>Right Insula</th>\n",
       "      <th>Right Basal forebrain</th>\n",
       "      <th>Right Amygdala</th>\n",
       "      <th>Right Hypothalamus</th>\n",
       "      <th>Right Caudate</th>\n",
       "      <th>Right Hippocampus</th>\n",
       "      <th>Right Globus Pallidus</th>\n",
       "      <th>Right Putamen</th>\n",
       "      <th>Right Thalamus</th>\n",
       "    </tr>\n",
       "  </thead>\n",
       "  <tbody>\n",
       "    <tr>\n",
       "      <th>09NXRZ</th>\n",
       "      <td>0.000000</td>\n",
       "      <td>0.000000</td>\n",
       "      <td>0.000000e+00</td>\n",
       "      <td>0.000000</td>\n",
       "      <td>0.00000</td>\n",
       "      <td>0.000873</td>\n",
       "      <td>0.000000</td>\n",
       "      <td>0.000000</td>\n",
       "      <td>0.001178</td>\n",
       "      <td>0.001435</td>\n",
       "      <td>...</td>\n",
       "      <td>0.000000</td>\n",
       "      <td>0.000315</td>\n",
       "      <td>0.438316</td>\n",
       "      <td>0.001847</td>\n",
       "      <td>0</td>\n",
       "      <td>0.800702</td>\n",
       "      <td>2.282584e-04</td>\n",
       "      <td>0</td>\n",
       "      <td>0</td>\n",
       "      <td>0</td>\n",
       "    </tr>\n",
       "    <tr>\n",
       "      <th>0F9ACS</th>\n",
       "      <td>0.000000</td>\n",
       "      <td>0.000000</td>\n",
       "      <td>0.000000e+00</td>\n",
       "      <td>0.000000</td>\n",
       "      <td>0.00000</td>\n",
       "      <td>0.000000</td>\n",
       "      <td>0.000000</td>\n",
       "      <td>0.000000</td>\n",
       "      <td>0.000000</td>\n",
       "      <td>0.000000</td>\n",
       "      <td>...</td>\n",
       "      <td>0.000000</td>\n",
       "      <td>0.000000</td>\n",
       "      <td>0.000000</td>\n",
       "      <td>0.000000</td>\n",
       "      <td>0</td>\n",
       "      <td>0.000000</td>\n",
       "      <td>0.000000e+00</td>\n",
       "      <td>0</td>\n",
       "      <td>0</td>\n",
       "      <td>0</td>\n",
       "    </tr>\n",
       "    <tr>\n",
       "      <th>0LA7SQ</th>\n",
       "      <td>0.952713</td>\n",
       "      <td>0.400071</td>\n",
       "      <td>6.360225e-01</td>\n",
       "      <td>0.002138</td>\n",
       "      <td>0.24708</td>\n",
       "      <td>0.402461</td>\n",
       "      <td>0.322673</td>\n",
       "      <td>0.750151</td>\n",
       "      <td>0.355474</td>\n",
       "      <td>0.500048</td>\n",
       "      <td>...</td>\n",
       "      <td>0.065097</td>\n",
       "      <td>0.270181</td>\n",
       "      <td>0.830855</td>\n",
       "      <td>0.000000</td>\n",
       "      <td>0</td>\n",
       "      <td>0.634945</td>\n",
       "      <td>5.246594e-15</td>\n",
       "      <td>0</td>\n",
       "      <td>0</td>\n",
       "      <td>0</td>\n",
       "    </tr>\n",
       "    <tr>\n",
       "      <th>0O5OD0</th>\n",
       "      <td>0.000000</td>\n",
       "      <td>0.000000</td>\n",
       "      <td>0.000000e+00</td>\n",
       "      <td>0.000000</td>\n",
       "      <td>0.00000</td>\n",
       "      <td>0.000000</td>\n",
       "      <td>0.000000</td>\n",
       "      <td>0.000000</td>\n",
       "      <td>0.000000</td>\n",
       "      <td>0.000000</td>\n",
       "      <td>...</td>\n",
       "      <td>0.000000</td>\n",
       "      <td>0.000364</td>\n",
       "      <td>0.000000</td>\n",
       "      <td>0.000000</td>\n",
       "      <td>0</td>\n",
       "      <td>0.000285</td>\n",
       "      <td>0.000000e+00</td>\n",
       "      <td>0</td>\n",
       "      <td>0</td>\n",
       "      <td>0</td>\n",
       "    </tr>\n",
       "    <tr>\n",
       "      <th>0RN4X6</th>\n",
       "      <td>0.000000</td>\n",
       "      <td>0.000000</td>\n",
       "      <td>6.328179e-122</td>\n",
       "      <td>0.000000</td>\n",
       "      <td>0.00000</td>\n",
       "      <td>0.002050</td>\n",
       "      <td>0.000000</td>\n",
       "      <td>0.000000</td>\n",
       "      <td>0.000000</td>\n",
       "      <td>0.000000</td>\n",
       "      <td>...</td>\n",
       "      <td>0.000000</td>\n",
       "      <td>0.000000</td>\n",
       "      <td>0.000000</td>\n",
       "      <td>0.000000</td>\n",
       "      <td>0</td>\n",
       "      <td>0.000000</td>\n",
       "      <td>0.000000e+00</td>\n",
       "      <td>0</td>\n",
       "      <td>0</td>\n",
       "      <td>0</td>\n",
       "    </tr>\n",
       "  </tbody>\n",
       "</table>\n",
       "<p>5 rows × 78 columns</p>\n",
       "</div>"
      ],
      "text/plain": [
       "        Left Caudal anterior cingulate  Left Caudal middle frontal  \\\n",
       "09NXRZ                        0.000000                    0.000000   \n",
       "0F9ACS                        0.000000                    0.000000   \n",
       "0LA7SQ                        0.952713                    0.400071   \n",
       "0O5OD0                        0.000000                    0.000000   \n",
       "0RN4X6                        0.000000                    0.000000   \n",
       "\n",
       "          Left Cuneus  Left entorinal  Left fusiform  Left Inferior parietal  \\\n",
       "09NXRZ   0.000000e+00        0.000000        0.00000                0.000873   \n",
       "0F9ACS   0.000000e+00        0.000000        0.00000                0.000000   \n",
       "0LA7SQ   6.360225e-01        0.002138        0.24708                0.402461   \n",
       "0O5OD0   0.000000e+00        0.000000        0.00000                0.000000   \n",
       "0RN4X6  6.328179e-122        0.000000        0.00000                0.002050   \n",
       "\n",
       "        Left Inferior temporal  Left Isthmus cingulate  \\\n",
       "09NXRZ                0.000000                0.000000   \n",
       "0F9ACS                0.000000                0.000000   \n",
       "0LA7SQ                0.322673                0.750151   \n",
       "0O5OD0                0.000000                0.000000   \n",
       "0RN4X6                0.000000                0.000000   \n",
       "\n",
       "        Left Lateral Occipital  Left Lateral orbitofronal  ...  \\\n",
       "09NXRZ                0.001178                   0.001435  ...   \n",
       "0F9ACS                0.000000                   0.000000  ...   \n",
       "0LA7SQ                0.355474                   0.500048  ...   \n",
       "0O5OD0                0.000000                   0.000000  ...   \n",
       "0RN4X6                0.000000                   0.000000  ...   \n",
       "\n",
       "        Right Transverse temporal  Right Insula  Right Basal forebrain  \\\n",
       "09NXRZ                   0.000000      0.000315               0.438316   \n",
       "0F9ACS                   0.000000      0.000000               0.000000   \n",
       "0LA7SQ                   0.065097      0.270181               0.830855   \n",
       "0O5OD0                   0.000000      0.000364               0.000000   \n",
       "0RN4X6                   0.000000      0.000000               0.000000   \n",
       "\n",
       "        Right Amygdala  Right Hypothalamus  Right Caudate  Right Hippocampus  \\\n",
       "09NXRZ        0.001847                   0       0.800702       2.282584e-04   \n",
       "0F9ACS        0.000000                   0       0.000000       0.000000e+00   \n",
       "0LA7SQ        0.000000                   0       0.634945       5.246594e-15   \n",
       "0O5OD0        0.000000                   0       0.000285       0.000000e+00   \n",
       "0RN4X6        0.000000                   0       0.000000       0.000000e+00   \n",
       "\n",
       "        Right Globus Pallidus  Right Putamen  Right Thalamus  \n",
       "09NXRZ                      0              0               0  \n",
       "0F9ACS                      0              0               0  \n",
       "0LA7SQ                      0              0               0  \n",
       "0O5OD0                      0              0               0  \n",
       "0RN4X6                      0              0               0  \n",
       "\n",
       "[5 rows x 78 columns]"
      ]
     },
     "execution_count": 9,
     "metadata": {},
     "output_type": "execute_result"
    }
   ],
   "source": [
    "dian_pup_voxelwise_ecdf_all_visits.loc[:, roi_cols].head()"
   ]
  },
  {
   "cell_type": "code",
   "execution_count": 10,
   "metadata": {},
   "outputs": [],
   "source": [
    "# create separate dataframes for the different timepoints\n",
    "\n",
    "dian_pup_voxelwise_ecdf_first_timepoint = dian_pup_voxelwise_ecdf_all_visits[dian_pup_voxelwise_ecdf_all_visits.visitNumber == 1]\n",
    "dian_pup_voxelwise_ecdf_second_timepoint = dian_pup_voxelwise_ecdf_all_visits[dian_pup_voxelwise_ecdf_all_visits.visitNumber == 2]\n",
    "dian_pup_voxelwise_ecdf_third_timepoint = dian_pup_voxelwise_ecdf_all_visits[dian_pup_voxelwise_ecdf_all_visits.visitNumber == 3]\n",
    "dian_pup_voxelwise_ecdf_fourth_timepoint = dian_pup_voxelwise_ecdf_all_visits[dian_pup_voxelwise_ecdf_all_visits.visitNumber == 4]\n",
    "dian_pup_voxelwise_ecdf_fifth_timepoint = dian_pup_voxelwise_ecdf_all_visits[dian_pup_voxelwise_ecdf_all_visits.visitNumber == 5]\n",
    "\n"
   ]
  },
  {
   "cell_type": "code",
   "execution_count": 81,
   "metadata": {},
   "outputs": [],
   "source": [
    "dian_pup_voxelwise_ecdf_mc_avg_all_visits_df = pd.DataFrame(index=[\"t1\", \"t2\", \"t3\", \"t4\", \"t5\"], \n",
    "                                                            columns=roi_cols, \n",
    "                                                            dtype=\"float\")\n",
    "indices = [\"t1\", \"t2\", \"t3\", \"t4\", \"t5\"]\n",
    "for i in range(0, 5): \n",
    "    j = i+1\n",
    "    idx = indices[i]\n",
    "    for roi in roi_cols: \n",
    "        dian_pup_voxelwise_ecdf_mc_avg_all_visits_df.loc[idx, roi] = np.mean(dian_pup_voxelwise_ecdf_all_visits[(dian_pup_voxelwise_ecdf_all_visits.Mutation == 1) & (dian_pup_voxelwise_ecdf_all_visits.visitNumber == j)][roi])"
   ]
  },
  {
   "cell_type": "code",
   "execution_count": 88,
   "metadata": {},
   "outputs": [
    {
     "data": {
      "image/png": "[encoded data removed]",
      "text/plain": [
       "<Figure size 1008x360 with 2 Axes>"
      ]
     },
     "metadata": {
      "needs_background": "light"
     },
     "output_type": "display_data"
    }
   ],
   "source": [
    "fig = plt.figure(figsize=(14,5))\n",
    "g = sns.heatmap(dian_pup_voxelwise_ecdf_mc_avg_all_visits_df,cmap=\"Reds\")\n"
   ]
  },
  {
   "cell_type": "code",
   "execution_count": 93,
   "metadata": {},
   "outputs": [],
   "source": [
    "import plotly.figure_factory as ff\n",
    "from plotly.offline import init_notebook_mode, iplot\n",
    "import plotly.graph_objs as go\n",
    "from datetime import date\n",
    "import plotly.express as px"
   ]
  },
  {
   "cell_type": "code",
   "execution_count": 95,
   "metadata": {},
   "outputs": [
    {
     "data": {
      "text/plain": [
       "(712, 83)"
      ]
     },
     "execution_count": 95,
     "metadata": {},
     "output_type": "execute_result"
    }
   ],
   "source": [
    "dian_pup_voxelwise_ecdf_all_visits.shape"
   ]
  },
  {
   "cell_type": "code",
   "execution_count": null,
   "metadata": {},
   "outputs": [],
   "source": [
    "# create the gantt plot for all individuals who have 3 timepoints at first  "
   ]
  },
  {
   "cell_type": "code",
   "execution_count": 137,
   "metadata": {},
   "outputs": [
    {
     "data": {
      "text/plain": [
       "423"
      ]
     },
     "execution_count": 137,
     "metadata": {},
     "output_type": "execute_result"
    }
   ],
   "source": [
    "len(set(dian_pup_voxelwise_ecdf_all_visits.index))"
   ]
  },
  {
   "cell_type": "code",
   "execution_count": 174,
   "metadata": {},
   "outputs": [
    {
     "name": "stdout",
     "output_type": "stream",
     "text": [
      "09NXRZ\n",
      "0F9ACS\n",
      "0LA7SQ\n",
      "0O5OD0\n",
      "0RN4X6\n",
      "0WWEAW\n",
      "0ZI871\n",
      "10H57G\n",
      "14OWZV\n",
      "19XN9M\n",
      "1CWD6M\n",
      "1EBBWV\n",
      "1FXQEE\n",
      "1GXVHT\n",
      "1KP11R\n",
      "1UANEQ\n",
      "1WQJWP\n",
      "1X8U58\n",
      "293IV5\n",
      "2AX5FU\n",
      "2D1APM\n",
      "2ES6B9\n",
      "2FAMDB\n",
      "2N6SUC\n",
      "2P1WOY\n",
      "2VVTM5\n",
      "2WBJW3\n",
      "2WKQWT\n",
      "2Y4O0X\n",
      "30LR7L\n",
      "34E2IA\n",
      "3ER4GO\n",
      "3GTJ22\n",
      "3QM9OP\n",
      "3RC7PE\n",
      "3RQ6TO\n",
      "3WKEFU\n",
      "3WWCQ9\n",
      "3XPANM\n",
      "3YMWAT\n",
      "41L6T6\n",
      "41VBKZ\n",
      "43H9Y6\n",
      "44CAVQ\n",
      "48XWC1\n",
      "4J49QW\n",
      "4KEGQV\n",
      "4LLB2T\n",
      "4VKJET\n",
      "4X8C24\n",
      "4YW4W5\n",
      "54GI9H\n",
      "54UDP0\n",
      "56ET2I\n",
      "5A2RSX\n",
      "5FZWKH\n",
      "5HQBDJ\n",
      "5ILQGC\n",
      "5KD9CG\n",
      "5LGJ8I\n",
      "5LXI2Z\n",
      "5OGELK\n",
      "5S73B5\n",
      "5Y8CIX\n",
      "62GER7\n",
      "62UV1H\n",
      "65ACYY\n",
      "67YHUY\n",
      "6AK49W\n",
      "6CMY4P\n",
      "6KVLEL\n",
      "6TATLD\n",
      "6X8RJM\n",
      "6XGHMZ\n",
      "6XVFTZ\n",
      "71EU2X\n",
      "729WMJ\n",
      "76HB24\n",
      "79LG99\n",
      "7CMJYQ\n",
      "7HL4NW\n",
      "7MUSGY\n",
      "7OQNFQ\n",
      "7U5XQ7\n",
      "7WX8KG\n",
      "7X34D1\n",
      "7XRXWC\n",
      "837HA5\n",
      "83EINK\n",
      "89MLR7\n",
      "8AKUN6\n",
      "8AQM2F\n",
      "8B59ST\n",
      "8CCNE3\n",
      "8ERSFM\n",
      "8FDLTX\n",
      "8H52AT\n",
      "8IFJ11\n",
      "8MQWHN\n",
      "8UFV8Z\n",
      "8XXUDD\n",
      "8Z9RLA\n",
      "9KOPAV\n",
      "9QO2AT\n",
      "9QUQQI\n",
      "9V76YB\n",
      "9VQ5Z6\n",
      "A401RO\n",
      "A6B7EX\n",
      "ABOX7W\n",
      "AEXGEP\n",
      "ALSGL2\n",
      "ANUED7\n",
      "AODS2H\n",
      "AP992Q\n",
      "ATI0ZK\n",
      "AWV50K\n",
      "AZ5MWZ\n",
      "AZVW0Q\n",
      "B93NRI\n",
      "BAV0RI\n",
      "BK265G\n",
      "BMV2ZL\n",
      "BNAJMF\n",
      "BNX2XO\n",
      "BOKD4Y\n",
      "BPN5U8\n",
      "BS2VBS\n",
      "C3YSZL\n",
      "CD8IP3\n",
      "CDBBBU\n",
      "CEYMNN\n",
      "CTPZ0W\n",
      "CXRL3E\n",
      "D0IS2S\n",
      "D1YOXP\n",
      "D6NMT1\n",
      "D6TIH6\n",
      "D6XWA2\n",
      "DA0DVX\n",
      "DDZ9FW\n",
      "DEHYCW\n",
      "DF2ECY\n",
      "DHYR5O\n",
      "DMUYGX\n",
      "DN99NC\n",
      "DOHC2U\n",
      "DQW9BD\n",
      "DSSA42\n",
      "EBQ0N1\n",
      "EJXHSQ\n",
      "ERJUTD\n",
      "EXRGUX\n",
      "F2Q4HA\n",
      "F2T4YV\n",
      "F8ZIH8\n",
      "F9A3B5\n",
      "F9Y8XT\n",
      "FBEEU3\n",
      "FI05HF\n",
      "FOSA26\n",
      "FR4AL7\n",
      "FVPVRA\n",
      "FZL3BD\n",
      "FZQTVB\n",
      "G07MMZ\n",
      "G3RZYE\n",
      "G88LMH\n",
      "G8ZWVK\n",
      "G9EQHL\n",
      "GDUY5O\n",
      "GJDUBJ\n",
      "GM4TCN\n",
      "GMLQ3T\n",
      "GQ3NXG\n",
      "GR3BSU\n",
      "GRXZ2C\n",
      "GZHB15\n",
      "GZOXVL\n",
      "H96EIF\n",
      "H9CLW8\n",
      "HAB9WN\n",
      "HAFZNM\n",
      "HBDE5F\n",
      "HDK66G\n",
      "HFCLR1\n",
      "HJA5V4\n",
      "HJBX7E\n",
      "HOB1TZ\n",
      "HR2Z7R\n",
      "HTNQJS\n",
      "HYXE1H\n",
      "I00ECU\n",
      "IB8Z6S\n",
      "IDE877\n",
      "IE79V3\n",
      "IMTHTU\n",
      "IP8JVC\n",
      "IVGO6H\n",
      "IWH7L1\n",
      "IZHCNQ\n",
      "J2MNQG\n",
      "J69QF3\n",
      "J85UII\n",
      "JDCSLU\n",
      "JE7CTP\n",
      "JKKHTX\n",
      "JLUFLQ\n",
      "JQ8KSL\n",
      "JRF1GO\n",
      "JRG21A\n",
      "JSG1FL\n",
      "JUX1Y7\n",
      "K6CF46\n",
      "KBOLFG\n",
      "KFLW58\n",
      "KG4W9Z\n",
      "KLK9R7\n",
      "KMYJZ4\n",
      "KR2PCE\n",
      "KSVHOU\n",
      "KUVUGB\n",
      "KZFLJU\n",
      "L0KYTY\n",
      "L4ZAU7\n",
      "L6JS6O\n",
      "L8O49P\n",
      "L8YWLM\n",
      "LBO09B\n",
      "LE7J6S\n",
      "LFSEUQ\n",
      "LKPSUJ\n",
      "LKU6IH\n",
      "LLATOP\n",
      "LQ4G8N\n",
      "LTESIM\n",
      "LU88KY\n",
      "LWY2XA\n",
      "LZHB8I\n",
      "MA5V2F\n",
      "MHB2SW\n",
      "MI97B5\n",
      "MJAO7G\n",
      "MOUL5R\n",
      "MQI4EF\n",
      "MTVKBE\n",
      "MZR5QU\n",
      "N0U231\n",
      "N16QVF\n",
      "N5WJKA\n",
      "N8RY3L\n",
      "NESK38\n",
      "NM1AWO\n",
      "NOFLPK\n",
      "NRIVVL\n",
      "NTY83O\n",
      "O1EOOJ\n",
      "O1P1MI\n",
      "O2SGMK\n",
      "O5RKSU\n",
      "OBJ8E5\n",
      "OBL8WX\n",
      "OD8ZMU\n",
      "OEV528\n",
      "OI1VHG\n",
      "OJ47SN\n",
      "OKPUPX\n",
      "OMDGV9\n",
      "OOSXI9\n",
      "OPEP4R\n",
      "OS1QHK\n",
      "OUYDMF\n",
      "P2YHNA\n",
      "P5AXQT\n",
      "P8HVA0\n",
      "PAU8PN\n",
      "PBAOM3\n",
      "PBHW42\n",
      "PBQ7HY\n",
      "PCQ6GI\n",
      "PJJIHZ\n",
      "PJV2V8\n",
      "PTFEWJ\n",
      "PUFV0B\n",
      "PUI0R8\n",
      "PVACF4\n",
      "PVMF9N\n",
      "Q4W4NR\n",
      "Q681VF\n",
      "Q706LY\n",
      "QE4PF4\n",
      "QQ3EQ6\n",
      "QS1OQ1\n",
      "QXGR8G\n",
      "R1RF2I\n",
      "R6Q4I8\n",
      "R8J9A7\n",
      "RA9E9U\n",
      "RB7HG4\n",
      "RU0Z5Y\n",
      "RUSV8K\n",
      "RVZC1H\n",
      "RXBDKE\n",
      "RZ9XPJ\n",
      "S21FGN\n",
      "S6YAV3\n",
      "S7AWSV\n",
      "SCK879\n",
      "SDN5R9\n",
      "SNLCWR\n",
      "SOACBP\n",
      "SPEFRV\n",
      "SRH9ND\n",
      "SRPAU0\n",
      "SY6EV2\n",
      "T4IWDD\n",
      "T5QGMH\n",
      "TANQX8\n",
      "TCJ2GZ\n",
      "TI3NJN\n",
      "TLPC33\n",
      "TUKIOI\n",
      "TUZ9XQ\n",
      "TWY3FJ\n",
      "U3A0TW\n",
      "U78CED\n",
      "U7VGSB\n",
      "UB4BB8\n",
      "UG9MGL\n",
      "UIRDPU\n",
      "UMJQEQ\n",
      "UN9628\n",
      "USDYR5\n",
      "UXLGCI\n",
      "UY0LSG\n",
      "UYUTRU\n",
      "UZN1YS\n",
      "V24NB2\n",
      "VDAX72\n",
      "VFU1K1\n",
      "VKTMIY\n",
      "VMGRO8\n",
      "VMHWVV\n",
      "VOJHSV\n",
      "VPEKVQ\n",
      "VSMA0A\n",
      "VVD3K0\n",
      "VXIUHU\n",
      "VZAVKF\n",
      "W60QJV\n",
      "W7S78P\n",
      "WDQRU0\n",
      "WELTFR\n",
      "WG1AO5\n",
      "WGNDC1\n",
      "WJI89Q\n",
      "WJV4CS\n",
      "WL3UA1\n",
      "WQCPKV\n",
      "WUV4AK\n",
      "WWG4NB\n",
      "WWHU7R\n",
      "WZ00XY\n",
      "X5F8PY\n",
      "XAU3CD\n",
      "XGTYID\n",
      "XI58YQ\n",
      "XJCYRZ\n",
      "XJSZOD\n",
      "XMJWEO\n",
      "XMUWSN\n",
      "XTCTKI\n",
      "XZFQGW\n",
      "Y55EVF\n",
      "Y8P7AO\n",
      "YDGD1C\n",
      "YKU9X1\n",
      "YO0W4J\n",
      "YRMIIE\n",
      "YSHQGT\n",
      "Z02XDX\n",
      "Z2NTC9\n",
      "Z6OU7I\n",
      "Z7WWQH\n",
      "ZD9J42\n",
      "ZJVKU1\n",
      "ZL1BDX\n",
      "ZN45GQ\n",
      "ZPDV3U\n",
      "ZTLRED\n",
      "ZUZQ9P\n",
      "ZVIB5B\n",
      "1FXQEE\n",
      "2VVTM5\n",
      "2ZCX99\n",
      "34E2IA\n",
      "3WKEFU\n",
      "3YMWAT\n",
      "4HUNQS\n",
      "4KEGQV\n",
      "5KD9CG\n",
      "5LGJ8I\n",
      "67YHUY\n",
      "6PI52Z\n",
      "6TATLD\n",
      "76HB24\n",
      "7CMJYQ\n",
      "7XRXWC\n",
      "83EINK\n",
      "8AKUN6\n",
      "8MQWHN\n",
      "8UFV8Z\n",
      "9HBSN9\n",
      "9V76YB\n",
      "ABOX7W\n",
      "AEXGEP\n",
      "AKJ1YE\n",
      "B93NRI\n",
      "BS2VBS\n",
      "C5HB23\n",
      "CXRL3E\n",
      "D0IS2S\n",
      "D6TIH6\n",
      "DOCS1R\n",
      "DQW9BD\n",
      "DSSA42\n",
      "F2Q4HA\n",
      "FVPVRA\n",
      "FZQTVB\n",
      "G3RZYE\n",
      "GQ3NXG\n",
      "HAB9WN\n",
      "HONS3G\n",
      "I296MB\n",
      "IP8JVC\n",
      "JQ8KSL\n",
      "L0KYTY\n",
      "L2YDAS\n",
      "L6JS6O\n",
      "LU88KY\n",
      "MHB2SW\n",
      "NRIVVL\n",
      "OD8ZMU\n",
      "OEV528\n",
      "OTO2HD\n",
      "P8HVA0\n",
      "PAU8PN\n",
      "PBAOM3\n",
      "PBHW42\n",
      "PFH1PM\n",
      "PJV2V8\n",
      "PTFEWJ\n",
      "PUI0R8\n",
      "Q4W4NR\n",
      "Q681VF\n",
      "R6Q4I8\n",
      "SOACBP\n",
      "T4IWDD\n",
      "T5QGMH\n",
      "TUKIOI\n",
      "U482R7\n",
      "UG9MGL\n",
      "UIRDPU\n",
      "UN9628\n",
      "UZN1YS\n",
      "VKTMIY\n",
      "VPEKVQ\n",
      "W7S78P\n",
      "WL3UA1\n",
      "X41BVT\n",
      "YRMIIE\n",
      "0LA7SQ\n",
      "0RN4X6\n",
      "1BVPA1\n",
      "1FXQEE\n",
      "2ZCX99\n",
      "3QM9OP\n",
      "3WWCQ9\n",
      "44CAVQ\n",
      "4HUNQS\n",
      "4LLB2T\n",
      "5ILQGC\n",
      "62UV1H\n",
      "659RPB\n",
      "6KLYSA\n",
      "7CMJYQ\n",
      "7XRXWC\n",
      "9HBSN9\n",
      "ABOX7W\n",
      "AKJ1YE\n",
      "AP992Q\n",
      "AZ5MWZ\n",
      "B93NRI\n",
      "C5HB23\n",
      "D0IS2S\n",
      "D6TIH6\n",
      "DA0DVX\n",
      "F9Y8XT\n",
      "FI05HF\n",
      "G3RZYE\n",
      "GR3BSU\n",
      "HDK66G\n",
      "IP8JVC\n",
      "IWH7L1\n",
      "J69QF3\n",
      "JRG21A\n",
      "KAXBBC\n",
      "KG4W9Z\n",
      "KUVUGB\n",
      "L0KYTY\n",
      "L2YDAS\n",
      "L6JS6O\n",
      "MA5V2F\n",
      "MHB2SW\n",
      "MOUL5R\n",
      "MZR5QU\n",
      "NOFLPK\n",
      "NRIVVL\n",
      "OD8ZMU\n",
      "OTO2HD\n",
      "P2YHNA\n",
      "PAU8PN\n",
      "PBAOM3\n",
      "PFH1PM\n",
      "Q4W4NR\n",
      "QQ3EQ6\n",
      "RA9E9U\n",
      "SNLCWR\n",
      "SOACBP\n",
      "T5QGMH\n",
      "TUKIOI\n",
      "UB4BB8\n",
      "UG9MGL\n",
      "UIRDPU\n",
      "UN9628\n",
      "USPD91\n",
      "UZN1YS\n",
      "VFU1K1\n",
      "VPEKVQ\n",
      "WQCPKV\n",
      "XGTYID\n",
      "XJSZOD\n",
      "XMUWSN\n",
      "YJECHL\n",
      "0O5OD0\n",
      "1BVPA1\n",
      "1FFP6Y\n",
      "1FXQEE\n",
      "1GF1J3\n",
      "1KP11R\n",
      "293IV5\n",
      "2D1APM\n",
      "2ES6B9\n",
      "2P1WOY\n",
      "3RC7PE\n",
      "41L6T6\n",
      "41VBKZ\n",
      "4J49QW\n",
      "5FZWKH\n",
      "5OGELK\n",
      "6KLYSA\n",
      "6O3OQO\n",
      "6XGHMZ\n",
      "71EU2X\n",
      "76HB24\n",
      "7713O3\n",
      "7U5XQ7\n",
      "7XRXWC\n",
      "8AKUN6\n",
      "8XXUDD\n",
      "9FYRVS\n",
      "9GNXAE\n",
      "9HBSN9\n",
      "AKJ1YE\n",
      "AZVW0Q\n",
      "BMV2ZL\n",
      "C5HB23\n",
      "CD8IP3\n",
      "CXRL3E\n",
      "D0IS2S\n",
      "D1YOXP\n",
      "DDZ9FW\n",
      "DF2ECY\n",
      "DHYR5O\n",
      "DQW9BD\n",
      "F2T4YV\n",
      "F8ZIH8\n",
      "FBEEU3\n",
      "FI05HF\n",
      "FR4AL7\n",
      "G07MMZ\n",
      "G9EQHL\n",
      "GEF9XU\n",
      "GJDUBJ\n",
      "GM4TCN\n",
      "H9CLW8\n",
      "HBDE5F\n",
      "HFCLR1\n",
      "HONS3G\n",
      "HYXE1H\n",
      "I296MB\n",
      "IZHCNQ\n",
      "J85UII\n",
      "JQ8KSL\n",
      "JRF1GO\n",
      "K6CF46\n",
      "KSVHOU\n",
      "L0KYTY\n",
      "L2YDAS\n",
      "L6JS6O\n",
      "L8O49P\n",
      "LFSEUQ\n",
      "LKU6IH\n",
      "MCHOZN\n",
      "MHB2SW\n",
      "MI97B5\n",
      "MQI4EF\n",
      "MTVKBE\n",
      "MZR5QU\n",
      "NM1AWO\n",
      "O5RKSU\n",
      "OI1VHG\n",
      "OKPUPX\n",
      "OMDGV9\n",
      "OOSXI9\n",
      "OPEP4R\n",
      "OUYDMF\n",
      "P2YHNA\n",
      "PCQ6GI\n",
      "PJJIHZ\n",
      "PVACF4\n",
      "RWJKWP\n",
      "S21FGN\n",
      "SDN5R9\n",
      "SPEFRV\n",
      "SRH9ND\n",
      "TANQX8\n",
      "TCJ2GZ\n",
      "TI3NJN\n",
      "UB4BB8\n",
      "UMJQEQ\n",
      "UYUTRU\n",
      "UZN1YS\n",
      "V24NB2\n",
      "VMGRO8\n",
      "VPEKVQ\n",
      "WDQRU0\n",
      "WGNDC1\n",
      "WQCPKV\n",
      "WWG4NB\n",
      "XJCYRZ\n",
      "XMUWSN\n",
      "XZFQGW\n",
      "Y8P7AO\n",
      "YJECHL\n",
      "ZUZQ9P\n",
      "ZVIB5B\n",
      "1FXQEE\n",
      "4LLB2T\n",
      "79QYTE\n",
      "7CMJYQ\n",
      "7WX8KG\n",
      "7XRXWC\n",
      "89MLR7\n",
      "8UFV8Z\n",
      "AP992Q\n",
      "BS2VBS\n",
      "C5HB23\n",
      "DA0DVX\n",
      "F9Y8XT\n",
      "IB8Z6S\n",
      "IP8JVC\n",
      "KG4W9Z\n",
      "L6JS6O\n",
      "MHB2SW\n",
      "MI97B5\n",
      "N16QVF\n",
      "OBL8WX\n",
      "OD8ZMU\n",
      "P2YHNA\n",
      "TUKIOI\n",
      "WWG4NB\n",
      "10H57G\n",
      "1BVPA1\n",
      "293IV5\n",
      "5A2RSX\n",
      "5FZWKH\n",
      "6KLYSA\n",
      "AZVW0Q\n",
      "BPN5U8\n",
      "CXRL3E\n",
      "DF2ECY\n",
      "F2T4YV\n",
      "FR4AL7\n",
      "G88LMH\n",
      "HONS3G\n",
      "KZFLJU\n",
      "L0KYTY\n",
      "MHB2SW\n",
      "MTVKBE\n",
      "OI1VHG\n",
      "OUYDMF\n",
      "S21FGN\n",
      "V24NB2\n",
      "VMGRO8\n",
      "VPEKVQ\n",
      "WJI89Q\n",
      "WQCPKV\n",
      "WWG4NB\n",
      "X51H7X\n",
      "XJCYRZ\n",
      "XMUWSN\n"
     ]
    }
   ],
   "source": [
    "ab_prob_gantt_df = pd.DataFrame(columns=[\"Task\", \"Start\", \"Finish\", \"Complete\"])\n",
    "idx = 0\n",
    "for sub in dian_pup_voxelwise_ecdf_all_visits.index:\n",
    "    print(sub)\n",
    "    sub_df = dian_pup_voxelwise_ecdf_all_visits.loc[sub, :]\n",
    "    if sub_df.shape[0] == 3: \n",
    "        avg_prob_t1 = np.mean(dian_pup_voxelwise_ecdf_all_visits[dian_pup_voxelwise_ecdf_all_visits.visitNumber == 1].loc[sub, pup_cortical_analysis_col_names])\n",
    "        avg_prob_t2 = np.mean(dian_pup_voxelwise_ecdf_all_visits[dian_pup_voxelwise_ecdf_all_visits.visitNumber == 2].loc[sub, pup_cortical_analysis_col_names])\n",
    "        avg_prob_t3 = np.mean(dian_pup_voxelwise_ecdf_all_visits[dian_pup_voxelwise_ecdf_all_visits.visitNumber == 3].loc[sub, pup_cortical_analysis_col_names])\n",
    "        dian_eyo_t1 = dian_pup_voxelwise_ecdf_all_visits[dian_pup_voxelwise_ecdf_all_visits.visitNumber == 1].loc[sub, 'DIAN_EYO']\n",
    "        dian_eyo_t2 = dian_pup_voxelwise_ecdf_all_visits[dian_pup_voxelwise_ecdf_all_visits.visitNumber == 2].loc[sub, 'DIAN_EYO']\n",
    "        dian_eyo_t3 = dian_pup_voxelwise_ecdf_all_visits[dian_pup_voxelwise_ecdf_all_visits.visitNumber == 3].loc[sub, 'DIAN_EYO']\n",
    "        \n",
    "        ab_prob_gantt_df.loc[idx, 'Task'] = sub \n",
    "        ab_prob_gantt_df.loc[idx, 'Mutation'] = dian_pup_voxelwise_ecdf_all_visits.loc[sub, 'Mutation'].values[0]\n",
    "        ab_prob_gantt_df.loc[idx, 'Start'] = dian_eyo_t1\n",
    "        ab_prob_gantt_df.loc[idx, 'Finish'] = dian_eyo_t2\n",
    "        ab_prob_gantt_df.loc[idx, 'Complete'] = avg_prob_t2 - avg_prob_t1\n",
    "        ab_prob_gantt_df.loc[idx, 'Duration'] = ab_prob_gantt_df.loc[idx, 'Finish'] - ab_prob_gantt_df.loc[idx, 'Start']\n",
    "        \n",
    "        \n",
    "        idx += 1 \n",
    "        ab_prob_gantt_df.loc[idx, 'Task'] = sub \n",
    "        ab_prob_gantt_df.loc[idx, 'Mutation'] = dian_pup_voxelwise_ecdf_all_visits.loc[sub, 'Mutation'].values[0]\n",
    "        ab_prob_gantt_df.loc[idx, 'Start'] = dian_eyo_t2\n",
    "        ab_prob_gantt_df.loc[idx, 'Finish'] = dian_eyo_t3\n",
    "        ab_prob_gantt_df.loc[idx, 'Complete'] = avg_prob_t3 - avg_prob_t2\n",
    "        ab_prob_gantt_df.loc[idx, 'Duration'] = ab_prob_gantt_df.loc[idx, 'Finish'] - ab_prob_gantt_df.loc[idx, 'Start']\n",
    "        \n",
    "        idx += 1"
   ]
  },
  {
   "cell_type": "code",
   "execution_count": 184,
   "metadata": {},
   "outputs": [
    {
     "data": {
      "text/plain": [
       "293IV5    0.004674\n",
       "293IV5    0.000353\n",
       "293IV5    0.000000\n",
       "Name: Left Posterior cingulate, dtype: float64"
      ]
     },
     "execution_count": 184,
     "metadata": {},
     "output_type": "execute_result"
    }
   ],
   "source": [
    "dian_pup_voxelwise_ecdf_all_visits.loc['293IV5', 'Left Posterior cingulate']"
   ]
  },
  {
   "cell_type": "code",
   "execution_count": 183,
   "metadata": {},
   "outputs": [
    {
     "data": {
      "text/html": [
       "<div>\n",
       "<style scoped>\n",
       "    .dataframe tbody tr th:only-of-type {\n",
       "        vertical-align: middle;\n",
       "    }\n",
       "\n",
       "    .dataframe tbody tr th {\n",
       "        vertical-align: top;\n",
       "    }\n",
       "\n",
       "    .dataframe thead th {\n",
       "        text-align: right;\n",
       "    }\n",
       "</style>\n",
       "<table border=\"1\" class=\"dataframe\">\n",
       "  <thead>\n",
       "    <tr style=\"text-align: right;\">\n",
       "      <th></th>\n",
       "      <th>Task</th>\n",
       "      <th>Start</th>\n",
       "      <th>Finish</th>\n",
       "      <th>Complete</th>\n",
       "      <th>Mutation</th>\n",
       "      <th>Duration</th>\n",
       "    </tr>\n",
       "  </thead>\n",
       "  <tbody>\n",
       "    <tr>\n",
       "      <th>0</th>\n",
       "      <td>293IV5</td>\n",
       "      <td>-20.5849</td>\n",
       "      <td>-17.4041</td>\n",
       "      <td>-0.00131574</td>\n",
       "      <td>0.0</td>\n",
       "      <td>3.180822</td>\n",
       "    </tr>\n",
       "    <tr>\n",
       "      <th>1</th>\n",
       "      <td>293IV5</td>\n",
       "      <td>-17.4041</td>\n",
       "      <td>-15.509</td>\n",
       "      <td>-0.000539972</td>\n",
       "      <td>0.0</td>\n",
       "      <td>1.895134</td>\n",
       "    </tr>\n",
       "    <tr>\n",
       "      <th>2</th>\n",
       "      <td>4LLB2T</td>\n",
       "      <td>1.48361</td>\n",
       "      <td>3.6275</td>\n",
       "      <td>-0.00467785</td>\n",
       "      <td>1.0</td>\n",
       "      <td>2.143896</td>\n",
       "    </tr>\n",
       "    <tr>\n",
       "      <th>3</th>\n",
       "      <td>4LLB2T</td>\n",
       "      <td>3.6275</td>\n",
       "      <td>5.52459</td>\n",
       "      <td>0.116123</td>\n",
       "      <td>1.0</td>\n",
       "      <td>1.897088</td>\n",
       "    </tr>\n",
       "    <tr>\n",
       "      <th>4</th>\n",
       "      <td>5FZWKH</td>\n",
       "      <td>-21.1134</td>\n",
       "      <td>-18.0887</td>\n",
       "      <td>1.73286e-05</td>\n",
       "      <td>1.0</td>\n",
       "      <td>3.024658</td>\n",
       "    </tr>\n",
       "    <tr>\n",
       "      <th>...</th>\n",
       "      <td>...</td>\n",
       "      <td>...</td>\n",
       "      <td>...</td>\n",
       "      <td>...</td>\n",
       "      <td>...</td>\n",
       "      <td>...</td>\n",
       "    </tr>\n",
       "    <tr>\n",
       "      <th>277</th>\n",
       "      <td>V24NB2</td>\n",
       "      <td>-17.7801</td>\n",
       "      <td>-15.6142</td>\n",
       "      <td>0</td>\n",
       "      <td>0.0</td>\n",
       "      <td>2.165985</td>\n",
       "    </tr>\n",
       "    <tr>\n",
       "      <th>278</th>\n",
       "      <td>VMGRO8</td>\n",
       "      <td>-9.29472</td>\n",
       "      <td>-6.29198</td>\n",
       "      <td>-0.000344269</td>\n",
       "      <td>1.0</td>\n",
       "      <td>3.002740</td>\n",
       "    </tr>\n",
       "    <tr>\n",
       "      <th>279</th>\n",
       "      <td>VMGRO8</td>\n",
       "      <td>-6.29198</td>\n",
       "      <td>-4.28193</td>\n",
       "      <td>-8.29247e-05</td>\n",
       "      <td>1.0</td>\n",
       "      <td>2.010046</td>\n",
       "    </tr>\n",
       "    <tr>\n",
       "      <th>280</th>\n",
       "      <td>XJCYRZ</td>\n",
       "      <td>-16.2664</td>\n",
       "      <td>-13.1431</td>\n",
       "      <td>5.02696e-05</td>\n",
       "      <td>0.0</td>\n",
       "      <td>3.123288</td>\n",
       "    </tr>\n",
       "    <tr>\n",
       "      <th>281</th>\n",
       "      <td>XJCYRZ</td>\n",
       "      <td>-13.1431</td>\n",
       "      <td>-11.1952</td>\n",
       "      <td>-5.02696e-05</td>\n",
       "      <td>0.0</td>\n",
       "      <td>1.947945</td>\n",
       "    </tr>\n",
       "  </tbody>\n",
       "</table>\n",
       "<p>282 rows × 6 columns</p>\n",
       "</div>"
      ],
      "text/plain": [
       "       Task    Start   Finish     Complete  Mutation  Duration\n",
       "0    293IV5 -20.5849 -17.4041  -0.00131574       0.0  3.180822\n",
       "1    293IV5 -17.4041  -15.509 -0.000539972       0.0  1.895134\n",
       "2    4LLB2T  1.48361   3.6275  -0.00467785       1.0  2.143896\n",
       "3    4LLB2T   3.6275  5.52459     0.116123       1.0  1.897088\n",
       "4    5FZWKH -21.1134 -18.0887  1.73286e-05       1.0  3.024658\n",
       "..      ...      ...      ...          ...       ...       ...\n",
       "277  V24NB2 -17.7801 -15.6142            0       0.0  2.165985\n",
       "278  VMGRO8 -9.29472 -6.29198 -0.000344269       1.0  3.002740\n",
       "279  VMGRO8 -6.29198 -4.28193 -8.29247e-05       1.0  2.010046\n",
       "280  XJCYRZ -16.2664 -13.1431  5.02696e-05       0.0  3.123288\n",
       "281  XJCYRZ -13.1431 -11.1952 -5.02696e-05       0.0  1.947945\n",
       "\n",
       "[282 rows x 6 columns]"
      ]
     },
     "execution_count": 183,
     "metadata": {},
     "output_type": "execute_result"
    }
   ],
   "source": [
    "ab_prob_gantt_df"
   ]
  },
  {
   "cell_type": "code",
   "execution_count": 175,
   "metadata": {},
   "outputs": [],
   "source": [
    "def ab_eyo_gantt_plot(df, mut_status, minn=-0.15): \n",
    "    df_sorted = df[ab_prob_gantt_df.Mutation == mut_status].sort_values(\"Start\", ascending=False)\n",
    "    # set colour map\n",
    "    cmap = px.colors.diverging.balance\n",
    "\n",
    "    ind0 = df_sorted.index[0]\n",
    "\n",
    "    fig = go.Figure()\n",
    "    minn = minn\n",
    "    maxx = -minn\n",
    "\n",
    "    for idx, row in df_sorted.iterrows():\n",
    "\n",
    "        # Potential Update: change opacity based on AB proba at start of bar\n",
    "        # then, potentially, colour bars by normalized change (i.e. change / start proba)\n",
    "        alpha = 1 # opacity\n",
    "        \n",
    "        # Set colour bin from value -> map\n",
    "        c = int(np.floor(len(cmap)*(row.Complete - minn) / (maxx - minn)))\n",
    "\n",
    "        # Make sure c is a valid index ... i.e. [ 0, len(cmap) ) \n",
    "        c = len(cmap) - 1 if c >= len(cmap) else c\n",
    "        c = 0 if c < 0 else c\n",
    "\n",
    "        # Only add colourbar one a single bar (its the same)\n",
    "        if idx == ind0:\n",
    "            marker = {\"cmin\": minn,\n",
    "                      \"cmax\": maxx,\n",
    "                      \"showscale\": True,\n",
    "                      \"color\": cmap[c],\n",
    "                      \"opacity\": alpha,\n",
    "                      \"colorscale\": cmap}\n",
    "        else:\n",
    "            marker={\"color\": cmap[c],\n",
    "                    \"opacity\": alpha,\n",
    "                    \"cmin\": minn,\n",
    "                    \"cmax\": maxx}\n",
    "\n",
    "        # Add bar plot trace\n",
    "        fig.add_trace(go.Bar(x0=row.Duration,\n",
    "                             base=[row.Start],\n",
    "                             y=[row.Task],\n",
    "                             orientation='h',\n",
    "                             marker=marker,\n",
    "                             hovertext=row.Complete,\n",
    "                             width=1))\n",
    "\n",
    "    if mut_status == 1: \n",
    "        mut_status = \"Mutation Carriers\"\n",
    "    else: \n",
    "        mut_status = \"Noncarriers\"\n",
    "        \n",
    "    fig.update_layout(showlegend=False, plot_bgcolor='rgb(255,255,255)',\n",
    "                      title=\"AB Deposition Change Between Visits (\" + mut_status + \")\",\n",
    "                      \n",
    "                      yaxis={\"title\": \"Subject\", \"tickvals\": []},\n",
    "                      xaxis={\"title\": \"Estimated Years to Symptom Onset\"})\n",
    "    fig.show()"
   ]
  },
  {
   "cell_type": "code",
   "execution_count": 180,
   "metadata": {},
   "outputs": [
    {
     "data": {
      "text/plain": [
       "<matplotlib.axes._subplots.AxesSubplot at 0x12e8c6a90>"
      ]
     },
     "execution_count": 180,
     "metadata": {},
     "output_type": "execute_result"
    },
    {
     "data": {
      "image/png": "[encoded data removed]",
      "text/plain": [
       "<Figure size 432x288 with 1 Axes>"
      ]
     },
     "metadata": {
      "needs_background": "light"
     },
     "output_type": "display_data"
    }
   ],
   "source": [
    "sns.distplot(ab_prob_gantt_df[ab_prob_gantt_df.Mutation == 1].Complete, kde=False)"
   ]
  },
  {
   "cell_type": "code",
   "execution_count": 181,
   "metadata": {},
   "outputs": [
    {
     "data": {
      "application/vnd.plotly.v1+json": {
       "config": {
        "plotlyServerURL": "https://plot.ly"
       },
       "data": [
        {
         "base": [
          11.156844315999999
         ],
         "hovertext": "-0.04754737314540791",
         "marker": {
          "cmax": 0.25,
          "cmin": -0.25,
          "color": "rgb(142, 181, 194)",
          "colorscale": [
           [
            0,
            "rgb(23, 28, 66)"
           ],
           [
            0.09090909090909091,
            "rgb(41, 58, 143)"
           ],
           [
            0.18181818181818182,
            "rgb(11, 102, 189)"
           ],
           [
            0.2727272727272727,
            "rgb(69, 144, 185)"
           ],
           [
            0.36363636363636365,
            "rgb(142, 181, 194)"
           ],
           [
            0.45454545454545453,
            "rgb(210, 216, 219)"
           ],
           [
            0.5454545454545454,
            "rgb(230, 210, 204)"
           ],
           [
            0.6363636363636364,
            "rgb(213, 157, 137)"
           ],
           [
            0.7272727272727273,
            "rgb(196, 101, 72)"
           ],
           [
            0.8181818181818182,
            "rgb(172, 43, 36)"
           ],
           [
            0.9090909090909091,
            "rgb(120, 14, 40)"
           ],
           [
            1,
            "rgb(60, 9, 17)"
           ]
          ],
          "opacity": 1,
          "showscale": true
         },
         "orientation": "h",
         "type": "bar",
         "width": 1,
         "x0": 1.9364248820000007,
         "y": [
          "OI1VHG"
         ]
        },
        {
         "base": [
          11.156844315999999
         ],
         "hovertext": "-0.04754737314540791",
         "marker": {
          "cmax": 0.25,
          "cmin": -0.25,
          "color": "rgb(142, 181, 194)",
          "opacity": 1
         },
         "orientation": "h",
         "type": "bar",
         "width": 1,
         "x0": 1.9364248820000007,
         "y": [
          "OI1VHG"
         ]
        },
        {
         "base": [
          11.156844315999999
         ],
         "hovertext": "-0.04754737314540791",
         "marker": {
          "cmax": 0.25,
          "cmin": -0.25,
          "color": "rgb(142, 181, 194)",
          "opacity": 1
         },
         "orientation": "h",
         "type": "bar",
         "width": 1,
         "x0": 1.9364248820000007,
         "y": [
          "OI1VHG"
         ]
        },
        {
         "base": [
          10.498046261
         ],
         "hovertext": "0.001864817475306646",
         "marker": {
          "cmax": 0.25,
          "cmin": -0.25,
          "color": "rgb(230, 210, 204)",
          "opacity": 1
         },
         "orientation": "h",
         "type": "bar",
         "width": 1,
         "x0": 1.1178082189999987,
         "y": [
          "MI97B5"
         ]
        },
        {
         "base": [
          10.498046261
         ],
         "hovertext": "0.001864817475306646",
         "marker": {
          "cmax": 0.25,
          "cmin": -0.25,
          "color": "rgb(230, 210, 204)",
          "opacity": 1
         },
         "orientation": "h",
         "type": "bar",
         "width": 1,
         "x0": 1.1178082189999987,
         "y": [
          "MI97B5"
         ]
        },
        {
         "base": [
          10.498046261
         ],
         "hovertext": "0.001864817475306646",
         "marker": {
          "cmax": 0.25,
          "cmin": -0.25,
          "color": "rgb(230, 210, 204)",
          "opacity": 1
         },
         "orientation": "h",
         "type": "bar",
         "width": 1,
         "x0": 1.1178082189999987,
         "y": [
          "MI97B5"
         ]
        },
        {
         "base": [
          9.7309229733
         ],
         "hovertext": "-0.05082633476760706",
         "marker": {
          "cmax": 0.25,
          "cmin": -0.25,
          "color": "rgb(142, 181, 194)",
          "opacity": 1
         },
         "orientation": "h",
         "type": "bar",
         "width": 1,
         "x0": 1.0164383557,
         "y": [
          "D6TIH6"
         ]
        },
        {
         "base": [
          9.7309229733
         ],
         "hovertext": "-0.05082633476760706",
         "marker": {
          "cmax": 0.25,
          "cmin": -0.25,
          "color": "rgb(142, 181, 194)",
          "opacity": 1
         },
         "orientation": "h",
         "type": "bar",
         "width": 1,
         "x0": 1.0164383557,
         "y": [
          "D6TIH6"
         ]
        },
        {
         "base": [
          9.7309229733
         ],
         "hovertext": "-0.05082633476760706",
         "marker": {
          "cmax": 0.25,
          "cmin": -0.25,
          "color": "rgb(142, 181, 194)",
          "opacity": 1
         },
         "orientation": "h",
         "type": "bar",
         "width": 1,
         "x0": 1.0164383557,
         "y": [
          "D6TIH6"
         ]
        },
        {
         "base": [
          8.689827082899999
         ],
         "hovertext": "-0.11302540788569354",
         "marker": {
          "cmax": 0.25,
          "cmin": -0.25,
          "color": "rgb(69, 144, 185)",
          "opacity": 1
         },
         "orientation": "h",
         "type": "bar",
         "width": 1,
         "x0": 1.0410958904000012,
         "y": [
          "D6TIH6"
         ]
        },
        {
         "base": [
          8.689827082899999
         ],
         "hovertext": "-0.11302540788569354",
         "marker": {
          "cmax": 0.25,
          "cmin": -0.25,
          "color": "rgb(69, 144, 185)",
          "opacity": 1
         },
         "orientation": "h",
         "type": "bar",
         "width": 1,
         "x0": 1.0410958904000012,
         "y": [
          "D6TIH6"
         ]
        },
        {
         "base": [
          8.689827082899999
         ],
         "hovertext": "-0.11302540788569354",
         "marker": {
          "cmax": 0.25,
          "cmin": -0.25,
          "color": "rgb(69, 144, 185)",
          "opacity": 1
         },
         "orientation": "h",
         "type": "bar",
         "width": 1,
         "x0": 1.0410958904000012,
         "y": [
          "D6TIH6"
         ]
        },
        {
         "base": [
          8.0910908909
         ],
         "hovertext": "0.03346855969757123",
         "marker": {
          "cmax": 0.25,
          "cmin": -0.25,
          "color": "rgb(230, 210, 204)",
          "opacity": 1
         },
         "orientation": "h",
         "type": "bar",
         "width": 1,
         "x0": 3.0657534250999987,
         "y": [
          "OI1VHG"
         ]
        },
        {
         "base": [
          8.0910908909
         ],
         "hovertext": "0.03346855969757123",
         "marker": {
          "cmax": 0.25,
          "cmin": -0.25,
          "color": "rgb(230, 210, 204)",
          "opacity": 1
         },
         "orientation": "h",
         "type": "bar",
         "width": 1,
         "x0": 3.0657534250999987,
         "y": [
          "OI1VHG"
         ]
        },
        {
         "base": [
          8.0910908909
         ],
         "hovertext": "0.03346855969757123",
         "marker": {
          "cmax": 0.25,
          "cmin": -0.25,
          "color": "rgb(230, 210, 204)",
          "opacity": 1
         },
         "orientation": "h",
         "type": "bar",
         "width": 1,
         "x0": 3.0657534250999987,
         "y": [
          "OI1VHG"
         ]
        },
        {
         "base": [
          7.596347032000001
         ],
         "hovertext": "-0.0018077813276340692",
         "marker": {
          "cmax": 0.25,
          "cmin": -0.25,
          "color": "rgb(210, 216, 219)",
          "opacity": 1
         },
         "orientation": "h",
         "type": "bar",
         "width": 1,
         "x0": 0.9972602739000003,
         "y": [
          "UG9MGL"
         ]
        },
        {
         "base": [
          7.596347032000001
         ],
         "hovertext": "-0.0018077813276340692",
         "marker": {
          "cmax": 0.25,
          "cmin": -0.25,
          "color": "rgb(210, 216, 219)",
          "opacity": 1
         },
         "orientation": "h",
         "type": "bar",
         "width": 1,
         "x0": 0.9972602739000003,
         "y": [
          "UG9MGL"
         ]
        },
        {
         "base": [
          7.596347032000001
         ],
         "hovertext": "-0.0018077813276340692",
         "marker": {
          "cmax": 0.25,
          "cmin": -0.25,
          "color": "rgb(210, 216, 219)",
          "opacity": 1
         },
         "orientation": "h",
         "type": "bar",
         "width": 1,
         "x0": 0.9972602739000003,
         "y": [
          "UG9MGL"
         ]
        },
        {
         "base": [
          7.5911969459
         ],
         "hovertext": "-0.036561503331639766",
         "marker": {
          "cmax": 0.25,
          "cmin": -0.25,
          "color": "rgb(210, 216, 219)",
          "opacity": 1
         },
         "orientation": "h",
         "type": "bar",
         "width": 1,
         "x0": 2.9068493151000006,
         "y": [
          "MI97B5"
         ]
        },
        {
         "base": [
          7.5911969459
         ],
         "hovertext": "-0.036561503331639766",
         "marker": {
          "cmax": 0.25,
          "cmin": -0.25,
          "color": "rgb(210, 216, 219)",
          "opacity": 1
         },
         "orientation": "h",
         "type": "bar",
         "width": 1,
         "x0": 2.9068493151000006,
         "y": [
          "MI97B5"
         ]
        },
        {
         "base": [
          7.5911969459
         ],
         "hovertext": "-0.036561503331639766",
         "marker": {
          "cmax": 0.25,
          "cmin": -0.25,
          "color": "rgb(210, 216, 219)",
          "opacity": 1
         },
         "orientation": "h",
         "type": "bar",
         "width": 1,
         "x0": 2.9068493151000006,
         "y": [
          "MI97B5"
         ]
        },
        {
         "base": [
          6.9856164384
         ],
         "hovertext": "0.061301642894622144",
         "marker": {
          "cmax": 0.25,
          "cmin": -0.25,
          "color": "rgb(213, 157, 137)",
          "opacity": 1
         },
         "orientation": "h",
         "type": "bar",
         "width": 1,
         "x0": 1.1076427876000006,
         "y": [
          "L2YDAS"
         ]
        },
        {
         "base": [
          6.9856164384
         ],
         "hovertext": "0.061301642894622144",
         "marker": {
          "cmax": 0.25,
          "cmin": -0.25,
          "color": "rgb(213, 157, 137)",
          "opacity": 1
         },
         "orientation": "h",
         "type": "bar",
         "width": 1,
         "x0": 1.1076427876000006,
         "y": [
          "L2YDAS"
         ]
        },
        {
         "base": [
          6.9856164384
         ],
         "hovertext": "0.061301642894622144",
         "marker": {
          "cmax": 0.25,
          "cmin": -0.25,
          "color": "rgb(213, 157, 137)",
          "opacity": 1
         },
         "orientation": "h",
         "type": "bar",
         "width": 1,
         "x0": 1.1076427876000006,
         "y": [
          "L2YDAS"
         ]
        },
        {
         "base": [
          6.5240437158
         ],
         "hovertext": "-0.0037855717848422257",
         "marker": {
          "cmax": 0.25,
          "cmin": -0.25,
          "color": "rgb(210, 216, 219)",
          "opacity": 1
         },
         "orientation": "h",
         "type": "bar",
         "width": 1,
         "x0": 1.0723033162000002,
         "y": [
          "UG9MGL"
         ]
        },
        {
         "base": [
          6.5240437158
         ],
         "hovertext": "-0.0037855717848422257",
         "marker": {
          "cmax": 0.25,
          "cmin": -0.25,
          "color": "rgb(210, 216, 219)",
          "opacity": 1
         },
         "orientation": "h",
         "type": "bar",
         "width": 1,
         "x0": 1.0723033162000002,
         "y": [
          "UG9MGL"
         ]
        },
        {
         "base": [
          6.5240437158
         ],
         "hovertext": "-0.0037855717848422257",
         "marker": {
          "cmax": 0.25,
          "cmin": -0.25,
          "color": "rgb(210, 216, 219)",
          "opacity": 1
         },
         "orientation": "h",
         "type": "bar",
         "width": 1,
         "x0": 1.0723033162000002,
         "y": [
          "UG9MGL"
         ]
        },
        {
         "base": [
          5.9938356164
         ],
         "hovertext": "-0.004260015311931098",
         "marker": {
          "cmax": 0.25,
          "cmin": -0.25,
          "color": "rgb(210, 216, 219)",
          "opacity": 1
         },
         "orientation": "h",
         "type": "bar",
         "width": 1,
         "x0": 0.991780822,
         "y": [
          "L2YDAS"
         ]
        },
        {
         "base": [
          5.9938356164
         ],
         "hovertext": "-0.004260015311931098",
         "marker": {
          "cmax": 0.25,
          "cmin": -0.25,
          "color": "rgb(210, 216, 219)",
          "opacity": 1
         },
         "orientation": "h",
         "type": "bar",
         "width": 1,
         "x0": 0.991780822,
         "y": [
          "L2YDAS"
         ]
        },
        {
         "base": [
          5.9938356164
         ],
         "hovertext": "-0.004260015311931098",
         "marker": {
          "cmax": 0.25,
          "cmin": -0.25,
          "color": "rgb(210, 216, 219)",
          "opacity": 1
         },
         "orientation": "h",
         "type": "bar",
         "width": 1,
         "x0": 0.991780822,
         "y": [
          "L2YDAS"
         ]
        },
        {
         "base": [
          5.9881278539
         ],
         "hovertext": "0.05259839887760975",
         "marker": {
          "cmax": 0.25,
          "cmin": -0.25,
          "color": "rgb(213, 157, 137)",
          "opacity": 1
         },
         "orientation": "h",
         "type": "bar",
         "width": 1,
         "x0": 2.3788008083999994,
         "y": [
          "DQW9BD"
         ]
        },
        {
         "base": [
          5.9881278539
         ],
         "hovertext": "0.05259839887760975",
         "marker": {
          "cmax": 0.25,
          "cmin": -0.25,
          "color": "rgb(213, 157, 137)",
          "opacity": 1
         },
         "orientation": "h",
         "type": "bar",
         "width": 1,
         "x0": 2.3788008083999994,
         "y": [
          "DQW9BD"
         ]
        },
        {
         "base": [
          5.9881278539
         ],
         "hovertext": "0.05259839887760975",
         "marker": {
          "cmax": 0.25,
          "cmin": -0.25,
          "color": "rgb(213, 157, 137)",
          "opacity": 1
         },
         "orientation": "h",
         "type": "bar",
         "width": 1,
         "x0": 2.3788008083999994,
         "y": [
          "DQW9BD"
         ]
        },
        {
         "base": [
          5.768590463400001
         ],
         "hovertext": "0.10405688407561542",
         "marker": {
          "cmax": 0.25,
          "cmin": -0.25,
          "color": "rgb(196, 101, 72)",
          "opacity": 1
         },
         "orientation": "h",
         "type": "bar",
         "width": 1,
         "x0": 2.0684931505999993,
         "y": [
          "F9Y8XT"
         ]
        },
        {
         "base": [
          5.768590463400001
         ],
         "hovertext": "0.10405688407561542",
         "marker": {
          "cmax": 0.25,
          "cmin": -0.25,
          "color": "rgb(196, 101, 72)",
          "opacity": 1
         },
         "orientation": "h",
         "type": "bar",
         "width": 1,
         "x0": 2.0684931505999993,
         "y": [
          "F9Y8XT"
         ]
        },
        {
         "base": [
          5.768590463400001
         ],
         "hovertext": "0.10405688407561542",
         "marker": {
          "cmax": 0.25,
          "cmin": -0.25,
          "color": "rgb(196, 101, 72)",
          "opacity": 1
         },
         "orientation": "h",
         "type": "bar",
         "width": 1,
         "x0": 2.0684931505999993,
         "y": [
          "F9Y8XT"
         ]
        },
        {
         "base": [
          4.9315068493
         ],
         "hovertext": "0.025608807427533353",
         "marker": {
          "cmax": 0.25,
          "cmin": -0.25,
          "color": "rgb(230, 210, 204)",
          "opacity": 1
         },
         "orientation": "h",
         "type": "bar",
         "width": 1,
         "x0": 0.9972602740000003,
         "y": [
          "G3RZYE"
         ]
        },
        {
         "base": [
          4.9315068493
         ],
         "hovertext": "0.025608807427533353",
         "marker": {
          "cmax": 0.25,
          "cmin": -0.25,
          "color": "rgb(230, 210, 204)",
          "opacity": 1
         },
         "orientation": "h",
         "type": "bar",
         "width": 1,
         "x0": 0.9972602740000003,
         "y": [
          "G3RZYE"
         ]
        },
        {
         "base": [
          4.9315068493
         ],
         "hovertext": "0.025608807427533353",
         "marker": {
          "cmax": 0.25,
          "cmin": -0.25,
          "color": "rgb(230, 210, 204)",
          "opacity": 1
         },
         "orientation": "h",
         "type": "bar",
         "width": 1,
         "x0": 0.9972602740000003,
         "y": [
          "G3RZYE"
         ]
        },
        {
         "base": [
          4.9232876712
         ],
         "hovertext": "-0.0825749824683101",
         "marker": {
          "cmax": 0.25,
          "cmin": -0.25,
          "color": "rgb(142, 181, 194)",
          "opacity": 1
         },
         "orientation": "h",
         "type": "bar",
         "width": 1,
         "x0": 2.261726177100001,
         "y": [
          "HONS3G"
         ]
        },
        {
         "base": [
          4.9232876712
         ],
         "hovertext": "-0.0825749824683101",
         "marker": {
          "cmax": 0.25,
          "cmin": -0.25,
          "color": "rgb(142, 181, 194)",
          "opacity": 1
         },
         "orientation": "h",
         "type": "bar",
         "width": 1,
         "x0": 2.261726177100001,
         "y": [
          "HONS3G"
         ]
        },
        {
         "base": [
          4.9232876712
         ],
         "hovertext": "-0.0825749824683101",
         "marker": {
          "cmax": 0.25,
          "cmin": -0.25,
          "color": "rgb(142, 181, 194)",
          "opacity": 1
         },
         "orientation": "h",
         "type": "bar",
         "width": 1,
         "x0": 2.261726177100001,
         "y": [
          "HONS3G"
         ]
        },
        {
         "base": [
          4.7990867580000005
         ],
         "hovertext": "-0.0447361537551495",
         "marker": {
          "cmax": 0.25,
          "cmin": -0.25,
          "color": "rgb(142, 181, 194)",
          "opacity": 1
         },
         "orientation": "h",
         "type": "bar",
         "width": 1,
         "x0": 1.1890410958999995,
         "y": [
          "DQW9BD"
         ]
        },
        {
         "base": [
          4.7990867580000005
         ],
         "hovertext": "-0.0447361537551495",
         "marker": {
          "cmax": 0.25,
          "cmin": -0.25,
          "color": "rgb(142, 181, 194)",
          "opacity": 1
         },
         "orientation": "h",
         "type": "bar",
         "width": 1,
         "x0": 1.1890410958999995,
         "y": [
          "DQW9BD"
         ]
        },
        {
         "base": [
          4.7990867580000005
         ],
         "hovertext": "-0.0447361537551495",
         "marker": {
          "cmax": 0.25,
          "cmin": -0.25,
          "color": "rgb(142, 181, 194)",
          "opacity": 1
         },
         "orientation": "h",
         "type": "bar",
         "width": 1,
         "x0": 1.1890410958999995,
         "y": [
          "DQW9BD"
         ]
        },
        {
         "base": [
          4.501369863
         ],
         "hovertext": "-0.08005408200650965",
         "marker": {
          "cmax": 0.25,
          "cmin": -0.25,
          "color": "rgb(142, 181, 194)",
          "opacity": 1
         },
         "orientation": "h",
         "type": "bar",
         "width": 1,
         "x0": 2.9945205480000006,
         "y": [
          "8UFV8Z"
         ]
        },
        {
         "base": [
          4.501369863
         ],
         "hovertext": "-0.08005408200650965",
         "marker": {
          "cmax": 0.25,
          "cmin": -0.25,
          "color": "rgb(142, 181, 194)",
          "opacity": 1
         },
         "orientation": "h",
         "type": "bar",
         "width": 1,
         "x0": 2.9945205480000006,
         "y": [
          "8UFV8Z"
         ]
        },
        {
         "base": [
          4.501369863
         ],
         "hovertext": "-0.08005408200650965",
         "marker": {
          "cmax": 0.25,
          "cmin": -0.25,
          "color": "rgb(142, 181, 194)",
          "opacity": 1
         },
         "orientation": "h",
         "type": "bar",
         "width": 1,
         "x0": 2.9945205480000006,
         "y": [
          "8UFV8Z"
         ]
        },
        {
         "base": [
          4.3446141178
         ],
         "hovertext": "-0.005491957882739873",
         "marker": {
          "cmax": 0.25,
          "cmin": -0.25,
          "color": "rgb(210, 216, 219)",
          "opacity": 1
         },
         "orientation": "h",
         "type": "bar",
         "width": 1,
         "x0": 1.0033310877000003,
         "y": [
          "T5QGMH"
         ]
        },
        {
         "base": [
          4.3446141178
         ],
         "hovertext": "-0.005491957882739873",
         "marker": {
          "cmax": 0.25,
          "cmin": -0.25,
          "color": "rgb(210, 216, 219)",
          "opacity": 1
         },
         "orientation": "h",
         "type": "bar",
         "width": 1,
         "x0": 1.0033310877000003,
         "y": [
          "T5QGMH"
         ]
        },
        {
         "base": [
          4.3446141178
         ],
         "hovertext": "-0.005491957882739873",
         "marker": {
          "cmax": 0.25,
          "cmin": -0.25,
          "color": "rgb(210, 216, 219)",
          "opacity": 1
         },
         "orientation": "h",
         "type": "bar",
         "width": 1,
         "x0": 1.0033310877000003,
         "y": [
          "T5QGMH"
         ]
        },
        {
         "base": [
          4.322602739700001
         ],
         "hovertext": "-0.003031672110619943",
         "marker": {
          "cmax": 0.25,
          "cmin": -0.25,
          "color": "rgb(210, 216, 219)",
          "opacity": 1
         },
         "orientation": "h",
         "type": "bar",
         "width": 1,
         "x0": 1.0164383561999992,
         "y": [
          "9HBSN9"
         ]
        },
        {
         "base": [
          4.322602739700001
         ],
         "hovertext": "-0.003031672110619943",
         "marker": {
          "cmax": 0.25,
          "cmin": -0.25,
          "color": "rgb(210, 216, 219)",
          "opacity": 1
         },
         "orientation": "h",
         "type": "bar",
         "width": 1,
         "x0": 1.0164383561999992,
         "y": [
          "9HBSN9"
         ]
        },
        {
         "base": [
          4.322602739700001
         ],
         "hovertext": "-0.003031672110619943",
         "marker": {
          "cmax": 0.25,
          "cmin": -0.25,
          "color": "rgb(210, 216, 219)",
          "opacity": 1
         },
         "orientation": "h",
         "type": "bar",
         "width": 1,
         "x0": 1.0164383561999992,
         "y": [
          "9HBSN9"
         ]
        },
        {
         "base": [
          3.9176959353
         ],
         "hovertext": "0.054246187408198754",
         "marker": {
          "cmax": 0.25,
          "cmin": -0.25,
          "color": "rgb(213, 157, 137)",
          "opacity": 1
         },
         "orientation": "h",
         "type": "bar",
         "width": 1,
         "x0": 1.013810914,
         "y": [
          "G3RZYE"
         ]
        },
        {
         "base": [
          3.9176959353
         ],
         "hovertext": "0.054246187408198754",
         "marker": {
          "cmax": 0.25,
          "cmin": -0.25,
          "color": "rgb(213, 157, 137)",
          "opacity": 1
         },
         "orientation": "h",
         "type": "bar",
         "width": 1,
         "x0": 1.013810914,
         "y": [
          "G3RZYE"
         ]
        },
        {
         "base": [
          3.9176959353
         ],
         "hovertext": "0.054246187408198754",
         "marker": {
          "cmax": 0.25,
          "cmin": -0.25,
          "color": "rgb(213, 157, 137)",
          "opacity": 1
         },
         "orientation": "h",
         "type": "bar",
         "width": 1,
         "x0": 1.013810914,
         "y": [
          "G3RZYE"
         ]
        },
        {
         "base": [
          3.8507822442000004
         ],
         "hovertext": "0.04006622814307048",
         "marker": {
          "cmax": 0.25,
          "cmin": -0.25,
          "color": "rgb(230, 210, 204)",
          "opacity": 1
         },
         "orientation": "h",
         "type": "bar",
         "width": 1,
         "x0": 1.9178082192000003,
         "y": [
          "F9Y8XT"
         ]
        },
        {
         "base": [
          3.8507822442000004
         ],
         "hovertext": "0.04006622814307048",
         "marker": {
          "cmax": 0.25,
          "cmin": -0.25,
          "color": "rgb(230, 210, 204)",
          "opacity": 1
         },
         "orientation": "h",
         "type": "bar",
         "width": 1,
         "x0": 1.9178082192000003,
         "y": [
          "F9Y8XT"
         ]
        },
        {
         "base": [
          3.8507822442000004
         ],
         "hovertext": "0.04006622814307048",
         "marker": {
          "cmax": 0.25,
          "cmin": -0.25,
          "color": "rgb(230, 210, 204)",
          "opacity": 1
         },
         "orientation": "h",
         "type": "bar",
         "width": 1,
         "x0": 1.9178082192000003,
         "y": [
          "F9Y8XT"
         ]
        },
        {
         "base": [
          3.6275020585
         ],
         "hovertext": "0.11612347201947837",
         "marker": {
          "cmax": 0.25,
          "cmin": -0.25,
          "color": "rgb(196, 101, 72)",
          "opacity": 1
         },
         "orientation": "h",
         "type": "bar",
         "width": 1,
         "x0": 1.8970881054,
         "y": [
          "4LLB2T"
         ]
        },
        {
         "base": [
          3.6275020585
         ],
         "hovertext": "0.11612347201947837",
         "marker": {
          "cmax": 0.25,
          "cmin": -0.25,
          "color": "rgb(196, 101, 72)",
          "opacity": 1
         },
         "orientation": "h",
         "type": "bar",
         "width": 1,
         "x0": 1.8970881054,
         "y": [
          "4LLB2T"
         ]
        },
        {
         "base": [
          3.6275020585
         ],
         "hovertext": "0.11612347201947837",
         "marker": {
          "cmax": 0.25,
          "cmin": -0.25,
          "color": "rgb(196, 101, 72)",
          "opacity": 1
         },
         "orientation": "h",
         "type": "bar",
         "width": 1,
         "x0": 1.8970881054,
         "y": [
          "4LLB2T"
         ]
        },
        {
         "base": [
          3.4739726027
         ],
         "hovertext": "-0.10980156917307726",
         "marker": {
          "cmax": 0.25,
          "cmin": -0.25,
          "color": "rgb(69, 144, 185)",
          "opacity": 1
         },
         "orientation": "h",
         "type": "bar",
         "width": 1,
         "x0": 1.0273972603,
         "y": [
          "8UFV8Z"
         ]
        },
        {
         "base": [
          3.4739726027
         ],
         "hovertext": "-0.10980156917307726",
         "marker": {
          "cmax": 0.25,
          "cmin": -0.25,
          "color": "rgb(69, 144, 185)",
          "opacity": 1
         },
         "orientation": "h",
         "type": "bar",
         "width": 1,
         "x0": 1.0273972603,
         "y": [
          "8UFV8Z"
         ]
        },
        {
         "base": [
          3.4739726027
         ],
         "hovertext": "-0.10980156917307726",
         "marker": {
          "cmax": 0.25,
          "cmin": -0.25,
          "color": "rgb(69, 144, 185)",
          "opacity": 1
         },
         "orientation": "h",
         "type": "bar",
         "width": 1,
         "x0": 1.0273972603,
         "y": [
          "8UFV8Z"
         ]
        },
        {
         "base": [
          3.3263979339999996
         ],
         "hovertext": "0.01632264049823373",
         "marker": {
          "cmax": 0.25,
          "cmin": -0.25,
          "color": "rgb(230, 210, 204)",
          "opacity": 1
         },
         "orientation": "h",
         "type": "bar",
         "width": 1,
         "x0": 0.996204805700001,
         "y": [
          "9HBSN9"
         ]
        },
        {
         "base": [
          3.3263979339999996
         ],
         "hovertext": "0.01632264049823373",
         "marker": {
          "cmax": 0.25,
          "cmin": -0.25,
          "color": "rgb(230, 210, 204)",
          "opacity": 1
         },
         "orientation": "h",
         "type": "bar",
         "width": 1,
         "x0": 0.996204805700001,
         "y": [
          "9HBSN9"
         ]
        },
        {
         "base": [
          3.3263979339999996
         ],
         "hovertext": "0.01632264049823373",
         "marker": {
          "cmax": 0.25,
          "cmin": -0.25,
          "color": "rgb(230, 210, 204)",
          "opacity": 1
         },
         "orientation": "h",
         "type": "bar",
         "width": 1,
         "x0": 0.996204805700001,
         "y": [
          "9HBSN9"
         ]
        },
        {
         "base": [
          3.3260273973000003
         ],
         "hovertext": "-0.014621910992252185",
         "marker": {
          "cmax": 0.25,
          "cmin": -0.25,
          "color": "rgb(210, 216, 219)",
          "opacity": 1
         },
         "orientation": "h",
         "type": "bar",
         "width": 1,
         "x0": 1.0185867204999997,
         "y": [
          "T5QGMH"
         ]
        },
        {
         "base": [
          3.3260273973000003
         ],
         "hovertext": "-0.014621910992252185",
         "marker": {
          "cmax": 0.25,
          "cmin": -0.25,
          "color": "rgb(210, 216, 219)",
          "opacity": 1
         },
         "orientation": "h",
         "type": "bar",
         "width": 1,
         "x0": 1.0185867204999997,
         "y": [
          "T5QGMH"
         ]
        },
        {
         "base": [
          3.3260273973000003
         ],
         "hovertext": "-0.014621910992252185",
         "marker": {
          "cmax": 0.25,
          "cmin": -0.25,
          "color": "rgb(210, 216, 219)",
          "opacity": 1
         },
         "orientation": "h",
         "type": "bar",
         "width": 1,
         "x0": 1.0185867204999997,
         "y": [
          "T5QGMH"
         ]
        },
        {
         "base": [
          2.8708061981
         ],
         "hovertext": "0.03552155419282789",
         "marker": {
          "cmax": 0.25,
          "cmin": -0.25,
          "color": "rgb(230, 210, 204)",
          "opacity": 1
         },
         "orientation": "h",
         "type": "bar",
         "width": 1,
         "x0": 2.0524814731,
         "y": [
          "HONS3G"
         ]
        },
        {
         "base": [
          2.8708061981
         ],
         "hovertext": "0.03552155419282789",
         "marker": {
          "cmax": 0.25,
          "cmin": -0.25,
          "color": "rgb(230, 210, 204)",
          "opacity": 1
         },
         "orientation": "h",
         "type": "bar",
         "width": 1,
         "x0": 2.0524814731,
         "y": [
          "HONS3G"
         ]
        },
        {
         "base": [
          2.8708061981
         ],
         "hovertext": "0.03552155419282789",
         "marker": {
          "cmax": 0.25,
          "cmin": -0.25,
          "color": "rgb(230, 210, 204)",
          "opacity": 1
         },
         "orientation": "h",
         "type": "bar",
         "width": 1,
         "x0": 2.0524814731,
         "y": [
          "HONS3G"
         ]
        },
        {
         "base": [
          1.6813683659
         ],
         "hovertext": "0.021024100218874908",
         "marker": {
          "cmax": 0.25,
          "cmin": -0.25,
          "color": "rgb(230, 210, 204)",
          "opacity": 1
         },
         "orientation": "h",
         "type": "bar",
         "width": 1,
         "x0": 1.0145220451,
         "y": [
          "FI05HF"
         ]
        },
        {
         "base": [
          1.6813683659
         ],
         "hovertext": "0.021024100218874908",
         "marker": {
          "cmax": 0.25,
          "cmin": -0.25,
          "color": "rgb(230, 210, 204)",
          "opacity": 1
         },
         "orientation": "h",
         "type": "bar",
         "width": 1,
         "x0": 1.0145220451,
         "y": [
          "FI05HF"
         ]
        },
        {
         "base": [
          1.6813683659
         ],
         "hovertext": "0.021024100218874908",
         "marker": {
          "cmax": 0.25,
          "cmin": -0.25,
          "color": "rgb(230, 210, 204)",
          "opacity": 1
         },
         "orientation": "h",
         "type": "bar",
         "width": 1,
         "x0": 1.0145220451,
         "y": [
          "FI05HF"
         ]
        },
        {
         "base": [
          1.6608316491
         ],
         "hovertext": "-0.05241971149664382",
         "marker": {
          "cmax": 0.25,
          "cmin": -0.25,
          "color": "rgb(142, 181, 194)",
          "opacity": 1
         },
         "orientation": "h",
         "type": "bar",
         "width": 1,
         "x0": 2.202739726,
         "y": [
          "6KLYSA"
         ]
        },
        {
         "base": [
          1.6608316491
         ],
         "hovertext": "-0.05241971149664382",
         "marker": {
          "cmax": 0.25,
          "cmin": -0.25,
          "color": "rgb(142, 181, 194)",
          "opacity": 1
         },
         "orientation": "h",
         "type": "bar",
         "width": 1,
         "x0": 2.202739726,
         "y": [
          "6KLYSA"
         ]
        },
        {
         "base": [
          1.6608316491
         ],
         "hovertext": "-0.05241971149664382",
         "marker": {
          "cmax": 0.25,
          "cmin": -0.25,
          "color": "rgb(142, 181, 194)",
          "opacity": 1
         },
         "orientation": "h",
         "type": "bar",
         "width": 1,
         "x0": 2.202739726,
         "y": [
          "6KLYSA"
         ]
        },
        {
         "base": [
          1.4836065574000001
         ],
         "hovertext": "-0.004677850296922692",
         "marker": {
          "cmax": 0.25,
          "cmin": -0.25,
          "color": "rgb(210, 216, 219)",
          "opacity": 1
         },
         "orientation": "h",
         "type": "bar",
         "width": 1,
         "x0": 2.1438955011000003,
         "y": [
          "4LLB2T"
         ]
        },
        {
         "base": [
          1.4836065574000001
         ],
         "hovertext": "-0.004677850296922692",
         "marker": {
          "cmax": 0.25,
          "cmin": -0.25,
          "color": "rgb(210, 216, 219)",
          "opacity": 1
         },
         "orientation": "h",
         "type": "bar",
         "width": 1,
         "x0": 2.1438955011000003,
         "y": [
          "4LLB2T"
         ]
        },
        {
         "base": [
          1.4836065574000001
         ],
         "hovertext": "-0.004677850296922692",
         "marker": {
          "cmax": 0.25,
          "cmin": -0.25,
          "color": "rgb(210, 216, 219)",
          "opacity": 1
         },
         "orientation": "h",
         "type": "bar",
         "width": 1,
         "x0": 2.1438955011000003,
         "y": [
          "4LLB2T"
         ]
        },
        {
         "base": [
          1.4340508806
         ],
         "hovertext": "-0.0003441245382119774",
         "marker": {
          "cmax": 0.25,
          "cmin": -0.25,
          "color": "rgb(210, 216, 219)",
          "opacity": 1
         },
         "orientation": "h",
         "type": "bar",
         "width": 1,
         "x0": 1.9388576989999997,
         "y": [
          "JQ8KSL"
         ]
        },
        {
         "base": [
          1.4340508806
         ],
         "hovertext": "-0.0003441245382119774",
         "marker": {
          "cmax": 0.25,
          "cmin": -0.25,
          "color": "rgb(210, 216, 219)",
          "opacity": 1
         },
         "orientation": "h",
         "type": "bar",
         "width": 1,
         "x0": 1.9388576989999997,
         "y": [
          "JQ8KSL"
         ]
        },
        {
         "base": [
          1.4340508806
         ],
         "hovertext": "-0.0003441245382119774",
         "marker": {
          "cmax": 0.25,
          "cmin": -0.25,
          "color": "rgb(210, 216, 219)",
          "opacity": 1
         },
         "orientation": "h",
         "type": "bar",
         "width": 1,
         "x0": 1.9388576989999997,
         "y": [
          "JQ8KSL"
         ]
        },
        {
         "base": [
          0.9524130335
         ],
         "hovertext": "-1.0007505629221915e-05",
         "marker": {
          "cmax": 0.25,
          "cmin": -0.25,
          "color": "rgb(210, 216, 219)",
          "opacity": 1
         },
         "orientation": "h",
         "type": "bar",
         "width": 1,
         "x0": 1.7625720488,
         "y": [
          "1BVPA1"
         ]
        },
        {
         "base": [
          0.9524130335
         ],
         "hovertext": "-1.0007505629221915e-05",
         "marker": {
          "cmax": 0.25,
          "cmin": -0.25,
          "color": "rgb(210, 216, 219)",
          "opacity": 1
         },
         "orientation": "h",
         "type": "bar",
         "width": 1,
         "x0": 1.7625720488,
         "y": [
          "1BVPA1"
         ]
        },
        {
         "base": [
          0.9524130335
         ],
         "hovertext": "-1.0007505629221915e-05",
         "marker": {
          "cmax": 0.25,
          "cmin": -0.25,
          "color": "rgb(210, 216, 219)",
          "opacity": 1
         },
         "orientation": "h",
         "type": "bar",
         "width": 1,
         "x0": 1.7625720488,
         "y": [
          "1BVPA1"
         ]
        },
        {
         "base": [
          0.9049554606999999
         ],
         "hovertext": "0.09401408960377286",
         "marker": {
          "cmax": 0.25,
          "cmin": -0.25,
          "color": "rgb(196, 101, 72)",
          "opacity": 1
         },
         "orientation": "h",
         "type": "bar",
         "width": 1,
         "x0": 0.8073733064000002,
         "y": [
          "UN9628"
         ]
        },
        {
         "base": [
          0.9049554606999999
         ],
         "hovertext": "0.09401408960377286",
         "marker": {
          "cmax": 0.25,
          "cmin": -0.25,
          "color": "rgb(196, 101, 72)",
          "opacity": 1
         },
         "orientation": "h",
         "type": "bar",
         "width": 1,
         "x0": 0.8073733064000002,
         "y": [
          "UN9628"
         ]
        },
        {
         "base": [
          0.9049554606999999
         ],
         "hovertext": "0.09401408960377286",
         "marker": {
          "cmax": 0.25,
          "cmin": -0.25,
          "color": "rgb(196, 101, 72)",
          "opacity": 1
         },
         "orientation": "h",
         "type": "bar",
         "width": 1,
         "x0": 0.8073733064000002,
         "y": [
          "UN9628"
         ]
        },
        {
         "base": [
          0.8767123287999999
         ],
         "hovertext": "0.010128590133757776",
         "marker": {
          "cmax": 0.25,
          "cmin": -0.25,
          "color": "rgb(230, 210, 204)",
          "opacity": 1
         },
         "orientation": "h",
         "type": "bar",
         "width": 1,
         "x0": 1.0191780821999998,
         "y": [
          "SOACBP"
         ]
        },
        {
         "base": [
          0.8767123287999999
         ],
         "hovertext": "0.010128590133757776",
         "marker": {
          "cmax": 0.25,
          "cmin": -0.25,
          "color": "rgb(230, 210, 204)",
          "opacity": 1
         },
         "orientation": "h",
         "type": "bar",
         "width": 1,
         "x0": 1.0191780821999998,
         "y": [
          "SOACBP"
         ]
        },
        {
         "base": [
          0.8767123287999999
         ],
         "hovertext": "0.010128590133757776",
         "marker": {
          "cmax": 0.25,
          "cmin": -0.25,
          "color": "rgb(230, 210, 204)",
          "opacity": 1
         },
         "orientation": "h",
         "type": "bar",
         "width": 1,
         "x0": 1.0191780821999998,
         "y": [
          "SOACBP"
         ]
        },
        {
         "base": [
          0.8306010929000001
         ],
         "hovertext": "0.050024869472833466",
         "marker": {
          "cmax": 0.25,
          "cmin": -0.25,
          "color": "rgb(213, 157, 137)",
          "opacity": 1
         },
         "orientation": "h",
         "type": "bar",
         "width": 1,
         "x0": 0.9242907402999998,
         "y": [
          "B93NRI"
         ]
        },
        {
         "base": [
          0.8306010929000001
         ],
         "hovertext": "0.050024869472833466",
         "marker": {
          "cmax": 0.25,
          "cmin": -0.25,
          "color": "rgb(213, 157, 137)",
          "opacity": 1
         },
         "orientation": "h",
         "type": "bar",
         "width": 1,
         "x0": 0.9242907402999998,
         "y": [
          "B93NRI"
         ]
        },
        {
         "base": [
          0.8306010929000001
         ],
         "hovertext": "0.050024869472833466",
         "marker": {
          "cmax": 0.25,
          "cmin": -0.25,
          "color": "rgb(213, 157, 137)",
          "opacity": 1
         },
         "orientation": "h",
         "type": "bar",
         "width": 1,
         "x0": 0.9242907402999998,
         "y": [
          "B93NRI"
         ]
        },
        {
         "base": [
          0.662568306
         ],
         "hovertext": "0.059246619725348726",
         "marker": {
          "cmax": 0.25,
          "cmin": -0.25,
          "color": "rgb(213, 157, 137)",
          "opacity": 1
         },
         "orientation": "h",
         "type": "bar",
         "width": 1,
         "x0": 0.9982633430999999,
         "y": [
          "6KLYSA"
         ]
        },
        {
         "base": [
          0.662568306
         ],
         "hovertext": "0.059246619725348726",
         "marker": {
          "cmax": 0.25,
          "cmin": -0.25,
          "color": "rgb(213, 157, 137)",
          "opacity": 1
         },
         "orientation": "h",
         "type": "bar",
         "width": 1,
         "x0": 0.9982633430999999,
         "y": [
          "6KLYSA"
         ]
        },
        {
         "base": [
          0.662568306
         ],
         "hovertext": "0.059246619725348726",
         "marker": {
          "cmax": 0.25,
          "cmin": -0.25,
          "color": "rgb(213, 157, 137)",
          "opacity": 1
         },
         "orientation": "h",
         "type": "bar",
         "width": 1,
         "x0": 0.9982633430999999,
         "y": [
          "6KLYSA"
         ]
        },
        {
         "base": [
          0.4313571375
         ],
         "hovertext": "-0.007331011247851484",
         "marker": {
          "cmax": 0.25,
          "cmin": -0.25,
          "color": "rgb(210, 216, 219)",
          "opacity": 1
         },
         "orientation": "h",
         "type": "bar",
         "width": 1,
         "x0": 1.0590538213999998,
         "y": [
          "Q4W4NR"
         ]
        },
        {
         "base": [
          0.4313571375
         ],
         "hovertext": "-0.007331011247851484",
         "marker": {
          "cmax": 0.25,
          "cmin": -0.25,
          "color": "rgb(210, 216, 219)",
          "opacity": 1
         },
         "orientation": "h",
         "type": "bar",
         "width": 1,
         "x0": 1.0590538213999998,
         "y": [
          "Q4W4NR"
         ]
        },
        {
         "base": [
          0.4313571375
         ],
         "hovertext": "-0.007331011247851484",
         "marker": {
          "cmax": 0.25,
          "cmin": -0.25,
          "color": "rgb(210, 216, 219)",
          "opacity": 1
         },
         "orientation": "h",
         "type": "bar",
         "width": 1,
         "x0": 1.0590538213999998,
         "y": [
          "Q4W4NR"
         ]
        },
        {
         "base": [
          0.41803278689999995
         ],
         "hovertext": "-0.013150100998939873",
         "marker": {
          "cmax": 0.25,
          "cmin": -0.25,
          "color": "rgb(210, 216, 219)",
          "opacity": 1
         },
         "orientation": "h",
         "type": "bar",
         "width": 1,
         "x0": 0.9994161239000001,
         "y": [
          "UB4BB8"
         ]
        },
        {
         "base": [
          0.41803278689999995
         ],
         "hovertext": "-0.013150100998939873",
         "marker": {
          "cmax": 0.25,
          "cmin": -0.25,
          "color": "rgb(210, 216, 219)",
          "opacity": 1
         },
         "orientation": "h",
         "type": "bar",
         "width": 1,
         "x0": 0.9994161239000001,
         "y": [
          "UB4BB8"
         ]
        },
        {
         "base": [
          0.41803278689999995
         ],
         "hovertext": "-0.013150100998939873",
         "marker": {
          "cmax": 0.25,
          "cmin": -0.25,
          "color": "rgb(210, 216, 219)",
          "opacity": 1
         },
         "orientation": "h",
         "type": "bar",
         "width": 1,
         "x0": 0.9994161239000001,
         "y": [
          "UB4BB8"
         ]
        },
        {
         "base": [
          0.3436399217
         ],
         "hovertext": "0.0003230840342430487",
         "marker": {
          "cmax": 0.25,
          "cmin": -0.25,
          "color": "rgb(230, 210, 204)",
          "opacity": 1
         },
         "orientation": "h",
         "type": "bar",
         "width": 1,
         "x0": 1.0904109589000002,
         "y": [
          "JQ8KSL"
         ]
        },
        {
         "base": [
          0.3436399217
         ],
         "hovertext": "0.0003230840342430487",
         "marker": {
          "cmax": 0.25,
          "cmin": -0.25,
          "color": "rgb(230, 210, 204)",
          "opacity": 1
         },
         "orientation": "h",
         "type": "bar",
         "width": 1,
         "x0": 1.0904109589000002,
         "y": [
          "JQ8KSL"
         ]
        },
        {
         "base": [
          0.3436399217
         ],
         "hovertext": "0.0003230840342430487",
         "marker": {
          "cmax": 0.25,
          "cmin": -0.25,
          "color": "rgb(230, 210, 204)",
          "opacity": 1
         },
         "orientation": "h",
         "type": "bar",
         "width": 1,
         "x0": 1.0904109589000002,
         "y": [
          "JQ8KSL"
         ]
        },
        {
         "base": [
          0.3095890411
         ],
         "hovertext": "-0.013303235844228434",
         "marker": {
          "cmax": 0.25,
          "cmin": -0.25,
          "color": "rgb(210, 216, 219)",
          "opacity": 1
         },
         "orientation": "h",
         "type": "bar",
         "width": 1,
         "x0": 1.2493150685,
         "y": [
          "UIRDPU"
         ]
        },
        {
         "base": [
          0.3095890411
         ],
         "hovertext": "-0.013303235844228434",
         "marker": {
          "cmax": 0.25,
          "cmin": -0.25,
          "color": "rgb(210, 216, 219)",
          "opacity": 1
         },
         "orientation": "h",
         "type": "bar",
         "width": 1,
         "x0": 1.2493150685,
         "y": [
          "UIRDPU"
         ]
        },
        {
         "base": [
          0.3095890411
         ],
         "hovertext": "-0.013303235844228434",
         "marker": {
          "cmax": 0.25,
          "cmin": -0.25,
          "color": "rgb(210, 216, 219)",
          "opacity": 1
         },
         "orientation": "h",
         "type": "bar",
         "width": 1,
         "x0": 1.2493150685,
         "y": [
          "UIRDPU"
         ]
        },
        {
         "base": [
          -0.08594313099999999
         ],
         "hovertext": "-5.652434281790343e-05",
         "marker": {
          "cmax": 0.25,
          "cmin": -0.25,
          "color": "rgb(210, 216, 219)",
          "opacity": 1
         },
         "orientation": "h",
         "type": "bar",
         "width": 1,
         "x0": 1.0383561645,
         "y": [
          "1BVPA1"
         ]
        },
        {
         "base": [
          -0.08594313099999999
         ],
         "hovertext": "-5.652434281790343e-05",
         "marker": {
          "cmax": 0.25,
          "cmin": -0.25,
          "color": "rgb(210, 216, 219)",
          "opacity": 1
         },
         "orientation": "h",
         "type": "bar",
         "width": 1,
         "x0": 1.0383561645,
         "y": [
          "1BVPA1"
         ]
        },
        {
         "base": [
          -0.08594313099999999
         ],
         "hovertext": "-5.652434281790343e-05",
         "marker": {
          "cmax": 0.25,
          "cmin": -0.25,
          "color": "rgb(210, 216, 219)",
          "opacity": 1
         },
         "orientation": "h",
         "type": "bar",
         "width": 1,
         "x0": 1.0383561645,
         "y": [
          "1BVPA1"
         ]
        },
        {
         "base": [
          -0.132839284
         ],
         "hovertext": "0.0012882503128137657",
         "marker": {
          "cmax": 0.25,
          "cmin": -0.25,
          "color": "rgb(230, 210, 204)",
          "opacity": 1
         },
         "orientation": "h",
         "type": "bar",
         "width": 1,
         "x0": 1.0095516128,
         "y": [
          "SOACBP"
         ]
        },
        {
         "base": [
          -0.132839284
         ],
         "hovertext": "0.0012882503128137657",
         "marker": {
          "cmax": 0.25,
          "cmin": -0.25,
          "color": "rgb(230, 210, 204)",
          "opacity": 1
         },
         "orientation": "h",
         "type": "bar",
         "width": 1,
         "x0": 1.0095516128,
         "y": [
          "SOACBP"
         ]
        },
        {
         "base": [
          -0.132839284
         ],
         "hovertext": "0.0012882503128137657",
         "marker": {
          "cmax": 0.25,
          "cmin": -0.25,
          "color": "rgb(230, 210, 204)",
          "opacity": 1
         },
         "orientation": "h",
         "type": "bar",
         "width": 1,
         "x0": 1.0095516128,
         "y": [
          "SOACBP"
         ]
        },
        {
         "base": [
          -0.295890411
         ],
         "hovertext": "-0.24324129873168326",
         "marker": {
          "cmax": 0.25,
          "cmin": -0.25,
          "color": "rgb(23, 28, 66)",
          "opacity": 1
         },
         "orientation": "h",
         "type": "bar",
         "width": 1,
         "x0": 1.2008458717,
         "y": [
          "UN9628"
         ]
        },
        {
         "base": [
          -0.295890411
         ],
         "hovertext": "-0.24324129873168326",
         "marker": {
          "cmax": 0.25,
          "cmin": -0.25,
          "color": "rgb(23, 28, 66)",
          "opacity": 1
         },
         "orientation": "h",
         "type": "bar",
         "width": 1,
         "x0": 1.2008458717,
         "y": [
          "UN9628"
         ]
        },
        {
         "base": [
          -0.295890411
         ],
         "hovertext": "-0.24324129873168326",
         "marker": {
          "cmax": 0.25,
          "cmin": -0.25,
          "color": "rgb(23, 28, 66)",
          "opacity": 1
         },
         "orientation": "h",
         "type": "bar",
         "width": 1,
         "x0": 1.2008458717,
         "y": [
          "UN9628"
         ]
        },
        {
         "base": [
          -0.336986301
         ],
         "hovertext": "0.05634342068218934",
         "marker": {
          "cmax": 0.25,
          "cmin": -0.25,
          "color": "rgb(213, 157, 137)",
          "opacity": 1
         },
         "orientation": "h",
         "type": "bar",
         "width": 1,
         "x0": 2.0183546669,
         "y": [
          "FI05HF"
         ]
        },
        {
         "base": [
          -0.336986301
         ],
         "hovertext": "0.05634342068218934",
         "marker": {
          "cmax": 0.25,
          "cmin": -0.25,
          "color": "rgb(213, 157, 137)",
          "opacity": 1
         },
         "orientation": "h",
         "type": "bar",
         "width": 1,
         "x0": 2.0183546669,
         "y": [
          "FI05HF"
         ]
        },
        {
         "base": [
          -0.336986301
         ],
         "hovertext": "0.05634342068218934",
         "marker": {
          "cmax": 0.25,
          "cmin": -0.25,
          "color": "rgb(213, 157, 137)",
          "opacity": 1
         },
         "orientation": "h",
         "type": "bar",
         "width": 1,
         "x0": 2.0183546669,
         "y": [
          "FI05HF"
         ]
        },
        {
         "base": [
          -0.425930085
         ],
         "hovertext": "0.007314234053345636",
         "marker": {
          "cmax": 0.25,
          "cmin": -0.25,
          "color": "rgb(230, 210, 204)",
          "opacity": 1
         },
         "orientation": "h",
         "type": "bar",
         "width": 1,
         "x0": 1.2565311779000001,
         "y": [
          "B93NRI"
         ]
        },
        {
         "base": [
          -0.425930085
         ],
         "hovertext": "0.007314234053345636",
         "marker": {
          "cmax": 0.25,
          "cmin": -0.25,
          "color": "rgb(230, 210, 204)",
          "opacity": 1
         },
         "orientation": "h",
         "type": "bar",
         "width": 1,
         "x0": 1.2565311779000001,
         "y": [
          "B93NRI"
         ]
        },
        {
         "base": [
          -0.425930085
         ],
         "hovertext": "0.007314234053345636",
         "marker": {
          "cmax": 0.25,
          "cmin": -0.25,
          "color": "rgb(230, 210, 204)",
          "opacity": 1
         },
         "orientation": "h",
         "type": "bar",
         "width": 1,
         "x0": 1.2565311779000001,
         "y": [
          "B93NRI"
         ]
        },
        {
         "base": [
          -0.569863014
         ],
         "hovertext": "0.026733500899792477",
         "marker": {
          "cmax": 0.25,
          "cmin": -0.25,
          "color": "rgb(230, 210, 204)",
          "opacity": 1
         },
         "orientation": "h",
         "type": "bar",
         "width": 1,
         "x0": 1.0012201514999999,
         "y": [
          "Q4W4NR"
         ]
        },
        {
         "base": [
          -0.569863014
         ],
         "hovertext": "0.026733500899792477",
         "marker": {
          "cmax": 0.25,
          "cmin": -0.25,
          "color": "rgb(230, 210, 204)",
          "opacity": 1
         },
         "orientation": "h",
         "type": "bar",
         "width": 1,
         "x0": 1.0012201514999999,
         "y": [
          "Q4W4NR"
         ]
        },
        {
         "base": [
          -0.569863014
         ],
         "hovertext": "0.026733500899792477",
         "marker": {
          "cmax": 0.25,
          "cmin": -0.25,
          "color": "rgb(230, 210, 204)",
          "opacity": 1
         },
         "orientation": "h",
         "type": "bar",
         "width": 1,
         "x0": 1.0012201514999999,
         "y": [
          "Q4W4NR"
         ]
        },
        {
         "base": [
          -0.599363725
         ],
         "hovertext": "-0.07957969064476578",
         "marker": {
          "cmax": 0.25,
          "cmin": -0.25,
          "color": "rgb(142, 181, 194)",
          "opacity": 1
         },
         "orientation": "h",
         "type": "bar",
         "width": 1,
         "x0": 0.9089527661000001,
         "y": [
          "UIRDPU"
         ]
        },
        {
         "base": [
          -0.599363725
         ],
         "hovertext": "-0.07957969064476578",
         "marker": {
          "cmax": 0.25,
          "cmin": -0.25,
          "color": "rgb(142, 181, 194)",
          "opacity": 1
         },
         "orientation": "h",
         "type": "bar",
         "width": 1,
         "x0": 0.9089527661000001,
         "y": [
          "UIRDPU"
         ]
        },
        {
         "base": [
          -0.599363725
         ],
         "hovertext": "-0.07957969064476578",
         "marker": {
          "cmax": 0.25,
          "cmin": -0.25,
          "color": "rgb(142, 181, 194)",
          "opacity": 1
         },
         "orientation": "h",
         "type": "bar",
         "width": 1,
         "x0": 0.9089527661000001,
         "y": [
          "UIRDPU"
         ]
        },
        {
         "base": [
          -1.4654839430000002
         ],
         "hovertext": "0.02389070216720751",
         "marker": {
          "cmax": 0.25,
          "cmin": -0.25,
          "color": "rgb(230, 210, 204)",
          "opacity": 1
         },
         "orientation": "h",
         "type": "bar",
         "width": 1,
         "x0": 0.9969907920000002,
         "y": [
          "MZR5QU"
         ]
        },
        {
         "base": [
          -1.4654839430000002
         ],
         "hovertext": "0.02389070216720751",
         "marker": {
          "cmax": 0.25,
          "cmin": -0.25,
          "color": "rgb(230, 210, 204)",
          "opacity": 1
         },
         "orientation": "h",
         "type": "bar",
         "width": 1,
         "x0": 0.9969907920000002,
         "y": [
          "MZR5QU"
         ]
        },
        {
         "base": [
          -1.4654839430000002
         ],
         "hovertext": "0.02389070216720751",
         "marker": {
          "cmax": 0.25,
          "cmin": -0.25,
          "color": "rgb(230, 210, 204)",
          "opacity": 1
         },
         "orientation": "h",
         "type": "bar",
         "width": 1,
         "x0": 0.9969907920000002,
         "y": [
          "MZR5QU"
         ]
        },
        {
         "base": [
          -1.659487986
         ],
         "hovertext": "0.01937864968651254",
         "marker": {
          "cmax": 0.25,
          "cmin": -0.25,
          "color": "rgb(230, 210, 204)",
          "opacity": 1
         },
         "orientation": "h",
         "type": "bar",
         "width": 1,
         "x0": 3.0219178086,
         "y": [
          "BS2VBS"
         ]
        },
        {
         "base": [
          -1.659487986
         ],
         "hovertext": "0.01937864968651254",
         "marker": {
          "cmax": 0.25,
          "cmin": -0.25,
          "color": "rgb(230, 210, 204)",
          "opacity": 1
         },
         "orientation": "h",
         "type": "bar",
         "width": 1,
         "x0": 3.0219178086,
         "y": [
          "BS2VBS"
         ]
        },
        {
         "base": [
          -1.659487986
         ],
         "hovertext": "0.01937864968651254",
         "marker": {
          "cmax": 0.25,
          "cmin": -0.25,
          "color": "rgb(230, 210, 204)",
          "opacity": 1
         },
         "orientation": "h",
         "type": "bar",
         "width": 1,
         "x0": 3.0219178086,
         "y": [
          "BS2VBS"
         ]
        },
        {
         "base": [
          -1.919537391
         ],
         "hovertext": "0.07492289261589602",
         "marker": {
          "cmax": 0.25,
          "cmin": -0.25,
          "color": "rgb(213, 157, 137)",
          "opacity": 1
         },
         "orientation": "h",
         "type": "bar",
         "width": 1,
         "x0": 2.3375701779,
         "y": [
          "UB4BB8"
         ]
        },
        {
         "base": [
          -1.919537391
         ],
         "hovertext": "0.07492289261589602",
         "marker": {
          "cmax": 0.25,
          "cmin": -0.25,
          "color": "rgb(213, 157, 137)",
          "opacity": 1
         },
         "orientation": "h",
         "type": "bar",
         "width": 1,
         "x0": 2.3375701779,
         "y": [
          "UB4BB8"
         ]
        },
        {
         "base": [
          -1.919537391
         ],
         "hovertext": "0.07492289261589602",
         "marker": {
          "cmax": 0.25,
          "cmin": -0.25,
          "color": "rgb(213, 157, 137)",
          "opacity": 1
         },
         "orientation": "h",
         "type": "bar",
         "width": 1,
         "x0": 2.3375701779,
         "y": [
          "UB4BB8"
         ]
        },
        {
         "base": [
          -2.834830451
         ],
         "hovertext": "0.07372795757876303",
         "marker": {
          "cmax": 0.25,
          "cmin": -0.25,
          "color": "rgb(213, 157, 137)",
          "opacity": 1
         },
         "orientation": "h",
         "type": "bar",
         "width": 1,
         "x0": 1.1753424650000002,
         "y": [
          "BS2VBS"
         ]
        },
        {
         "base": [
          -2.834830451
         ],
         "hovertext": "0.07372795757876303",
         "marker": {
          "cmax": 0.25,
          "cmin": -0.25,
          "color": "rgb(213, 157, 137)",
          "opacity": 1
         },
         "orientation": "h",
         "type": "bar",
         "width": 1,
         "x0": 1.1753424650000002,
         "y": [
          "BS2VBS"
         ]
        },
        {
         "base": [
          -2.834830451
         ],
         "hovertext": "0.07372795757876303",
         "marker": {
          "cmax": 0.25,
          "cmin": -0.25,
          "color": "rgb(213, 157, 137)",
          "opacity": 1
         },
         "orientation": "h",
         "type": "bar",
         "width": 1,
         "x0": 1.1753424650000002,
         "y": [
          "BS2VBS"
         ]
        },
        {
         "base": [
          -2.933574024
         ],
         "hovertext": "0.007635454232267075",
         "marker": {
          "cmax": 0.25,
          "cmin": -0.25,
          "color": "rgb(230, 210, 204)",
          "opacity": 1
         },
         "orientation": "h",
         "type": "bar",
         "width": 1,
         "x0": 0.938842728,
         "y": [
          "PAU8PN"
         ]
        },
        {
         "base": [
          -2.933574024
         ],
         "hovertext": "0.007635454232267075",
         "marker": {
          "cmax": 0.25,
          "cmin": -0.25,
          "color": "rgb(230, 210, 204)",
          "opacity": 1
         },
         "orientation": "h",
         "type": "bar",
         "width": 1,
         "x0": 0.938842728,
         "y": [
          "PAU8PN"
         ]
        },
        {
         "base": [
          -2.933574024
         ],
         "hovertext": "0.007635454232267075",
         "marker": {
          "cmax": 0.25,
          "cmin": -0.25,
          "color": "rgb(230, 210, 204)",
          "opacity": 1
         },
         "orientation": "h",
         "type": "bar",
         "width": 1,
         "x0": 0.938842728,
         "y": [
          "PAU8PN"
         ]
        },
        {
         "base": [
          -3.57260274
         ],
         "hovertext": "-0.019258936135773508",
         "marker": {
          "cmax": 0.25,
          "cmin": -0.25,
          "color": "rgb(210, 216, 219)",
          "opacity": 1
         },
         "orientation": "h",
         "type": "bar",
         "width": 1,
         "x0": 2.107118797,
         "y": [
          "MZR5QU"
         ]
        },
        {
         "base": [
          -3.57260274
         ],
         "hovertext": "-0.019258936135773508",
         "marker": {
          "cmax": 0.25,
          "cmin": -0.25,
          "color": "rgb(210, 216, 219)",
          "opacity": 1
         },
         "orientation": "h",
         "type": "bar",
         "width": 1,
         "x0": 2.107118797,
         "y": [
          "MZR5QU"
         ]
        },
        {
         "base": [
          -3.57260274
         ],
         "hovertext": "-0.019258936135773508",
         "marker": {
          "cmax": 0.25,
          "cmin": -0.25,
          "color": "rgb(210, 216, 219)",
          "opacity": 1
         },
         "orientation": "h",
         "type": "bar",
         "width": 1,
         "x0": 2.107118797,
         "y": [
          "MZR5QU"
         ]
        },
        {
         "base": [
          -4.101580611
         ],
         "hovertext": "0.008552166351108198",
         "marker": {
          "cmax": 0.25,
          "cmin": -0.25,
          "color": "rgb(230, 210, 204)",
          "opacity": 1
         },
         "orientation": "h",
         "type": "bar",
         "width": 1,
         "x0": 1.1680065870000003,
         "y": [
          "PAU8PN"
         ]
        },
        {
         "base": [
          -4.101580611
         ],
         "hovertext": "0.008552166351108198",
         "marker": {
          "cmax": 0.25,
          "cmin": -0.25,
          "color": "rgb(230, 210, 204)",
          "opacity": 1
         },
         "orientation": "h",
         "type": "bar",
         "width": 1,
         "x0": 1.1680065870000003,
         "y": [
          "PAU8PN"
         ]
        },
        {
         "base": [
          -4.101580611
         ],
         "hovertext": "0.008552166351108198",
         "marker": {
          "cmax": 0.25,
          "cmin": -0.25,
          "color": "rgb(230, 210, 204)",
          "opacity": 1
         },
         "orientation": "h",
         "type": "bar",
         "width": 1,
         "x0": 1.1680065870000003,
         "y": [
          "PAU8PN"
         ]
        },
        {
         "base": [
          -4.237181996
         ],
         "hovertext": "-6.492286769969832e-05",
         "marker": {
          "cmax": 0.25,
          "cmin": -0.25,
          "color": "rgb(210, 216, 219)",
          "opacity": 1
         },
         "orientation": "h",
         "type": "bar",
         "width": 1,
         "x0": 1.8496144920000002,
         "y": [
          "FR4AL7"
         ]
        },
        {
         "base": [
          -4.237181996
         ],
         "hovertext": "-6.492286769969832e-05",
         "marker": {
          "cmax": 0.25,
          "cmin": -0.25,
          "color": "rgb(210, 216, 219)",
          "opacity": 1
         },
         "orientation": "h",
         "type": "bar",
         "width": 1,
         "x0": 1.8496144920000002,
         "y": [
          "FR4AL7"
         ]
        },
        {
         "base": [
          -4.237181996
         ],
         "hovertext": "-6.492286769969832e-05",
         "marker": {
          "cmax": 0.25,
          "cmin": -0.25,
          "color": "rgb(210, 216, 219)",
          "opacity": 1
         },
         "orientation": "h",
         "type": "bar",
         "width": 1,
         "x0": 1.8496144920000002,
         "y": [
          "FR4AL7"
         ]
        },
        {
         "base": [
          -5.075026343999999
         ],
         "hovertext": "0.044417030787184175",
         "marker": {
          "cmax": 0.25,
          "cmin": -0.25,
          "color": "rgb(213, 157, 137)",
          "opacity": 1
         },
         "orientation": "h",
         "type": "bar",
         "width": 1,
         "x0": 1.3589041099999997,
         "y": [
          "ABOX7W"
         ]
        },
        {
         "base": [
          -5.075026343999999
         ],
         "hovertext": "0.044417030787184175",
         "marker": {
          "cmax": 0.25,
          "cmin": -0.25,
          "color": "rgb(213, 157, 137)",
          "opacity": 1
         },
         "orientation": "h",
         "type": "bar",
         "width": 1,
         "x0": 1.3589041099999997,
         "y": [
          "ABOX7W"
         ]
        },
        {
         "base": [
          -5.075026343999999
         ],
         "hovertext": "0.044417030787184175",
         "marker": {
          "cmax": 0.25,
          "cmin": -0.25,
          "color": "rgb(213, 157, 137)",
          "opacity": 1
         },
         "orientation": "h",
         "type": "bar",
         "width": 1,
         "x0": 1.3589041099999997,
         "y": [
          "ABOX7W"
         ]
        },
        {
         "base": [
          -5.681405794
         ],
         "hovertext": "0.13209342654105066",
         "marker": {
          "cmax": 0.25,
          "cmin": -0.25,
          "color": "rgb(172, 43, 36)",
          "opacity": 1
         },
         "orientation": "h",
         "type": "bar",
         "width": 1,
         "x0": 1.6520547949999997,
         "y": [
          "KG4W9Z"
         ]
        },
        {
         "base": [
          -5.681405794
         ],
         "hovertext": "0.13209342654105066",
         "marker": {
          "cmax": 0.25,
          "cmin": -0.25,
          "color": "rgb(172, 43, 36)",
          "opacity": 1
         },
         "orientation": "h",
         "type": "bar",
         "width": 1,
         "x0": 1.6520547949999997,
         "y": [
          "KG4W9Z"
         ]
        },
        {
         "base": [
          -5.681405794
         ],
         "hovertext": "0.13209342654105066",
         "marker": {
          "cmax": 0.25,
          "cmin": -0.25,
          "color": "rgb(172, 43, 36)",
          "opacity": 1
         },
         "orientation": "h",
         "type": "bar",
         "width": 1,
         "x0": 1.6520547949999997,
         "y": [
          "KG4W9Z"
         ]
        },
        {
         "base": [
          -5.961222915
         ],
         "hovertext": "0.012359994459408063",
         "marker": {
          "cmax": 0.25,
          "cmin": -0.25,
          "color": "rgb(230, 210, 204)",
          "opacity": 1
         },
         "orientation": "h",
         "type": "bar",
         "width": 1,
         "x0": 0.8861965710000002,
         "y": [
          "ABOX7W"
         ]
        },
        {
         "base": [
          -5.961222915
         ],
         "hovertext": "0.012359994459408063",
         "marker": {
          "cmax": 0.25,
          "cmin": -0.25,
          "color": "rgb(230, 210, 204)",
          "opacity": 1
         },
         "orientation": "h",
         "type": "bar",
         "width": 1,
         "x0": 0.8861965710000002,
         "y": [
          "ABOX7W"
         ]
        },
        {
         "base": [
          -5.961222915
         ],
         "hovertext": "0.012359994459408063",
         "marker": {
          "cmax": 0.25,
          "cmin": -0.25,
          "color": "rgb(230, 210, 204)",
          "opacity": 1
         },
         "orientation": "h",
         "type": "bar",
         "width": 1,
         "x0": 0.8861965710000002,
         "y": [
          "ABOX7W"
         ]
        },
        {
         "base": [
          -6.291976517
         ],
         "hovertext": "-8.292469424276985e-05",
         "marker": {
          "cmax": 0.25,
          "cmin": -0.25,
          "color": "rgb(210, 216, 219)",
          "opacity": 1
         },
         "orientation": "h",
         "type": "bar",
         "width": 1,
         "x0": 2.0100456620000005,
         "y": [
          "VMGRO8"
         ]
        },
        {
         "base": [
          -6.291976517
         ],
         "hovertext": "-8.292469424276985e-05",
         "marker": {
          "cmax": 0.25,
          "cmin": -0.25,
          "color": "rgb(210, 216, 219)",
          "opacity": 1
         },
         "orientation": "h",
         "type": "bar",
         "width": 1,
         "x0": 2.0100456620000005,
         "y": [
          "VMGRO8"
         ]
        },
        {
         "base": [
          -6.291976517
         ],
         "hovertext": "-8.292469424276985e-05",
         "marker": {
          "cmax": 0.25,
          "cmin": -0.25,
          "color": "rgb(210, 216, 219)",
          "opacity": 1
         },
         "orientation": "h",
         "type": "bar",
         "width": 1,
         "x0": 2.0100456620000005,
         "y": [
          "VMGRO8"
         ]
        },
        {
         "base": [
          -7.390606654
         ],
         "hovertext": "-0.0039164202419073296",
         "marker": {
          "cmax": 0.25,
          "cmin": -0.25,
          "color": "rgb(210, 216, 219)",
          "opacity": 1
         },
         "orientation": "h",
         "type": "bar",
         "width": 1,
         "x0": 3.1534246579999996,
         "y": [
          "FR4AL7"
         ]
        },
        {
         "base": [
          -7.390606654
         ],
         "hovertext": "-0.0039164202419073296",
         "marker": {
          "cmax": 0.25,
          "cmin": -0.25,
          "color": "rgb(210, 216, 219)",
          "opacity": 1
         },
         "orientation": "h",
         "type": "bar",
         "width": 1,
         "x0": 3.1534246579999996,
         "y": [
          "FR4AL7"
         ]
        },
        {
         "base": [
          -7.390606654
         ],
         "hovertext": "-0.0039164202419073296",
         "marker": {
          "cmax": 0.25,
          "cmin": -0.25,
          "color": "rgb(210, 216, 219)",
          "opacity": 1
         },
         "orientation": "h",
         "type": "bar",
         "width": 1,
         "x0": 3.1534246579999996,
         "y": [
          "FR4AL7"
         ]
        },
        {
         "base": [
          -8.207433191
         ],
         "hovertext": "0.23972598973478385",
         "marker": {
          "cmax": 0.25,
          "cmin": -0.25,
          "color": "rgb(60, 9, 17)",
          "opacity": 1
         },
         "orientation": "h",
         "type": "bar",
         "width": 1,
         "x0": 2.526027397,
         "y": [
          "KG4W9Z"
         ]
        },
        {
         "base": [
          -8.207433191
         ],
         "hovertext": "0.23972598973478385",
         "marker": {
          "cmax": 0.25,
          "cmin": -0.25,
          "color": "rgb(60, 9, 17)",
          "opacity": 1
         },
         "orientation": "h",
         "type": "bar",
         "width": 1,
         "x0": 2.526027397,
         "y": [
          "KG4W9Z"
         ]
        },
        {
         "base": [
          -8.207433191
         ],
         "hovertext": "0.23972598973478385",
         "marker": {
          "cmax": 0.25,
          "cmin": -0.25,
          "color": "rgb(60, 9, 17)",
          "opacity": 1
         },
         "orientation": "h",
         "type": "bar",
         "width": 1,
         "x0": 2.526027397,
         "y": [
          "KG4W9Z"
         ]
        },
        {
         "base": [
          -9.294716243
         ],
         "hovertext": "-0.0003442688496392369",
         "marker": {
          "cmax": 0.25,
          "cmin": -0.25,
          "color": "rgb(210, 216, 219)",
          "opacity": 1
         },
         "orientation": "h",
         "type": "bar",
         "width": 1,
         "x0": 3.0027397259999997,
         "y": [
          "VMGRO8"
         ]
        },
        {
         "base": [
          -9.294716243
         ],
         "hovertext": "-0.0003442688496392369",
         "marker": {
          "cmax": 0.25,
          "cmin": -0.25,
          "color": "rgb(210, 216, 219)",
          "opacity": 1
         },
         "orientation": "h",
         "type": "bar",
         "width": 1,
         "x0": 3.0027397259999997,
         "y": [
          "VMGRO8"
         ]
        },
        {
         "base": [
          -9.294716243
         ],
         "hovertext": "-0.0003442688496392369",
         "marker": {
          "cmax": 0.25,
          "cmin": -0.25,
          "color": "rgb(210, 216, 219)",
          "opacity": 1
         },
         "orientation": "h",
         "type": "bar",
         "width": 1,
         "x0": 3.0027397259999997,
         "y": [
          "VMGRO8"
         ]
        },
        {
         "base": [
          -11.71937378
         ],
         "hovertext": "-0.0010227770527811",
         "marker": {
          "cmax": 0.25,
          "cmin": -0.25,
          "color": "rgb(210, 216, 219)",
          "opacity": 1
         },
         "orientation": "h",
         "type": "bar",
         "width": 1,
         "x0": 2.013698632999999,
         "y": [
          "8AKUN6"
         ]
        },
        {
         "base": [
          -11.71937378
         ],
         "hovertext": "-0.0010227770527811",
         "marker": {
          "cmax": 0.25,
          "cmin": -0.25,
          "color": "rgb(210, 216, 219)",
          "opacity": 1
         },
         "orientation": "h",
         "type": "bar",
         "width": 1,
         "x0": 2.013698632999999,
         "y": [
          "8AKUN6"
         ]
        },
        {
         "base": [
          -11.71937378
         ],
         "hovertext": "-0.0010227770527811",
         "marker": {
          "cmax": 0.25,
          "cmin": -0.25,
          "color": "rgb(210, 216, 219)",
          "opacity": 1
         },
         "orientation": "h",
         "type": "bar",
         "width": 1,
         "x0": 2.013698632999999,
         "y": [
          "8AKUN6"
         ]
        },
        {
         "base": [
          -12.774168300000001
         ],
         "hovertext": "-0.0031016593806669377",
         "marker": {
          "cmax": 0.25,
          "cmin": -0.25,
          "color": "rgb(210, 216, 219)",
          "opacity": 1
         },
         "orientation": "h",
         "type": "bar",
         "width": 1,
         "x0": 1.0547945200000015,
         "y": [
          "8AKUN6"
         ]
        },
        {
         "base": [
          -12.774168300000001
         ],
         "hovertext": "-0.0031016593806669377",
         "marker": {
          "cmax": 0.25,
          "cmin": -0.25,
          "color": "rgb(210, 216, 219)",
          "opacity": 1
         },
         "orientation": "h",
         "type": "bar",
         "width": 1,
         "x0": 1.0547945200000015,
         "y": [
          "8AKUN6"
         ]
        },
        {
         "base": [
          -12.774168300000001
         ],
         "hovertext": "-0.0031016593806669377",
         "marker": {
          "cmax": 0.25,
          "cmin": -0.25,
          "color": "rgb(210, 216, 219)",
          "opacity": 1
         },
         "orientation": "h",
         "type": "bar",
         "width": 1,
         "x0": 1.0547945200000015,
         "y": [
          "8AKUN6"
         ]
        },
        {
         "base": [
          -18.08871173
         ],
         "hovertext": "-1.7328619948707286e-05",
         "marker": {
          "cmax": 0.25,
          "cmin": -0.25,
          "color": "rgb(210, 216, 219)",
          "opacity": 1
         },
         "orientation": "h",
         "type": "bar",
         "width": 1,
         "x0": 2.10783741,
         "y": [
          "5FZWKH"
         ]
        },
        {
         "base": [
          -18.08871173
         ],
         "hovertext": "-1.7328619948707286e-05",
         "marker": {
          "cmax": 0.25,
          "cmin": -0.25,
          "color": "rgb(210, 216, 219)",
          "opacity": 1
         },
         "orientation": "h",
         "type": "bar",
         "width": 1,
         "x0": 2.10783741,
         "y": [
          "5FZWKH"
         ]
        },
        {
         "base": [
          -18.08871173
         ],
         "hovertext": "-1.7328619948707286e-05",
         "marker": {
          "cmax": 0.25,
          "cmin": -0.25,
          "color": "rgb(210, 216, 219)",
          "opacity": 1
         },
         "orientation": "h",
         "type": "bar",
         "width": 1,
         "x0": 2.10783741,
         "y": [
          "5FZWKH"
         ]
        },
        {
         "base": [
          -19.49131021
         ],
         "hovertext": "0.003637854251847117",
         "marker": {
          "cmax": 0.25,
          "cmin": -0.25,
          "color": "rgb(230, 210, 204)",
          "opacity": 1
         },
         "orientation": "h",
         "type": "bar",
         "width": 1,
         "x0": 2.1621528600000026,
         "y": [
          "DF2ECY"
         ]
        },
        {
         "base": [
          -19.49131021
         ],
         "hovertext": "0.003637854251847117",
         "marker": {
          "cmax": 0.25,
          "cmin": -0.25,
          "color": "rgb(230, 210, 204)",
          "opacity": 1
         },
         "orientation": "h",
         "type": "bar",
         "width": 1,
         "x0": 2.1621528600000026,
         "y": [
          "DF2ECY"
         ]
        },
        {
         "base": [
          -19.49131021
         ],
         "hovertext": "0.003637854251847117",
         "marker": {
          "cmax": 0.25,
          "cmin": -0.25,
          "color": "rgb(230, 210, 204)",
          "opacity": 1
         },
         "orientation": "h",
         "type": "bar",
         "width": 1,
         "x0": 2.1621528600000026,
         "y": [
          "DF2ECY"
         ]
        },
        {
         "base": [
          -21.11336926
         ],
         "hovertext": "1.7328619948707286e-05",
         "marker": {
          "cmax": 0.25,
          "cmin": -0.25,
          "color": "rgb(230, 210, 204)",
          "opacity": 1
         },
         "orientation": "h",
         "type": "bar",
         "width": 1,
         "x0": 3.024657529999999,
         "y": [
          "5FZWKH"
         ]
        },
        {
         "base": [
          -21.11336926
         ],
         "hovertext": "1.7328619948707286e-05",
         "marker": {
          "cmax": 0.25,
          "cmin": -0.25,
          "color": "rgb(230, 210, 204)",
          "opacity": 1
         },
         "orientation": "h",
         "type": "bar",
         "width": 1,
         "x0": 3.024657529999999,
         "y": [
          "5FZWKH"
         ]
        },
        {
         "base": [
          -21.11336926
         ],
         "hovertext": "1.7328619948707286e-05",
         "marker": {
          "cmax": 0.25,
          "cmin": -0.25,
          "color": "rgb(230, 210, 204)",
          "opacity": 1
         },
         "orientation": "h",
         "type": "bar",
         "width": 1,
         "x0": 3.024657529999999,
         "y": [
          "5FZWKH"
         ]
        },
        {
         "base": [
          -22.55706363
         ],
         "hovertext": "0.0002810342820417652",
         "marker": {
          "cmax": 0.25,
          "cmin": -0.25,
          "color": "rgb(230, 210, 204)",
          "opacity": 1
         },
         "orientation": "h",
         "type": "bar",
         "width": 1,
         "x0": 3.0657534199999965,
         "y": [
          "DF2ECY"
         ]
        },
        {
         "base": [
          -22.55706363
         ],
         "hovertext": "0.0002810342820417652",
         "marker": {
          "cmax": 0.25,
          "cmin": -0.25,
          "color": "rgb(230, 210, 204)",
          "opacity": 1
         },
         "orientation": "h",
         "type": "bar",
         "width": 1,
         "x0": 3.0657534199999965,
         "y": [
          "DF2ECY"
         ]
        },
        {
         "base": [
          -22.55706363
         ],
         "hovertext": "0.0002810342820417652",
         "marker": {
          "cmax": 0.25,
          "cmin": -0.25,
          "color": "rgb(230, 210, 204)",
          "opacity": 1
         },
         "orientation": "h",
         "type": "bar",
         "width": 1,
         "x0": 3.0657534199999965,
         "y": [
          "DF2ECY"
         ]
        }
       ],
       "layout": {
        "plot_bgcolor": "rgb(255,255,255)",
        "showlegend": false,
        "template": {
         "data": {
          "bar": [
           {
            "error_x": {
             "color": "#2a3f5f"
            },
            "error_y": {
             "color": "#2a3f5f"
            },
            "marker": {
             "line": {
              "color": "#E5ECF6",
              "width": 0.5
             }
            },
            "type": "bar"
           }
          ],
          "barpolar": [
           {
            "marker": {
             "line": {
              "color": "#E5ECF6",
              "width": 0.5
             }
            },
            "type": "barpolar"
           }
          ],
          "carpet": [
           {
            "aaxis": {
             "endlinecolor": "#2a3f5f",
             "gridcolor": "white",
             "linecolor": "white",
             "minorgridcolor": "white",
             "startlinecolor": "#2a3f5f"
            },
            "baxis": {
             "endlinecolor": "#2a3f5f",
             "gridcolor": "white",
             "linecolor": "white",
             "minorgridcolor": "white",
             "startlinecolor": "#2a3f5f"
            },
            "type": "carpet"
           }
          ],
          "choropleth": [
           {
            "colorbar": {
             "outlinewidth": 0,
             "ticks": ""
            },
            "type": "choropleth"
           }
          ],
          "contour": [
           {
            "colorbar": {
             "outlinewidth": 0,
             "ticks": ""
            },
            "colorscale": [
             [
              0,
              "#0d0887"
             ],
             [
              0.1111111111111111,
              "#46039f"
             ],
             [
              0.2222222222222222,
              "#7201a8"
             ],
             [
              0.3333333333333333,
              "#9c179e"
             ],
             [
              0.4444444444444444,
              "#bd3786"
             ],
             [
              0.5555555555555556,
              "#d8576b"
             ],
             [
              0.6666666666666666,
              "#ed7953"
             ],
             [
              0.7777777777777778,
              "#fb9f3a"
             ],
             [
              0.8888888888888888,
              "#fdca26"
             ],
             [
              1,
              "#f0f921"
             ]
            ],
            "type": "contour"
           }
          ],
          "contourcarpet": [
           {
            "colorbar": {
             "outlinewidth": 0,
             "ticks": ""
            },
            "type": "contourcarpet"
           }
          ],
          "heatmap": [
           {
            "colorbar": {
             "outlinewidth": 0,
             "ticks": ""
            },
            "colorscale": [
             [
              0,
              "#0d0887"
             ],
             [
              0.1111111111111111,
              "#46039f"
             ],
             [
              0.2222222222222222,
              "#7201a8"
             ],
             [
              0.3333333333333333,
              "#9c179e"
             ],
             [
              0.4444444444444444,
              "#bd3786"
             ],
             [
              0.5555555555555556,
              "#d8576b"
             ],
             [
              0.6666666666666666,
              "#ed7953"
             ],
             [
              0.7777777777777778,
              "#fb9f3a"
             ],
             [
              0.8888888888888888,
              "#fdca26"
             ],
             [
              1,
              "#f0f921"
             ]
            ],
            "type": "heatmap"
           }
          ],
          "heatmapgl": [
           {
            "colorbar": {
             "outlinewidth": 0,
             "ticks": ""
            },
            "colorscale": [
             [
              0,
              "#0d0887"
             ],
             [
              0.1111111111111111,
              "#46039f"
             ],
             [
              0.2222222222222222,
              "#7201a8"
             ],
             [
              0.3333333333333333,
              "#9c179e"
             ],
             [
              0.4444444444444444,
              "#bd3786"
             ],
             [
              0.5555555555555556,
              "#d8576b"
             ],
             [
              0.6666666666666666,
              "#ed7953"
             ],
             [
              0.7777777777777778,
              "#fb9f3a"
             ],
             [
              0.8888888888888888,
              "#fdca26"
             ],
             [
              1,
              "#f0f921"
             ]
            ],
            "type": "heatmapgl"
           }
          ],
          "histogram": [
           {
            "marker": {
             "colorbar": {
              "outlinewidth": 0,
              "ticks": ""
             }
            },
            "type": "histogram"
           }
          ],
          "histogram2d": [
           {
            "colorbar": {
             "outlinewidth": 0,
             "ticks": ""
            },
            "colorscale": [
             [
              0,
              "#0d0887"
             ],
             [
              0.1111111111111111,
              "#46039f"
             ],
             [
              0.2222222222222222,
              "#7201a8"
             ],
             [
              0.3333333333333333,
              "#9c179e"
             ],
             [
              0.4444444444444444,
              "#bd3786"
             ],
             [
              0.5555555555555556,
              "#d8576b"
             ],
             [
              0.6666666666666666,
              "#ed7953"
             ],
             [
              0.7777777777777778,
              "#fb9f3a"
             ],
             [
              0.8888888888888888,
              "#fdca26"
             ],
             [
              1,
              "#f0f921"
             ]
            ],
            "type": "histogram2d"
           }
          ],
          "histogram2dcontour": [
           {
            "colorbar": {
             "outlinewidth": 0,
             "ticks": ""
            },
            "colorscale": [
             [
              0,
              "#0d0887"
             ],
             [
              0.1111111111111111,
              "#46039f"
             ],
             [
              0.2222222222222222,
              "#7201a8"
             ],
             [
              0.3333333333333333,
              "#9c179e"
             ],
             [
              0.4444444444444444,
              "#bd3786"
             ],
             [
              0.5555555555555556,
              "#d8576b"
             ],
             [
              0.6666666666666666,
              "#ed7953"
             ],
             [
              0.7777777777777778,
              "#fb9f3a"
             ],
             [
              0.8888888888888888,
              "#fdca26"
             ],
             [
              1,
              "#f0f921"
             ]
            ],
            "type": "histogram2dcontour"
           }
          ],
          "mesh3d": [
           {
            "colorbar": {
             "outlinewidth": 0,
             "ticks": ""
            },
            "type": "mesh3d"
           }
          ],
          "parcoords": [
           {
            "line": {
             "colorbar": {
              "outlinewidth": 0,
              "ticks": ""
             }
            },
            "type": "parcoords"
           }
          ],
          "pie": [
           {
            "automargin": true,
            "type": "pie"
           }
          ],
          "scatter": [
           {
            "marker": {
             "colorbar": {
              "outlinewidth": 0,
              "ticks": ""
             }
            },
            "type": "scatter"
           }
          ],
          "scatter3d": [
           {
            "line": {
             "colorbar": {
              "outlinewidth": 0,
              "ticks": ""
             }
            },
            "marker": {
             "colorbar": {
              "outlinewidth": 0,
              "ticks": ""
             }
            },
            "type": "scatter3d"
           }
          ],
          "scattercarpet": [
           {
            "marker": {
             "colorbar": {
              "outlinewidth": 0,
              "ticks": ""
             }
            },
            "type": "scattercarpet"
           }
          ],
          "scattergeo": [
           {
            "marker": {
             "colorbar": {
              "outlinewidth": 0,
              "ticks": ""
             }
            },
            "type": "scattergeo"
           }
          ],
          "scattergl": [
           {
            "marker": {
             "colorbar": {
              "outlinewidth": 0,
              "ticks": ""
             }
            },
            "type": "scattergl"
           }
          ],
          "scattermapbox": [
           {
            "marker": {
             "colorbar": {
              "outlinewidth": 0,
              "ticks": ""
             }
            },
            "type": "scattermapbox"
           }
          ],
          "scatterpolar": [
           {
            "marker": {
             "colorbar": {
              "outlinewidth": 0,
              "ticks": ""
             }
            },
            "type": "scatterpolar"
           }
          ],
          "scatterpolargl": [
           {
            "marker": {
             "colorbar": {
              "outlinewidth": 0,
              "ticks": ""
             }
            },
            "type": "scatterpolargl"
           }
          ],
          "scatterternary": [
           {
            "marker": {
             "colorbar": {
              "outlinewidth": 0,
              "ticks": ""
             }
            },
            "type": "scatterternary"
           }
          ],
          "surface": [
           {
            "colorbar": {
             "outlinewidth": 0,
             "ticks": ""
            },
            "colorscale": [
             [
              0,
              "#0d0887"
             ],
             [
              0.1111111111111111,
              "#46039f"
             ],
             [
              0.2222222222222222,
              "#7201a8"
             ],
             [
              0.3333333333333333,
              "#9c179e"
             ],
             [
              0.4444444444444444,
              "#bd3786"
             ],
             [
              0.5555555555555556,
              "#d8576b"
             ],
             [
              0.6666666666666666,
              "#ed7953"
             ],
             [
              0.7777777777777778,
              "#fb9f3a"
             ],
             [
              0.8888888888888888,
              "#fdca26"
             ],
             [
              1,
              "#f0f921"
             ]
            ],
            "type": "surface"
           }
          ],
          "table": [
           {
            "cells": {
             "fill": {
              "color": "#EBF0F8"
             },
             "line": {
              "color": "white"
             }
            },
            "header": {
             "fill": {
              "color": "#C8D4E3"
             },
             "line": {
              "color": "white"
             }
            },
            "type": "table"
           }
          ]
         },
         "layout": {
          "annotationdefaults": {
           "arrowcolor": "#2a3f5f",
           "arrowhead": 0,
           "arrowwidth": 1
          },
          "coloraxis": {
           "colorbar": {
            "outlinewidth": 0,
            "ticks": ""
           }
          },
          "colorscale": {
           "diverging": [
            [
             0,
             "#8e0152"
            ],
            [
             0.1,
             "#c51b7d"
            ],
            [
             0.2,
             "#de77ae"
            ],
            [
             0.3,
             "#f1b6da"
            ],
            [
             0.4,
             "#fde0ef"
            ],
            [
             0.5,
             "#f7f7f7"
            ],
            [
             0.6,
             "#e6f5d0"
            ],
            [
             0.7,
             "#b8e186"
            ],
            [
             0.8,
             "#7fbc41"
            ],
            [
             0.9,
             "#4d9221"
            ],
            [
             1,
             "#276419"
            ]
           ],
           "sequential": [
            [
             0,
             "#0d0887"
            ],
            [
             0.1111111111111111,
             "#46039f"
            ],
            [
             0.2222222222222222,
             "#7201a8"
            ],
            [
             0.3333333333333333,
             "#9c179e"
            ],
            [
             0.4444444444444444,
             "#bd3786"
            ],
            [
             0.5555555555555556,
             "#d8576b"
            ],
            [
             0.6666666666666666,
             "#ed7953"
            ],
            [
             0.7777777777777778,
             "#fb9f3a"
            ],
            [
             0.8888888888888888,
             "#fdca26"
            ],
            [
             1,
             "#f0f921"
            ]
           ],
           "sequentialminus": [
            [
             0,
             "#0d0887"
            ],
            [
             0.1111111111111111,
             "#46039f"
            ],
            [
             0.2222222222222222,
             "#7201a8"
            ],
            [
             0.3333333333333333,
             "#9c179e"
            ],
            [
             0.4444444444444444,
             "#bd3786"
            ],
            [
             0.5555555555555556,
             "#d8576b"
            ],
            [
             0.6666666666666666,
             "#ed7953"
            ],
            [
             0.7777777777777778,
             "#fb9f3a"
            ],
            [
             0.8888888888888888,
             "#fdca26"
            ],
            [
             1,
             "#f0f921"
            ]
           ]
          },
          "colorway": [
           "#636efa",
           "#EF553B",
           "#00cc96",
           "#ab63fa",
           "#FFA15A",
           "#19d3f3",
           "#FF6692",
           "#B6E880",
           "#FF97FF",
           "#FECB52"
          ],
          "font": {
           "color": "#2a3f5f"
          },
          "geo": {
           "bgcolor": "white",
           "lakecolor": "white",
           "landcolor": "#E5ECF6",
           "showlakes": true,
           "showland": true,
           "subunitcolor": "white"
          },
          "hoverlabel": {
           "align": "left"
          },
          "hovermode": "closest",
          "mapbox": {
           "style": "light"
          },
          "paper_bgcolor": "white",
          "plot_bgcolor": "#E5ECF6",
          "polar": {
           "angularaxis": {
            "gridcolor": "white",
            "linecolor": "white",
            "ticks": ""
           },
           "bgcolor": "#E5ECF6",
           "radialaxis": {
            "gridcolor": "white",
            "linecolor": "white",
            "ticks": ""
           }
          },
          "scene": {
           "xaxis": {
            "backgroundcolor": "#E5ECF6",
            "gridcolor": "white",
            "gridwidth": 2,
            "linecolor": "white",
            "showbackground": true,
            "ticks": "",
            "zerolinecolor": "white"
           },
           "yaxis": {
            "backgroundcolor": "#E5ECF6",
            "gridcolor": "white",
            "gridwidth": 2,
            "linecolor": "white",
            "showbackground": true,
            "ticks": "",
            "zerolinecolor": "white"
           },
           "zaxis": {
            "backgroundcolor": "#E5ECF6",
            "gridcolor": "white",
            "gridwidth": 2,
            "linecolor": "white",
            "showbackground": true,
            "ticks": "",
            "zerolinecolor": "white"
           }
          },
          "shapedefaults": {
           "line": {
            "color": "#2a3f5f"
           }
          },
          "ternary": {
           "aaxis": {
            "gridcolor": "white",
            "linecolor": "white",
            "ticks": ""
           },
           "baxis": {
            "gridcolor": "white",
            "linecolor": "white",
            "ticks": ""
           },
           "bgcolor": "#E5ECF6",
           "caxis": {
            "gridcolor": "white",
            "linecolor": "white",
            "ticks": ""
           }
          },
          "title": {
           "x": 0.05
          },
          "xaxis": {
           "automargin": true,
           "gridcolor": "white",
           "linecolor": "white",
           "ticks": "",
           "title": {
            "standoff": 15
           },
           "zerolinecolor": "white",
           "zerolinewidth": 2
          },
          "yaxis": {
           "automargin": true,
           "gridcolor": "white",
           "linecolor": "white",
           "ticks": "",
           "title": {
            "standoff": 15
           },
           "zerolinecolor": "white",
           "zerolinewidth": 2
          }
         }
        },
        "title": {
         "text": "AB Deposition Change Between Visits (Mutation Carriers)"
        },
        "xaxis": {
         "title": {
          "text": "Estimated Years to Symptom Onset"
         }
        },
        "yaxis": {
         "tickvals": [],
         "title": {
          "text": "Subject"
         }
        }
       }
      },
      "text/html": [
       "<div>\n",
       "        \n",
       "        \n",
       "            <div id=\"09b87da8-e630-48bf-a648-9e2192d6f0e2\" class=\"plotly-graph-div\" style=\"height:525px; width:100%;\"></div>\n",
       "            <script type=\"text/javascript\">\n",
       "                require([\"plotly\"], function(Plotly) {\n",
       "                    window.PLOTLYENV=window.PLOTLYENV || {};\n",
       "                    \n",
       "                if (document.getElementById(\"09b87da8-e630-48bf-a648-9e2192d6f0e2\")) {\n",
       "                    Plotly.newPlot(\n",
       "                        '09b87da8-e630-48bf-a648-9e2192d6f0e2',\n",
       "                        [{\"base\": [11.156844315999999], \"hovertext\": \"-0.04754737314540791\", \"marker\": {\"cmax\": 0.25, \"cmin\": -0.25, \"color\": \"rgb(142, 181, 194)\", \"colorscale\": [[0.0, \"rgb(23, 28, 66)\"], [0.09090909090909091, \"rgb(41, 58, 143)\"], [0.18181818181818182, \"rgb(11, 102, 189)\"], [0.2727272727272727, \"rgb(69, 144, 185)\"], [0.36363636363636365, \"rgb(142, 181, 194)\"], [0.45454545454545453, \"rgb(210, 216, 219)\"], [0.5454545454545454, \"rgb(230, 210, 204)\"], [0.6363636363636364, \"rgb(213, 157, 137)\"], [0.7272727272727273, \"rgb(196, 101, 72)\"], [0.8181818181818182, \"rgb(172, 43, 36)\"], [0.9090909090909091, \"rgb(120, 14, 40)\"], [1.0, \"rgb(60, 9, 17)\"]], \"opacity\": 1, \"showscale\": true}, \"orientation\": \"h\", \"type\": \"bar\", \"width\": 1, \"x0\": 1.9364248820000007, \"y\": [\"OI1VHG\"]}, {\"base\": [11.156844315999999], \"hovertext\": \"-0.04754737314540791\", \"marker\": {\"cmax\": 0.25, \"cmin\": -0.25, \"color\": \"rgb(142, 181, 194)\", \"opacity\": 1}, \"orientation\": \"h\", \"type\": \"bar\", \"width\": 1, \"x0\": 1.9364248820000007, \"y\": [\"OI1VHG\"]}, {\"base\": [11.156844315999999], \"hovertext\": \"-0.04754737314540791\", \"marker\": {\"cmax\": 0.25, \"cmin\": -0.25, \"color\": \"rgb(142, 181, 194)\", \"opacity\": 1}, \"orientation\": \"h\", \"type\": \"bar\", \"width\": 1, \"x0\": 1.9364248820000007, \"y\": [\"OI1VHG\"]}, {\"base\": [10.498046261], \"hovertext\": \"0.001864817475306646\", \"marker\": {\"cmax\": 0.25, \"cmin\": -0.25, \"color\": \"rgb(230, 210, 204)\", \"opacity\": 1}, \"orientation\": \"h\", \"type\": \"bar\", \"width\": 1, \"x0\": 1.1178082189999987, \"y\": [\"MI97B5\"]}, {\"base\": [10.498046261], \"hovertext\": \"0.001864817475306646\", \"marker\": {\"cmax\": 0.25, \"cmin\": -0.25, \"color\": \"rgb(230, 210, 204)\", \"opacity\": 1}, \"orientation\": \"h\", \"type\": \"bar\", \"width\": 1, \"x0\": 1.1178082189999987, \"y\": [\"MI97B5\"]}, {\"base\": [10.498046261], \"hovertext\": \"0.001864817475306646\", \"marker\": {\"cmax\": 0.25, \"cmin\": -0.25, \"color\": \"rgb(230, 210, 204)\", \"opacity\": 1}, \"orientation\": \"h\", \"type\": \"bar\", \"width\": 1, \"x0\": 1.1178082189999987, \"y\": [\"MI97B5\"]}, {\"base\": [9.7309229733], \"hovertext\": \"-0.05082633476760706\", \"marker\": {\"cmax\": 0.25, \"cmin\": -0.25, \"color\": \"rgb(142, 181, 194)\", \"opacity\": 1}, \"orientation\": \"h\", \"type\": \"bar\", \"width\": 1, \"x0\": 1.0164383557, \"y\": [\"D6TIH6\"]}, {\"base\": [9.7309229733], \"hovertext\": \"-0.05082633476760706\", \"marker\": {\"cmax\": 0.25, \"cmin\": -0.25, \"color\": \"rgb(142, 181, 194)\", \"opacity\": 1}, \"orientation\": \"h\", \"type\": \"bar\", \"width\": 1, \"x0\": 1.0164383557, \"y\": [\"D6TIH6\"]}, {\"base\": [9.7309229733], \"hovertext\": \"-0.05082633476760706\", \"marker\": {\"cmax\": 0.25, \"cmin\": -0.25, \"color\": \"rgb(142, 181, 194)\", \"opacity\": 1}, \"orientation\": \"h\", \"type\": \"bar\", \"width\": 1, \"x0\": 1.0164383557, \"y\": [\"D6TIH6\"]}, {\"base\": [8.689827082899999], \"hovertext\": \"-0.11302540788569354\", \"marker\": {\"cmax\": 0.25, \"cmin\": -0.25, \"color\": \"rgb(69, 144, 185)\", \"opacity\": 1}, \"orientation\": \"h\", \"type\": \"bar\", \"width\": 1, \"x0\": 1.0410958904000012, \"y\": [\"D6TIH6\"]}, {\"base\": [8.689827082899999], \"hovertext\": \"-0.11302540788569354\", \"marker\": {\"cmax\": 0.25, \"cmin\": -0.25, \"color\": \"rgb(69, 144, 185)\", \"opacity\": 1}, \"orientation\": \"h\", \"type\": \"bar\", \"width\": 1, \"x0\": 1.0410958904000012, \"y\": [\"D6TIH6\"]}, {\"base\": [8.689827082899999], \"hovertext\": \"-0.11302540788569354\", \"marker\": {\"cmax\": 0.25, \"cmin\": -0.25, \"color\": \"rgb(69, 144, 185)\", \"opacity\": 1}, \"orientation\": \"h\", \"type\": \"bar\", \"width\": 1, \"x0\": 1.0410958904000012, \"y\": [\"D6TIH6\"]}, {\"base\": [8.0910908909], \"hovertext\": \"0.03346855969757123\", \"marker\": {\"cmax\": 0.25, \"cmin\": -0.25, \"color\": \"rgb(230, 210, 204)\", \"opacity\": 1}, \"orientation\": \"h\", \"type\": \"bar\", \"width\": 1, \"x0\": 3.0657534250999987, \"y\": [\"OI1VHG\"]}, {\"base\": [8.0910908909], \"hovertext\": \"0.03346855969757123\", \"marker\": {\"cmax\": 0.25, \"cmin\": -0.25, \"color\": \"rgb(230, 210, 204)\", \"opacity\": 1}, \"orientation\": \"h\", \"type\": \"bar\", \"width\": 1, \"x0\": 3.0657534250999987, \"y\": [\"OI1VHG\"]}, {\"base\": [8.0910908909], \"hovertext\": \"0.03346855969757123\", \"marker\": {\"cmax\": 0.25, \"cmin\": -0.25, \"color\": \"rgb(230, 210, 204)\", \"opacity\": 1}, \"orientation\": \"h\", \"type\": \"bar\", \"width\": 1, \"x0\": 3.0657534250999987, \"y\": [\"OI1VHG\"]}, {\"base\": [7.596347032000001], \"hovertext\": \"-0.0018077813276340692\", \"marker\": {\"cmax\": 0.25, \"cmin\": -0.25, \"color\": \"rgb(210, 216, 219)\", \"opacity\": 1}, \"orientation\": \"h\", \"type\": \"bar\", \"width\": 1, \"x0\": 0.9972602739000003, \"y\": [\"UG9MGL\"]}, {\"base\": [7.596347032000001], \"hovertext\": \"-0.0018077813276340692\", \"marker\": {\"cmax\": 0.25, \"cmin\": -0.25, \"color\": \"rgb(210, 216, 219)\", \"opacity\": 1}, \"orientation\": \"h\", \"type\": \"bar\", \"width\": 1, \"x0\": 0.9972602739000003, \"y\": [\"UG9MGL\"]}, {\"base\": [7.596347032000001], \"hovertext\": \"-0.0018077813276340692\", \"marker\": {\"cmax\": 0.25, \"cmin\": -0.25, \"color\": \"rgb(210, 216, 219)\", \"opacity\": 1}, \"orientation\": \"h\", \"type\": \"bar\", \"width\": 1, \"x0\": 0.9972602739000003, \"y\": [\"UG9MGL\"]}, {\"base\": [7.5911969459], \"hovertext\": \"-0.036561503331639766\", \"marker\": {\"cmax\": 0.25, \"cmin\": -0.25, \"color\": \"rgb(210, 216, 219)\", \"opacity\": 1}, \"orientation\": \"h\", \"type\": \"bar\", \"width\": 1, \"x0\": 2.9068493151000006, \"y\": [\"MI97B5\"]}, {\"base\": [7.5911969459], \"hovertext\": \"-0.036561503331639766\", \"marker\": {\"cmax\": 0.25, \"cmin\": -0.25, \"color\": \"rgb(210, 216, 219)\", \"opacity\": 1}, \"orientation\": \"h\", \"type\": \"bar\", \"width\": 1, \"x0\": 2.9068493151000006, \"y\": [\"MI97B5\"]}, {\"base\": [7.5911969459], \"hovertext\": \"-0.036561503331639766\", \"marker\": {\"cmax\": 0.25, \"cmin\": -0.25, \"color\": \"rgb(210, 216, 219)\", \"opacity\": 1}, \"orientation\": \"h\", \"type\": \"bar\", \"width\": 1, \"x0\": 2.9068493151000006, \"y\": [\"MI97B5\"]}, {\"base\": [6.9856164384], \"hovertext\": \"0.061301642894622144\", \"marker\": {\"cmax\": 0.25, \"cmin\": -0.25, \"color\": \"rgb(213, 157, 137)\", \"opacity\": 1}, \"orientation\": \"h\", \"type\": \"bar\", \"width\": 1, \"x0\": 1.1076427876000006, \"y\": [\"L2YDAS\"]}, {\"base\": [6.9856164384], \"hovertext\": \"0.061301642894622144\", \"marker\": {\"cmax\": 0.25, \"cmin\": -0.25, \"color\": \"rgb(213, 157, 137)\", \"opacity\": 1}, \"orientation\": \"h\", \"type\": \"bar\", \"width\": 1, \"x0\": 1.1076427876000006, \"y\": [\"L2YDAS\"]}, {\"base\": [6.9856164384], \"hovertext\": \"0.061301642894622144\", \"marker\": {\"cmax\": 0.25, \"cmin\": -0.25, \"color\": \"rgb(213, 157, 137)\", \"opacity\": 1}, \"orientation\": \"h\", \"type\": \"bar\", \"width\": 1, \"x0\": 1.1076427876000006, \"y\": [\"L2YDAS\"]}, {\"base\": [6.5240437158], \"hovertext\": \"-0.0037855717848422257\", \"marker\": {\"cmax\": 0.25, \"cmin\": -0.25, \"color\": \"rgb(210, 216, 219)\", \"opacity\": 1}, \"orientation\": \"h\", \"type\": \"bar\", \"width\": 1, \"x0\": 1.0723033162000002, \"y\": [\"UG9MGL\"]}, {\"base\": [6.5240437158], \"hovertext\": \"-0.0037855717848422257\", \"marker\": {\"cmax\": 0.25, \"cmin\": -0.25, \"color\": \"rgb(210, 216, 219)\", \"opacity\": 1}, \"orientation\": \"h\", \"type\": \"bar\", \"width\": 1, \"x0\": 1.0723033162000002, \"y\": [\"UG9MGL\"]}, {\"base\": [6.5240437158], \"hovertext\": \"-0.0037855717848422257\", \"marker\": {\"cmax\": 0.25, \"cmin\": -0.25, \"color\": \"rgb(210, 216, 219)\", \"opacity\": 1}, \"orientation\": \"h\", \"type\": \"bar\", \"width\": 1, \"x0\": 1.0723033162000002, \"y\": [\"UG9MGL\"]}, {\"base\": [5.9938356164], \"hovertext\": \"-0.004260015311931098\", \"marker\": {\"cmax\": 0.25, \"cmin\": -0.25, \"color\": \"rgb(210, 216, 219)\", \"opacity\": 1}, \"orientation\": \"h\", \"type\": \"bar\", \"width\": 1, \"x0\": 0.991780822, \"y\": [\"L2YDAS\"]}, {\"base\": [5.9938356164], \"hovertext\": \"-0.004260015311931098\", \"marker\": {\"cmax\": 0.25, \"cmin\": -0.25, \"color\": \"rgb(210, 216, 219)\", \"opacity\": 1}, \"orientation\": \"h\", \"type\": \"bar\", \"width\": 1, \"x0\": 0.991780822, \"y\": [\"L2YDAS\"]}, {\"base\": [5.9938356164], \"hovertext\": \"-0.004260015311931098\", \"marker\": {\"cmax\": 0.25, \"cmin\": -0.25, \"color\": \"rgb(210, 216, 219)\", \"opacity\": 1}, \"orientation\": \"h\", \"type\": \"bar\", \"width\": 1, \"x0\": 0.991780822, \"y\": [\"L2YDAS\"]}, {\"base\": [5.9881278539], \"hovertext\": \"0.05259839887760975\", \"marker\": {\"cmax\": 0.25, \"cmin\": -0.25, \"color\": \"rgb(213, 157, 137)\", \"opacity\": 1}, \"orientation\": \"h\", \"type\": \"bar\", \"width\": 1, \"x0\": 2.3788008083999994, \"y\": [\"DQW9BD\"]}, {\"base\": [5.9881278539], \"hovertext\": \"0.05259839887760975\", \"marker\": {\"cmax\": 0.25, \"cmin\": -0.25, \"color\": \"rgb(213, 157, 137)\", \"opacity\": 1}, \"orientation\": \"h\", \"type\": \"bar\", \"width\": 1, \"x0\": 2.3788008083999994, \"y\": [\"DQW9BD\"]}, {\"base\": [5.9881278539], \"hovertext\": \"0.05259839887760975\", \"marker\": {\"cmax\": 0.25, \"cmin\": -0.25, \"color\": \"rgb(213, 157, 137)\", \"opacity\": 1}, \"orientation\": \"h\", \"type\": \"bar\", \"width\": 1, \"x0\": 2.3788008083999994, \"y\": [\"DQW9BD\"]}, {\"base\": [5.768590463400001], \"hovertext\": \"0.10405688407561542\", \"marker\": {\"cmax\": 0.25, \"cmin\": -0.25, \"color\": \"rgb(196, 101, 72)\", \"opacity\": 1}, \"orientation\": \"h\", \"type\": \"bar\", \"width\": 1, \"x0\": 2.0684931505999993, \"y\": [\"F9Y8XT\"]}, {\"base\": [5.768590463400001], \"hovertext\": \"0.10405688407561542\", \"marker\": {\"cmax\": 0.25, \"cmin\": -0.25, \"color\": \"rgb(196, 101, 72)\", \"opacity\": 1}, \"orientation\": \"h\", \"type\": \"bar\", \"width\": 1, \"x0\": 2.0684931505999993, \"y\": [\"F9Y8XT\"]}, {\"base\": [5.768590463400001], \"hovertext\": \"0.10405688407561542\", \"marker\": {\"cmax\": 0.25, \"cmin\": -0.25, \"color\": \"rgb(196, 101, 72)\", \"opacity\": 1}, \"orientation\": \"h\", \"type\": \"bar\", \"width\": 1, \"x0\": 2.0684931505999993, \"y\": [\"F9Y8XT\"]}, {\"base\": [4.9315068493], \"hovertext\": \"0.025608807427533353\", \"marker\": {\"cmax\": 0.25, \"cmin\": -0.25, \"color\": \"rgb(230, 210, 204)\", \"opacity\": 1}, \"orientation\": \"h\", \"type\": \"bar\", \"width\": 1, \"x0\": 0.9972602740000003, \"y\": [\"G3RZYE\"]}, {\"base\": [4.9315068493], \"hovertext\": \"0.025608807427533353\", \"marker\": {\"cmax\": 0.25, \"cmin\": -0.25, \"color\": \"rgb(230, 210, 204)\", \"opacity\": 1}, \"orientation\": \"h\", \"type\": \"bar\", \"width\": 1, \"x0\": 0.9972602740000003, \"y\": [\"G3RZYE\"]}, {\"base\": [4.9315068493], \"hovertext\": \"0.025608807427533353\", \"marker\": {\"cmax\": 0.25, \"cmin\": -0.25, \"color\": \"rgb(230, 210, 204)\", \"opacity\": 1}, \"orientation\": \"h\", \"type\": \"bar\", \"width\": 1, \"x0\": 0.9972602740000003, \"y\": [\"G3RZYE\"]}, {\"base\": [4.9232876712], \"hovertext\": \"-0.0825749824683101\", \"marker\": {\"cmax\": 0.25, \"cmin\": -0.25, \"color\": \"rgb(142, 181, 194)\", \"opacity\": 1}, \"orientation\": \"h\", \"type\": \"bar\", \"width\": 1, \"x0\": 2.261726177100001, \"y\": [\"HONS3G\"]}, {\"base\": [4.9232876712], \"hovertext\": \"-0.0825749824683101\", \"marker\": {\"cmax\": 0.25, \"cmin\": -0.25, \"color\": \"rgb(142, 181, 194)\", \"opacity\": 1}, \"orientation\": \"h\", \"type\": \"bar\", \"width\": 1, \"x0\": 2.261726177100001, \"y\": [\"HONS3G\"]}, {\"base\": [4.9232876712], \"hovertext\": \"-0.0825749824683101\", \"marker\": {\"cmax\": 0.25, \"cmin\": -0.25, \"color\": \"rgb(142, 181, 194)\", \"opacity\": 1}, \"orientation\": \"h\", \"type\": \"bar\", \"width\": 1, \"x0\": 2.261726177100001, \"y\": [\"HONS3G\"]}, {\"base\": [4.7990867580000005], \"hovertext\": \"-0.0447361537551495\", \"marker\": {\"cmax\": 0.25, \"cmin\": -0.25, \"color\": \"rgb(142, 181, 194)\", \"opacity\": 1}, \"orientation\": \"h\", \"type\": \"bar\", \"width\": 1, \"x0\": 1.1890410958999995, \"y\": [\"DQW9BD\"]}, {\"base\": [4.7990867580000005], \"hovertext\": \"-0.0447361537551495\", \"marker\": {\"cmax\": 0.25, \"cmin\": -0.25, \"color\": \"rgb(142, 181, 194)\", \"opacity\": 1}, \"orientation\": \"h\", \"type\": \"bar\", \"width\": 1, \"x0\": 1.1890410958999995, \"y\": [\"DQW9BD\"]}, {\"base\": [4.7990867580000005], \"hovertext\": \"-0.0447361537551495\", \"marker\": {\"cmax\": 0.25, \"cmin\": -0.25, \"color\": \"rgb(142, 181, 194)\", \"opacity\": 1}, \"orientation\": \"h\", \"type\": \"bar\", \"width\": 1, \"x0\": 1.1890410958999995, \"y\": [\"DQW9BD\"]}, {\"base\": [4.501369863], \"hovertext\": \"-0.08005408200650965\", \"marker\": {\"cmax\": 0.25, \"cmin\": -0.25, \"color\": \"rgb(142, 181, 194)\", \"opacity\": 1}, \"orientation\": \"h\", \"type\": \"bar\", \"width\": 1, \"x0\": 2.9945205480000006, \"y\": [\"8UFV8Z\"]}, {\"base\": [4.501369863], \"hovertext\": \"-0.08005408200650965\", \"marker\": {\"cmax\": 0.25, \"cmin\": -0.25, \"color\": \"rgb(142, 181, 194)\", \"opacity\": 1}, \"orientation\": \"h\", \"type\": \"bar\", \"width\": 1, \"x0\": 2.9945205480000006, \"y\": [\"8UFV8Z\"]}, {\"base\": [4.501369863], \"hovertext\": \"-0.08005408200650965\", \"marker\": {\"cmax\": 0.25, \"cmin\": -0.25, \"color\": \"rgb(142, 181, 194)\", \"opacity\": 1}, \"orientation\": \"h\", \"type\": \"bar\", \"width\": 1, \"x0\": 2.9945205480000006, \"y\": [\"8UFV8Z\"]}, {\"base\": [4.3446141178], \"hovertext\": \"-0.005491957882739873\", \"marker\": {\"cmax\": 0.25, \"cmin\": -0.25, \"color\": \"rgb(210, 216, 219)\", \"opacity\": 1}, \"orientation\": \"h\", \"type\": \"bar\", \"width\": 1, \"x0\": 1.0033310877000003, \"y\": [\"T5QGMH\"]}, {\"base\": [4.3446141178], \"hovertext\": \"-0.005491957882739873\", \"marker\": {\"cmax\": 0.25, \"cmin\": -0.25, \"color\": \"rgb(210, 216, 219)\", \"opacity\": 1}, \"orientation\": \"h\", \"type\": \"bar\", \"width\": 1, \"x0\": 1.0033310877000003, \"y\": [\"T5QGMH\"]}, {\"base\": [4.3446141178], \"hovertext\": \"-0.005491957882739873\", \"marker\": {\"cmax\": 0.25, \"cmin\": -0.25, \"color\": \"rgb(210, 216, 219)\", \"opacity\": 1}, \"orientation\": \"h\", \"type\": \"bar\", \"width\": 1, \"x0\": 1.0033310877000003, \"y\": [\"T5QGMH\"]}, {\"base\": [4.322602739700001], \"hovertext\": \"-0.003031672110619943\", \"marker\": {\"cmax\": 0.25, \"cmin\": -0.25, \"color\": \"rgb(210, 216, 219)\", \"opacity\": 1}, \"orientation\": \"h\", \"type\": \"bar\", \"width\": 1, \"x0\": 1.0164383561999992, \"y\": [\"9HBSN9\"]}, {\"base\": [4.322602739700001], \"hovertext\": \"-0.003031672110619943\", \"marker\": {\"cmax\": 0.25, \"cmin\": -0.25, \"color\": \"rgb(210, 216, 219)\", \"opacity\": 1}, \"orientation\": \"h\", \"type\": \"bar\", \"width\": 1, \"x0\": 1.0164383561999992, \"y\": [\"9HBSN9\"]}, {\"base\": [4.322602739700001], \"hovertext\": \"-0.003031672110619943\", \"marker\": {\"cmax\": 0.25, \"cmin\": -0.25, \"color\": \"rgb(210, 216, 219)\", \"opacity\": 1}, \"orientation\": \"h\", \"type\": \"bar\", \"width\": 1, \"x0\": 1.0164383561999992, \"y\": [\"9HBSN9\"]}, {\"base\": [3.9176959353], \"hovertext\": \"0.054246187408198754\", \"marker\": {\"cmax\": 0.25, \"cmin\": -0.25, \"color\": \"rgb(213, 157, 137)\", \"opacity\": 1}, \"orientation\": \"h\", \"type\": \"bar\", \"width\": 1, \"x0\": 1.013810914, \"y\": [\"G3RZYE\"]}, {\"base\": [3.9176959353], \"hovertext\": \"0.054246187408198754\", \"marker\": {\"cmax\": 0.25, \"cmin\": -0.25, \"color\": \"rgb(213, 157, 137)\", \"opacity\": 1}, \"orientation\": \"h\", \"type\": \"bar\", \"width\": 1, \"x0\": 1.013810914, \"y\": [\"G3RZYE\"]}, {\"base\": [3.9176959353], \"hovertext\": \"0.054246187408198754\", \"marker\": {\"cmax\": 0.25, \"cmin\": -0.25, \"color\": \"rgb(213, 157, 137)\", \"opacity\": 1}, \"orientation\": \"h\", \"type\": \"bar\", \"width\": 1, \"x0\": 1.013810914, \"y\": [\"G3RZYE\"]}, {\"base\": [3.8507822442000004], \"hovertext\": \"0.04006622814307048\", \"marker\": {\"cmax\": 0.25, \"cmin\": -0.25, \"color\": \"rgb(230, 210, 204)\", \"opacity\": 1}, \"orientation\": \"h\", \"type\": \"bar\", \"width\": 1, \"x0\": 1.9178082192000003, \"y\": [\"F9Y8XT\"]}, {\"base\": [3.8507822442000004], \"hovertext\": \"0.04006622814307048\", \"marker\": {\"cmax\": 0.25, \"cmin\": -0.25, \"color\": \"rgb(230, 210, 204)\", \"opacity\": 1}, \"orientation\": \"h\", \"type\": \"bar\", \"width\": 1, \"x0\": 1.9178082192000003, \"y\": [\"F9Y8XT\"]}, {\"base\": [3.8507822442000004], \"hovertext\": \"0.04006622814307048\", \"marker\": {\"cmax\": 0.25, \"cmin\": -0.25, \"color\": \"rgb(230, 210, 204)\", \"opacity\": 1}, \"orientation\": \"h\", \"type\": \"bar\", \"width\": 1, \"x0\": 1.9178082192000003, \"y\": [\"F9Y8XT\"]}, {\"base\": [3.6275020585], \"hovertext\": \"0.11612347201947837\", \"marker\": {\"cmax\": 0.25, \"cmin\": -0.25, \"color\": \"rgb(196, 101, 72)\", \"opacity\": 1}, \"orientation\": \"h\", \"type\": \"bar\", \"width\": 1, \"x0\": 1.8970881054, \"y\": [\"4LLB2T\"]}, {\"base\": [3.6275020585], \"hovertext\": \"0.11612347201947837\", \"marker\": {\"cmax\": 0.25, \"cmin\": -0.25, \"color\": \"rgb(196, 101, 72)\", \"opacity\": 1}, \"orientation\": \"h\", \"type\": \"bar\", \"width\": 1, \"x0\": 1.8970881054, \"y\": [\"4LLB2T\"]}, {\"base\": [3.6275020585], \"hovertext\": \"0.11612347201947837\", \"marker\": {\"cmax\": 0.25, \"cmin\": -0.25, \"color\": \"rgb(196, 101, 72)\", \"opacity\": 1}, \"orientation\": \"h\", \"type\": \"bar\", \"width\": 1, \"x0\": 1.8970881054, \"y\": [\"4LLB2T\"]}, {\"base\": [3.4739726027], \"hovertext\": \"-0.10980156917307726\", \"marker\": {\"cmax\": 0.25, \"cmin\": -0.25, \"color\": \"rgb(69, 144, 185)\", \"opacity\": 1}, \"orientation\": \"h\", \"type\": \"bar\", \"width\": 1, \"x0\": 1.0273972603, \"y\": [\"8UFV8Z\"]}, {\"base\": [3.4739726027], \"hovertext\": \"-0.10980156917307726\", \"marker\": {\"cmax\": 0.25, \"cmin\": -0.25, \"color\": \"rgb(69, 144, 185)\", \"opacity\": 1}, \"orientation\": \"h\", \"type\": \"bar\", \"width\": 1, \"x0\": 1.0273972603, \"y\": [\"8UFV8Z\"]}, {\"base\": [3.4739726027], \"hovertext\": \"-0.10980156917307726\", \"marker\": {\"cmax\": 0.25, \"cmin\": -0.25, \"color\": \"rgb(69, 144, 185)\", \"opacity\": 1}, \"orientation\": \"h\", \"type\": \"bar\", \"width\": 1, \"x0\": 1.0273972603, \"y\": [\"8UFV8Z\"]}, {\"base\": [3.3263979339999996], \"hovertext\": \"0.01632264049823373\", \"marker\": {\"cmax\": 0.25, \"cmin\": -0.25, \"color\": \"rgb(230, 210, 204)\", \"opacity\": 1}, \"orientation\": \"h\", \"type\": \"bar\", \"width\": 1, \"x0\": 0.996204805700001, \"y\": [\"9HBSN9\"]}, {\"base\": [3.3263979339999996], \"hovertext\": \"0.01632264049823373\", \"marker\": {\"cmax\": 0.25, \"cmin\": -0.25, \"color\": \"rgb(230, 210, 204)\", \"opacity\": 1}, \"orientation\": \"h\", \"type\": \"bar\", \"width\": 1, \"x0\": 0.996204805700001, \"y\": [\"9HBSN9\"]}, {\"base\": [3.3263979339999996], \"hovertext\": \"0.01632264049823373\", \"marker\": {\"cmax\": 0.25, \"cmin\": -0.25, \"color\": \"rgb(230, 210, 204)\", \"opacity\": 1}, \"orientation\": \"h\", \"type\": \"bar\", \"width\": 1, \"x0\": 0.996204805700001, \"y\": [\"9HBSN9\"]}, {\"base\": [3.3260273973000003], \"hovertext\": \"-0.014621910992252185\", \"marker\": {\"cmax\": 0.25, \"cmin\": -0.25, \"color\": \"rgb(210, 216, 219)\", \"opacity\": 1}, \"orientation\": \"h\", \"type\": \"bar\", \"width\": 1, \"x0\": 1.0185867204999997, \"y\": [\"T5QGMH\"]}, {\"base\": [3.3260273973000003], \"hovertext\": \"-0.014621910992252185\", \"marker\": {\"cmax\": 0.25, \"cmin\": -0.25, \"color\": \"rgb(210, 216, 219)\", \"opacity\": 1}, \"orientation\": \"h\", \"type\": \"bar\", \"width\": 1, \"x0\": 1.0185867204999997, \"y\": [\"T5QGMH\"]}, {\"base\": [3.3260273973000003], \"hovertext\": \"-0.014621910992252185\", \"marker\": {\"cmax\": 0.25, \"cmin\": -0.25, \"color\": \"rgb(210, 216, 219)\", \"opacity\": 1}, \"orientation\": \"h\", \"type\": \"bar\", \"width\": 1, \"x0\": 1.0185867204999997, \"y\": [\"T5QGMH\"]}, {\"base\": [2.8708061981], \"hovertext\": \"0.03552155419282789\", \"marker\": {\"cmax\": 0.25, \"cmin\": -0.25, \"color\": \"rgb(230, 210, 204)\", \"opacity\": 1}, \"orientation\": \"h\", \"type\": \"bar\", \"width\": 1, \"x0\": 2.0524814731, \"y\": [\"HONS3G\"]}, {\"base\": [2.8708061981], \"hovertext\": \"0.03552155419282789\", \"marker\": {\"cmax\": 0.25, \"cmin\": -0.25, \"color\": \"rgb(230, 210, 204)\", \"opacity\": 1}, \"orientation\": \"h\", \"type\": \"bar\", \"width\": 1, \"x0\": 2.0524814731, \"y\": [\"HONS3G\"]}, {\"base\": [2.8708061981], \"hovertext\": \"0.03552155419282789\", \"marker\": {\"cmax\": 0.25, \"cmin\": -0.25, \"color\": \"rgb(230, 210, 204)\", \"opacity\": 1}, \"orientation\": \"h\", \"type\": \"bar\", \"width\": 1, \"x0\": 2.0524814731, \"y\": [\"HONS3G\"]}, {\"base\": [1.6813683659], \"hovertext\": \"0.021024100218874908\", \"marker\": {\"cmax\": 0.25, \"cmin\": -0.25, \"color\": \"rgb(230, 210, 204)\", \"opacity\": 1}, \"orientation\": \"h\", \"type\": \"bar\", \"width\": 1, \"x0\": 1.0145220451, \"y\": [\"FI05HF\"]}, {\"base\": [1.6813683659], \"hovertext\": \"0.021024100218874908\", \"marker\": {\"cmax\": 0.25, \"cmin\": -0.25, \"color\": \"rgb(230, 210, 204)\", \"opacity\": 1}, \"orientation\": \"h\", \"type\": \"bar\", \"width\": 1, \"x0\": 1.0145220451, \"y\": [\"FI05HF\"]}, {\"base\": [1.6813683659], \"hovertext\": \"0.021024100218874908\", \"marker\": {\"cmax\": 0.25, \"cmin\": -0.25, \"color\": \"rgb(230, 210, 204)\", \"opacity\": 1}, \"orientation\": \"h\", \"type\": \"bar\", \"width\": 1, \"x0\": 1.0145220451, \"y\": [\"FI05HF\"]}, {\"base\": [1.6608316491], \"hovertext\": \"-0.05241971149664382\", \"marker\": {\"cmax\": 0.25, \"cmin\": -0.25, \"color\": \"rgb(142, 181, 194)\", \"opacity\": 1}, \"orientation\": \"h\", \"type\": \"bar\", \"width\": 1, \"x0\": 2.202739726, \"y\": [\"6KLYSA\"]}, {\"base\": [1.6608316491], \"hovertext\": \"-0.05241971149664382\", \"marker\": {\"cmax\": 0.25, \"cmin\": -0.25, \"color\": \"rgb(142, 181, 194)\", \"opacity\": 1}, \"orientation\": \"h\", \"type\": \"bar\", \"width\": 1, \"x0\": 2.202739726, \"y\": [\"6KLYSA\"]}, {\"base\": [1.6608316491], \"hovertext\": \"-0.05241971149664382\", \"marker\": {\"cmax\": 0.25, \"cmin\": -0.25, \"color\": \"rgb(142, 181, 194)\", \"opacity\": 1}, \"orientation\": \"h\", \"type\": \"bar\", \"width\": 1, \"x0\": 2.202739726, \"y\": [\"6KLYSA\"]}, {\"base\": [1.4836065574000001], \"hovertext\": \"-0.004677850296922692\", \"marker\": {\"cmax\": 0.25, \"cmin\": -0.25, \"color\": \"rgb(210, 216, 219)\", \"opacity\": 1}, \"orientation\": \"h\", \"type\": \"bar\", \"width\": 1, \"x0\": 2.1438955011000003, \"y\": [\"4LLB2T\"]}, {\"base\": [1.4836065574000001], \"hovertext\": \"-0.004677850296922692\", \"marker\": {\"cmax\": 0.25, \"cmin\": -0.25, \"color\": \"rgb(210, 216, 219)\", \"opacity\": 1}, \"orientation\": \"h\", \"type\": \"bar\", \"width\": 1, \"x0\": 2.1438955011000003, \"y\": [\"4LLB2T\"]}, {\"base\": [1.4836065574000001], \"hovertext\": \"-0.004677850296922692\", \"marker\": {\"cmax\": 0.25, \"cmin\": -0.25, \"color\": \"rgb(210, 216, 219)\", \"opacity\": 1}, \"orientation\": \"h\", \"type\": \"bar\", \"width\": 1, \"x0\": 2.1438955011000003, \"y\": [\"4LLB2T\"]}, {\"base\": [1.4340508806], \"hovertext\": \"-0.0003441245382119774\", \"marker\": {\"cmax\": 0.25, \"cmin\": -0.25, \"color\": \"rgb(210, 216, 219)\", \"opacity\": 1}, \"orientation\": \"h\", \"type\": \"bar\", \"width\": 1, \"x0\": 1.9388576989999997, \"y\": [\"JQ8KSL\"]}, {\"base\": [1.4340508806], \"hovertext\": \"-0.0003441245382119774\", \"marker\": {\"cmax\": 0.25, \"cmin\": -0.25, \"color\": \"rgb(210, 216, 219)\", \"opacity\": 1}, \"orientation\": \"h\", \"type\": \"bar\", \"width\": 1, \"x0\": 1.9388576989999997, \"y\": [\"JQ8KSL\"]}, {\"base\": [1.4340508806], \"hovertext\": \"-0.0003441245382119774\", \"marker\": {\"cmax\": 0.25, \"cmin\": -0.25, \"color\": \"rgb(210, 216, 219)\", \"opacity\": 1}, \"orientation\": \"h\", \"type\": \"bar\", \"width\": 1, \"x0\": 1.9388576989999997, \"y\": [\"JQ8KSL\"]}, {\"base\": [0.9524130335], \"hovertext\": \"-1.0007505629221915e-05\", \"marker\": {\"cmax\": 0.25, \"cmin\": -0.25, \"color\": \"rgb(210, 216, 219)\", \"opacity\": 1}, \"orientation\": \"h\", \"type\": \"bar\", \"width\": 1, \"x0\": 1.7625720488, \"y\": [\"1BVPA1\"]}, {\"base\": [0.9524130335], \"hovertext\": \"-1.0007505629221915e-05\", \"marker\": {\"cmax\": 0.25, \"cmin\": -0.25, \"color\": \"rgb(210, 216, 219)\", \"opacity\": 1}, \"orientation\": \"h\", \"type\": \"bar\", \"width\": 1, \"x0\": 1.7625720488, \"y\": [\"1BVPA1\"]}, {\"base\": [0.9524130335], \"hovertext\": \"-1.0007505629221915e-05\", \"marker\": {\"cmax\": 0.25, \"cmin\": -0.25, \"color\": \"rgb(210, 216, 219)\", \"opacity\": 1}, \"orientation\": \"h\", \"type\": \"bar\", \"width\": 1, \"x0\": 1.7625720488, \"y\": [\"1BVPA1\"]}, {\"base\": [0.9049554606999999], \"hovertext\": \"0.09401408960377286\", \"marker\": {\"cmax\": 0.25, \"cmin\": -0.25, \"color\": \"rgb(196, 101, 72)\", \"opacity\": 1}, \"orientation\": \"h\", \"type\": \"bar\", \"width\": 1, \"x0\": 0.8073733064000002, \"y\": [\"UN9628\"]}, {\"base\": [0.9049554606999999], \"hovertext\": \"0.09401408960377286\", \"marker\": {\"cmax\": 0.25, \"cmin\": -0.25, \"color\": \"rgb(196, 101, 72)\", \"opacity\": 1}, \"orientation\": \"h\", \"type\": \"bar\", \"width\": 1, \"x0\": 0.8073733064000002, \"y\": [\"UN9628\"]}, {\"base\": [0.9049554606999999], \"hovertext\": \"0.09401408960377286\", \"marker\": {\"cmax\": 0.25, \"cmin\": -0.25, \"color\": \"rgb(196, 101, 72)\", \"opacity\": 1}, \"orientation\": \"h\", \"type\": \"bar\", \"width\": 1, \"x0\": 0.8073733064000002, \"y\": [\"UN9628\"]}, {\"base\": [0.8767123287999999], \"hovertext\": \"0.010128590133757776\", \"marker\": {\"cmax\": 0.25, \"cmin\": -0.25, \"color\": \"rgb(230, 210, 204)\", \"opacity\": 1}, \"orientation\": \"h\", \"type\": \"bar\", \"width\": 1, \"x0\": 1.0191780821999998, \"y\": [\"SOACBP\"]}, {\"base\": [0.8767123287999999], \"hovertext\": \"0.010128590133757776\", \"marker\": {\"cmax\": 0.25, \"cmin\": -0.25, \"color\": \"rgb(230, 210, 204)\", \"opacity\": 1}, \"orientation\": \"h\", \"type\": \"bar\", \"width\": 1, \"x0\": 1.0191780821999998, \"y\": [\"SOACBP\"]}, {\"base\": [0.8767123287999999], \"hovertext\": \"0.010128590133757776\", \"marker\": {\"cmax\": 0.25, \"cmin\": -0.25, \"color\": \"rgb(230, 210, 204)\", \"opacity\": 1}, \"orientation\": \"h\", \"type\": \"bar\", \"width\": 1, \"x0\": 1.0191780821999998, \"y\": [\"SOACBP\"]}, {\"base\": [0.8306010929000001], \"hovertext\": \"0.050024869472833466\", \"marker\": {\"cmax\": 0.25, \"cmin\": -0.25, \"color\": \"rgb(213, 157, 137)\", \"opacity\": 1}, \"orientation\": \"h\", \"type\": \"bar\", \"width\": 1, \"x0\": 0.9242907402999998, \"y\": [\"B93NRI\"]}, {\"base\": [0.8306010929000001], \"hovertext\": \"0.050024869472833466\", \"marker\": {\"cmax\": 0.25, \"cmin\": -0.25, \"color\": \"rgb(213, 157, 137)\", \"opacity\": 1}, \"orientation\": \"h\", \"type\": \"bar\", \"width\": 1, \"x0\": 0.9242907402999998, \"y\": [\"B93NRI\"]}, {\"base\": [0.8306010929000001], \"hovertext\": \"0.050024869472833466\", \"marker\": {\"cmax\": 0.25, \"cmin\": -0.25, \"color\": \"rgb(213, 157, 137)\", \"opacity\": 1}, \"orientation\": \"h\", \"type\": \"bar\", \"width\": 1, \"x0\": 0.9242907402999998, \"y\": [\"B93NRI\"]}, {\"base\": [0.662568306], \"hovertext\": \"0.059246619725348726\", \"marker\": {\"cmax\": 0.25, \"cmin\": -0.25, \"color\": \"rgb(213, 157, 137)\", \"opacity\": 1}, \"orientation\": \"h\", \"type\": \"bar\", \"width\": 1, \"x0\": 0.9982633430999999, \"y\": [\"6KLYSA\"]}, {\"base\": [0.662568306], \"hovertext\": \"0.059246619725348726\", \"marker\": {\"cmax\": 0.25, \"cmin\": -0.25, \"color\": \"rgb(213, 157, 137)\", \"opacity\": 1}, \"orientation\": \"h\", \"type\": \"bar\", \"width\": 1, \"x0\": 0.9982633430999999, \"y\": [\"6KLYSA\"]}, {\"base\": [0.662568306], \"hovertext\": \"0.059246619725348726\", \"marker\": {\"cmax\": 0.25, \"cmin\": -0.25, \"color\": \"rgb(213, 157, 137)\", \"opacity\": 1}, \"orientation\": \"h\", \"type\": \"bar\", \"width\": 1, \"x0\": 0.9982633430999999, \"y\": [\"6KLYSA\"]}, {\"base\": [0.4313571375], \"hovertext\": \"-0.007331011247851484\", \"marker\": {\"cmax\": 0.25, \"cmin\": -0.25, \"color\": \"rgb(210, 216, 219)\", \"opacity\": 1}, \"orientation\": \"h\", \"type\": \"bar\", \"width\": 1, \"x0\": 1.0590538213999998, \"y\": [\"Q4W4NR\"]}, {\"base\": [0.4313571375], \"hovertext\": \"-0.007331011247851484\", \"marker\": {\"cmax\": 0.25, \"cmin\": -0.25, \"color\": \"rgb(210, 216, 219)\", \"opacity\": 1}, \"orientation\": \"h\", \"type\": \"bar\", \"width\": 1, \"x0\": 1.0590538213999998, \"y\": [\"Q4W4NR\"]}, {\"base\": [0.4313571375], \"hovertext\": \"-0.007331011247851484\", \"marker\": {\"cmax\": 0.25, \"cmin\": -0.25, \"color\": \"rgb(210, 216, 219)\", \"opacity\": 1}, \"orientation\": \"h\", \"type\": \"bar\", \"width\": 1, \"x0\": 1.0590538213999998, \"y\": [\"Q4W4NR\"]}, {\"base\": [0.41803278689999995], \"hovertext\": \"-0.013150100998939873\", \"marker\": {\"cmax\": 0.25, \"cmin\": -0.25, \"color\": \"rgb(210, 216, 219)\", \"opacity\": 1}, \"orientation\": \"h\", \"type\": \"bar\", \"width\": 1, \"x0\": 0.9994161239000001, \"y\": [\"UB4BB8\"]}, {\"base\": [0.41803278689999995], \"hovertext\": \"-0.013150100998939873\", \"marker\": {\"cmax\": 0.25, \"cmin\": -0.25, \"color\": \"rgb(210, 216, 219)\", \"opacity\": 1}, \"orientation\": \"h\", \"type\": \"bar\", \"width\": 1, \"x0\": 0.9994161239000001, \"y\": [\"UB4BB8\"]}, {\"base\": [0.41803278689999995], \"hovertext\": \"-0.013150100998939873\", \"marker\": {\"cmax\": 0.25, \"cmin\": -0.25, \"color\": \"rgb(210, 216, 219)\", \"opacity\": 1}, \"orientation\": \"h\", \"type\": \"bar\", \"width\": 1, \"x0\": 0.9994161239000001, \"y\": [\"UB4BB8\"]}, {\"base\": [0.3436399217], \"hovertext\": \"0.0003230840342430487\", \"marker\": {\"cmax\": 0.25, \"cmin\": -0.25, \"color\": \"rgb(230, 210, 204)\", \"opacity\": 1}, \"orientation\": \"h\", \"type\": \"bar\", \"width\": 1, \"x0\": 1.0904109589000002, \"y\": [\"JQ8KSL\"]}, {\"base\": [0.3436399217], \"hovertext\": \"0.0003230840342430487\", \"marker\": {\"cmax\": 0.25, \"cmin\": -0.25, \"color\": \"rgb(230, 210, 204)\", \"opacity\": 1}, \"orientation\": \"h\", \"type\": \"bar\", \"width\": 1, \"x0\": 1.0904109589000002, \"y\": [\"JQ8KSL\"]}, {\"base\": [0.3436399217], \"hovertext\": \"0.0003230840342430487\", \"marker\": {\"cmax\": 0.25, \"cmin\": -0.25, \"color\": \"rgb(230, 210, 204)\", \"opacity\": 1}, \"orientation\": \"h\", \"type\": \"bar\", \"width\": 1, \"x0\": 1.0904109589000002, \"y\": [\"JQ8KSL\"]}, {\"base\": [0.3095890411], \"hovertext\": \"-0.013303235844228434\", \"marker\": {\"cmax\": 0.25, \"cmin\": -0.25, \"color\": \"rgb(210, 216, 219)\", \"opacity\": 1}, \"orientation\": \"h\", \"type\": \"bar\", \"width\": 1, \"x0\": 1.2493150685, \"y\": [\"UIRDPU\"]}, {\"base\": [0.3095890411], \"hovertext\": \"-0.013303235844228434\", \"marker\": {\"cmax\": 0.25, \"cmin\": -0.25, \"color\": \"rgb(210, 216, 219)\", \"opacity\": 1}, \"orientation\": \"h\", \"type\": \"bar\", \"width\": 1, \"x0\": 1.2493150685, \"y\": [\"UIRDPU\"]}, {\"base\": [0.3095890411], \"hovertext\": \"-0.013303235844228434\", \"marker\": {\"cmax\": 0.25, \"cmin\": -0.25, \"color\": \"rgb(210, 216, 219)\", \"opacity\": 1}, \"orientation\": \"h\", \"type\": \"bar\", \"width\": 1, \"x0\": 1.2493150685, \"y\": [\"UIRDPU\"]}, {\"base\": [-0.08594313099999999], \"hovertext\": \"-5.652434281790343e-05\", \"marker\": {\"cmax\": 0.25, \"cmin\": -0.25, \"color\": \"rgb(210, 216, 219)\", \"opacity\": 1}, \"orientation\": \"h\", \"type\": \"bar\", \"width\": 1, \"x0\": 1.0383561645, \"y\": [\"1BVPA1\"]}, {\"base\": [-0.08594313099999999], \"hovertext\": \"-5.652434281790343e-05\", \"marker\": {\"cmax\": 0.25, \"cmin\": -0.25, \"color\": \"rgb(210, 216, 219)\", \"opacity\": 1}, \"orientation\": \"h\", \"type\": \"bar\", \"width\": 1, \"x0\": 1.0383561645, \"y\": [\"1BVPA1\"]}, {\"base\": [-0.08594313099999999], \"hovertext\": \"-5.652434281790343e-05\", \"marker\": {\"cmax\": 0.25, \"cmin\": -0.25, \"color\": \"rgb(210, 216, 219)\", \"opacity\": 1}, \"orientation\": \"h\", \"type\": \"bar\", \"width\": 1, \"x0\": 1.0383561645, \"y\": [\"1BVPA1\"]}, {\"base\": [-0.132839284], \"hovertext\": \"0.0012882503128137657\", \"marker\": {\"cmax\": 0.25, \"cmin\": -0.25, \"color\": \"rgb(230, 210, 204)\", \"opacity\": 1}, \"orientation\": \"h\", \"type\": \"bar\", \"width\": 1, \"x0\": 1.0095516128, \"y\": [\"SOACBP\"]}, {\"base\": [-0.132839284], \"hovertext\": \"0.0012882503128137657\", \"marker\": {\"cmax\": 0.25, \"cmin\": -0.25, \"color\": \"rgb(230, 210, 204)\", \"opacity\": 1}, \"orientation\": \"h\", \"type\": \"bar\", \"width\": 1, \"x0\": 1.0095516128, \"y\": [\"SOACBP\"]}, {\"base\": [-0.132839284], \"hovertext\": \"0.0012882503128137657\", \"marker\": {\"cmax\": 0.25, \"cmin\": -0.25, \"color\": \"rgb(230, 210, 204)\", \"opacity\": 1}, \"orientation\": \"h\", \"type\": \"bar\", \"width\": 1, \"x0\": 1.0095516128, \"y\": [\"SOACBP\"]}, {\"base\": [-0.295890411], \"hovertext\": \"-0.24324129873168326\", \"marker\": {\"cmax\": 0.25, \"cmin\": -0.25, \"color\": \"rgb(23, 28, 66)\", \"opacity\": 1}, \"orientation\": \"h\", \"type\": \"bar\", \"width\": 1, \"x0\": 1.2008458717, \"y\": [\"UN9628\"]}, {\"base\": [-0.295890411], \"hovertext\": \"-0.24324129873168326\", \"marker\": {\"cmax\": 0.25, \"cmin\": -0.25, \"color\": \"rgb(23, 28, 66)\", \"opacity\": 1}, \"orientation\": \"h\", \"type\": \"bar\", \"width\": 1, \"x0\": 1.2008458717, \"y\": [\"UN9628\"]}, {\"base\": [-0.295890411], \"hovertext\": \"-0.24324129873168326\", \"marker\": {\"cmax\": 0.25, \"cmin\": -0.25, \"color\": \"rgb(23, 28, 66)\", \"opacity\": 1}, \"orientation\": \"h\", \"type\": \"bar\", \"width\": 1, \"x0\": 1.2008458717, \"y\": [\"UN9628\"]}, {\"base\": [-0.336986301], \"hovertext\": \"0.05634342068218934\", \"marker\": {\"cmax\": 0.25, \"cmin\": -0.25, \"color\": \"rgb(213, 157, 137)\", \"opacity\": 1}, \"orientation\": \"h\", \"type\": \"bar\", \"width\": 1, \"x0\": 2.0183546669, \"y\": [\"FI05HF\"]}, {\"base\": [-0.336986301], \"hovertext\": \"0.05634342068218934\", \"marker\": {\"cmax\": 0.25, \"cmin\": -0.25, \"color\": \"rgb(213, 157, 137)\", \"opacity\": 1}, \"orientation\": \"h\", \"type\": \"bar\", \"width\": 1, \"x0\": 2.0183546669, \"y\": [\"FI05HF\"]}, {\"base\": [-0.336986301], \"hovertext\": \"0.05634342068218934\", \"marker\": {\"cmax\": 0.25, \"cmin\": -0.25, \"color\": \"rgb(213, 157, 137)\", \"opacity\": 1}, \"orientation\": \"h\", \"type\": \"bar\", \"width\": 1, \"x0\": 2.0183546669, \"y\": [\"FI05HF\"]}, {\"base\": [-0.425930085], \"hovertext\": \"0.007314234053345636\", \"marker\": {\"cmax\": 0.25, \"cmin\": -0.25, \"color\": \"rgb(230, 210, 204)\", \"opacity\": 1}, \"orientation\": \"h\", \"type\": \"bar\", \"width\": 1, \"x0\": 1.2565311779000001, \"y\": [\"B93NRI\"]}, {\"base\": [-0.425930085], \"hovertext\": \"0.007314234053345636\", \"marker\": {\"cmax\": 0.25, \"cmin\": -0.25, \"color\": \"rgb(230, 210, 204)\", \"opacity\": 1}, \"orientation\": \"h\", \"type\": \"bar\", \"width\": 1, \"x0\": 1.2565311779000001, \"y\": [\"B93NRI\"]}, {\"base\": [-0.425930085], \"hovertext\": \"0.007314234053345636\", \"marker\": {\"cmax\": 0.25, \"cmin\": -0.25, \"color\": \"rgb(230, 210, 204)\", \"opacity\": 1}, \"orientation\": \"h\", \"type\": \"bar\", \"width\": 1, \"x0\": 1.2565311779000001, \"y\": [\"B93NRI\"]}, {\"base\": [-0.569863014], \"hovertext\": \"0.026733500899792477\", \"marker\": {\"cmax\": 0.25, \"cmin\": -0.25, \"color\": \"rgb(230, 210, 204)\", \"opacity\": 1}, \"orientation\": \"h\", \"type\": \"bar\", \"width\": 1, \"x0\": 1.0012201514999999, \"y\": [\"Q4W4NR\"]}, {\"base\": [-0.569863014], \"hovertext\": \"0.026733500899792477\", \"marker\": {\"cmax\": 0.25, \"cmin\": -0.25, \"color\": \"rgb(230, 210, 204)\", \"opacity\": 1}, \"orientation\": \"h\", \"type\": \"bar\", \"width\": 1, \"x0\": 1.0012201514999999, \"y\": [\"Q4W4NR\"]}, {\"base\": [-0.569863014], \"hovertext\": \"0.026733500899792477\", \"marker\": {\"cmax\": 0.25, \"cmin\": -0.25, \"color\": \"rgb(230, 210, 204)\", \"opacity\": 1}, \"orientation\": \"h\", \"type\": \"bar\", \"width\": 1, \"x0\": 1.0012201514999999, \"y\": [\"Q4W4NR\"]}, {\"base\": [-0.599363725], \"hovertext\": \"-0.07957969064476578\", \"marker\": {\"cmax\": 0.25, \"cmin\": -0.25, \"color\": \"rgb(142, 181, 194)\", \"opacity\": 1}, \"orientation\": \"h\", \"type\": \"bar\", \"width\": 1, \"x0\": 0.9089527661000001, \"y\": [\"UIRDPU\"]}, {\"base\": [-0.599363725], \"hovertext\": \"-0.07957969064476578\", \"marker\": {\"cmax\": 0.25, \"cmin\": -0.25, \"color\": \"rgb(142, 181, 194)\", \"opacity\": 1}, \"orientation\": \"h\", \"type\": \"bar\", \"width\": 1, \"x0\": 0.9089527661000001, \"y\": [\"UIRDPU\"]}, {\"base\": [-0.599363725], \"hovertext\": \"-0.07957969064476578\", \"marker\": {\"cmax\": 0.25, \"cmin\": -0.25, \"color\": \"rgb(142, 181, 194)\", \"opacity\": 1}, \"orientation\": \"h\", \"type\": \"bar\", \"width\": 1, \"x0\": 0.9089527661000001, \"y\": [\"UIRDPU\"]}, {\"base\": [-1.4654839430000002], \"hovertext\": \"0.02389070216720751\", \"marker\": {\"cmax\": 0.25, \"cmin\": -0.25, \"color\": \"rgb(230, 210, 204)\", \"opacity\": 1}, \"orientation\": \"h\", \"type\": \"bar\", \"width\": 1, \"x0\": 0.9969907920000002, \"y\": [\"MZR5QU\"]}, {\"base\": [-1.4654839430000002], \"hovertext\": \"0.02389070216720751\", \"marker\": {\"cmax\": 0.25, \"cmin\": -0.25, \"color\": \"rgb(230, 210, 204)\", \"opacity\": 1}, \"orientation\": \"h\", \"type\": \"bar\", \"width\": 1, \"x0\": 0.9969907920000002, \"y\": [\"MZR5QU\"]}, {\"base\": [-1.4654839430000002], \"hovertext\": \"0.02389070216720751\", \"marker\": {\"cmax\": 0.25, \"cmin\": -0.25, \"color\": \"rgb(230, 210, 204)\", \"opacity\": 1}, \"orientation\": \"h\", \"type\": \"bar\", \"width\": 1, \"x0\": 0.9969907920000002, \"y\": [\"MZR5QU\"]}, {\"base\": [-1.659487986], \"hovertext\": \"0.01937864968651254\", \"marker\": {\"cmax\": 0.25, \"cmin\": -0.25, \"color\": \"rgb(230, 210, 204)\", \"opacity\": 1}, \"orientation\": \"h\", \"type\": \"bar\", \"width\": 1, \"x0\": 3.0219178086, \"y\": [\"BS2VBS\"]}, {\"base\": [-1.659487986], \"hovertext\": \"0.01937864968651254\", \"marker\": {\"cmax\": 0.25, \"cmin\": -0.25, \"color\": \"rgb(230, 210, 204)\", \"opacity\": 1}, \"orientation\": \"h\", \"type\": \"bar\", \"width\": 1, \"x0\": 3.0219178086, \"y\": [\"BS2VBS\"]}, {\"base\": [-1.659487986], \"hovertext\": \"0.01937864968651254\", \"marker\": {\"cmax\": 0.25, \"cmin\": -0.25, \"color\": \"rgb(230, 210, 204)\", \"opacity\": 1}, \"orientation\": \"h\", \"type\": \"bar\", \"width\": 1, \"x0\": 3.0219178086, \"y\": [\"BS2VBS\"]}, {\"base\": [-1.919537391], \"hovertext\": \"0.07492289261589602\", \"marker\": {\"cmax\": 0.25, \"cmin\": -0.25, \"color\": \"rgb(213, 157, 137)\", \"opacity\": 1}, \"orientation\": \"h\", \"type\": \"bar\", \"width\": 1, \"x0\": 2.3375701779, \"y\": [\"UB4BB8\"]}, {\"base\": [-1.919537391], \"hovertext\": \"0.07492289261589602\", \"marker\": {\"cmax\": 0.25, \"cmin\": -0.25, \"color\": \"rgb(213, 157, 137)\", \"opacity\": 1}, \"orientation\": \"h\", \"type\": \"bar\", \"width\": 1, \"x0\": 2.3375701779, \"y\": [\"UB4BB8\"]}, {\"base\": [-1.919537391], \"hovertext\": \"0.07492289261589602\", \"marker\": {\"cmax\": 0.25, \"cmin\": -0.25, \"color\": \"rgb(213, 157, 137)\", \"opacity\": 1}, \"orientation\": \"h\", \"type\": \"bar\", \"width\": 1, \"x0\": 2.3375701779, \"y\": [\"UB4BB8\"]}, {\"base\": [-2.834830451], \"hovertext\": \"0.07372795757876303\", \"marker\": {\"cmax\": 0.25, \"cmin\": -0.25, \"color\": \"rgb(213, 157, 137)\", \"opacity\": 1}, \"orientation\": \"h\", \"type\": \"bar\", \"width\": 1, \"x0\": 1.1753424650000002, \"y\": [\"BS2VBS\"]}, {\"base\": [-2.834830451], \"hovertext\": \"0.07372795757876303\", \"marker\": {\"cmax\": 0.25, \"cmin\": -0.25, \"color\": \"rgb(213, 157, 137)\", \"opacity\": 1}, \"orientation\": \"h\", \"type\": \"bar\", \"width\": 1, \"x0\": 1.1753424650000002, \"y\": [\"BS2VBS\"]}, {\"base\": [-2.834830451], \"hovertext\": \"0.07372795757876303\", \"marker\": {\"cmax\": 0.25, \"cmin\": -0.25, \"color\": \"rgb(213, 157, 137)\", \"opacity\": 1}, \"orientation\": \"h\", \"type\": \"bar\", \"width\": 1, \"x0\": 1.1753424650000002, \"y\": [\"BS2VBS\"]}, {\"base\": [-2.933574024], \"hovertext\": \"0.007635454232267075\", \"marker\": {\"cmax\": 0.25, \"cmin\": -0.25, \"color\": \"rgb(230, 210, 204)\", \"opacity\": 1}, \"orientation\": \"h\", \"type\": \"bar\", \"width\": 1, \"x0\": 0.938842728, \"y\": [\"PAU8PN\"]}, {\"base\": [-2.933574024], \"hovertext\": \"0.007635454232267075\", \"marker\": {\"cmax\": 0.25, \"cmin\": -0.25, \"color\": \"rgb(230, 210, 204)\", \"opacity\": 1}, \"orientation\": \"h\", \"type\": \"bar\", \"width\": 1, \"x0\": 0.938842728, \"y\": [\"PAU8PN\"]}, {\"base\": [-2.933574024], \"hovertext\": \"0.007635454232267075\", \"marker\": {\"cmax\": 0.25, \"cmin\": -0.25, \"color\": \"rgb(230, 210, 204)\", \"opacity\": 1}, \"orientation\": \"h\", \"type\": \"bar\", \"width\": 1, \"x0\": 0.938842728, \"y\": [\"PAU8PN\"]}, {\"base\": [-3.57260274], \"hovertext\": \"-0.019258936135773508\", \"marker\": {\"cmax\": 0.25, \"cmin\": -0.25, \"color\": \"rgb(210, 216, 219)\", \"opacity\": 1}, \"orientation\": \"h\", \"type\": \"bar\", \"width\": 1, \"x0\": 2.107118797, \"y\": [\"MZR5QU\"]}, {\"base\": [-3.57260274], \"hovertext\": \"-0.019258936135773508\", \"marker\": {\"cmax\": 0.25, \"cmin\": -0.25, \"color\": \"rgb(210, 216, 219)\", \"opacity\": 1}, \"orientation\": \"h\", \"type\": \"bar\", \"width\": 1, \"x0\": 2.107118797, \"y\": [\"MZR5QU\"]}, {\"base\": [-3.57260274], \"hovertext\": \"-0.019258936135773508\", \"marker\": {\"cmax\": 0.25, \"cmin\": -0.25, \"color\": \"rgb(210, 216, 219)\", \"opacity\": 1}, \"orientation\": \"h\", \"type\": \"bar\", \"width\": 1, \"x0\": 2.107118797, \"y\": [\"MZR5QU\"]}, {\"base\": [-4.101580611], \"hovertext\": \"0.008552166351108198\", \"marker\": {\"cmax\": 0.25, \"cmin\": -0.25, \"color\": \"rgb(230, 210, 204)\", \"opacity\": 1}, \"orientation\": \"h\", \"type\": \"bar\", \"width\": 1, \"x0\": 1.1680065870000003, \"y\": [\"PAU8PN\"]}, {\"base\": [-4.101580611], \"hovertext\": \"0.008552166351108198\", \"marker\": {\"cmax\": 0.25, \"cmin\": -0.25, \"color\": \"rgb(230, 210, 204)\", \"opacity\": 1}, \"orientation\": \"h\", \"type\": \"bar\", \"width\": 1, \"x0\": 1.1680065870000003, \"y\": [\"PAU8PN\"]}, {\"base\": [-4.101580611], \"hovertext\": \"0.008552166351108198\", \"marker\": {\"cmax\": 0.25, \"cmin\": -0.25, \"color\": \"rgb(230, 210, 204)\", \"opacity\": 1}, \"orientation\": \"h\", \"type\": \"bar\", \"width\": 1, \"x0\": 1.1680065870000003, \"y\": [\"PAU8PN\"]}, {\"base\": [-4.237181996], \"hovertext\": \"-6.492286769969832e-05\", \"marker\": {\"cmax\": 0.25, \"cmin\": -0.25, \"color\": \"rgb(210, 216, 219)\", \"opacity\": 1}, \"orientation\": \"h\", \"type\": \"bar\", \"width\": 1, \"x0\": 1.8496144920000002, \"y\": [\"FR4AL7\"]}, {\"base\": [-4.237181996], \"hovertext\": \"-6.492286769969832e-05\", \"marker\": {\"cmax\": 0.25, \"cmin\": -0.25, \"color\": \"rgb(210, 216, 219)\", \"opacity\": 1}, \"orientation\": \"h\", \"type\": \"bar\", \"width\": 1, \"x0\": 1.8496144920000002, \"y\": [\"FR4AL7\"]}, {\"base\": [-4.237181996], \"hovertext\": \"-6.492286769969832e-05\", \"marker\": {\"cmax\": 0.25, \"cmin\": -0.25, \"color\": \"rgb(210, 216, 219)\", \"opacity\": 1}, \"orientation\": \"h\", \"type\": \"bar\", \"width\": 1, \"x0\": 1.8496144920000002, \"y\": [\"FR4AL7\"]}, {\"base\": [-5.075026343999999], \"hovertext\": \"0.044417030787184175\", \"marker\": {\"cmax\": 0.25, \"cmin\": -0.25, \"color\": \"rgb(213, 157, 137)\", \"opacity\": 1}, \"orientation\": \"h\", \"type\": \"bar\", \"width\": 1, \"x0\": 1.3589041099999997, \"y\": [\"ABOX7W\"]}, {\"base\": [-5.075026343999999], \"hovertext\": \"0.044417030787184175\", \"marker\": {\"cmax\": 0.25, \"cmin\": -0.25, \"color\": \"rgb(213, 157, 137)\", \"opacity\": 1}, \"orientation\": \"h\", \"type\": \"bar\", \"width\": 1, \"x0\": 1.3589041099999997, \"y\": [\"ABOX7W\"]}, {\"base\": [-5.075026343999999], \"hovertext\": \"0.044417030787184175\", \"marker\": {\"cmax\": 0.25, \"cmin\": -0.25, \"color\": \"rgb(213, 157, 137)\", \"opacity\": 1}, \"orientation\": \"h\", \"type\": \"bar\", \"width\": 1, \"x0\": 1.3589041099999997, \"y\": [\"ABOX7W\"]}, {\"base\": [-5.681405794], \"hovertext\": \"0.13209342654105066\", \"marker\": {\"cmax\": 0.25, \"cmin\": -0.25, \"color\": \"rgb(172, 43, 36)\", \"opacity\": 1}, \"orientation\": \"h\", \"type\": \"bar\", \"width\": 1, \"x0\": 1.6520547949999997, \"y\": [\"KG4W9Z\"]}, {\"base\": [-5.681405794], \"hovertext\": \"0.13209342654105066\", \"marker\": {\"cmax\": 0.25, \"cmin\": -0.25, \"color\": \"rgb(172, 43, 36)\", \"opacity\": 1}, \"orientation\": \"h\", \"type\": \"bar\", \"width\": 1, \"x0\": 1.6520547949999997, \"y\": [\"KG4W9Z\"]}, {\"base\": [-5.681405794], \"hovertext\": \"0.13209342654105066\", \"marker\": {\"cmax\": 0.25, \"cmin\": -0.25, \"color\": \"rgb(172, 43, 36)\", \"opacity\": 1}, \"orientation\": \"h\", \"type\": \"bar\", \"width\": 1, \"x0\": 1.6520547949999997, \"y\": [\"KG4W9Z\"]}, {\"base\": [-5.961222915], \"hovertext\": \"0.012359994459408063\", \"marker\": {\"cmax\": 0.25, \"cmin\": -0.25, \"color\": \"rgb(230, 210, 204)\", \"opacity\": 1}, \"orientation\": \"h\", \"type\": \"bar\", \"width\": 1, \"x0\": 0.8861965710000002, \"y\": [\"ABOX7W\"]}, {\"base\": [-5.961222915], \"hovertext\": \"0.012359994459408063\", \"marker\": {\"cmax\": 0.25, \"cmin\": -0.25, \"color\": \"rgb(230, 210, 204)\", \"opacity\": 1}, \"orientation\": \"h\", \"type\": \"bar\", \"width\": 1, \"x0\": 0.8861965710000002, \"y\": [\"ABOX7W\"]}, {\"base\": [-5.961222915], \"hovertext\": \"0.012359994459408063\", \"marker\": {\"cmax\": 0.25, \"cmin\": -0.25, \"color\": \"rgb(230, 210, 204)\", \"opacity\": 1}, \"orientation\": \"h\", \"type\": \"bar\", \"width\": 1, \"x0\": 0.8861965710000002, \"y\": [\"ABOX7W\"]}, {\"base\": [-6.291976517], \"hovertext\": \"-8.292469424276985e-05\", \"marker\": {\"cmax\": 0.25, \"cmin\": -0.25, \"color\": \"rgb(210, 216, 219)\", \"opacity\": 1}, \"orientation\": \"h\", \"type\": \"bar\", \"width\": 1, \"x0\": 2.0100456620000005, \"y\": [\"VMGRO8\"]}, {\"base\": [-6.291976517], \"hovertext\": \"-8.292469424276985e-05\", \"marker\": {\"cmax\": 0.25, \"cmin\": -0.25, \"color\": \"rgb(210, 216, 219)\", \"opacity\": 1}, \"orientation\": \"h\", \"type\": \"bar\", \"width\": 1, \"x0\": 2.0100456620000005, \"y\": [\"VMGRO8\"]}, {\"base\": [-6.291976517], \"hovertext\": \"-8.292469424276985e-05\", \"marker\": {\"cmax\": 0.25, \"cmin\": -0.25, \"color\": \"rgb(210, 216, 219)\", \"opacity\": 1}, \"orientation\": \"h\", \"type\": \"bar\", \"width\": 1, \"x0\": 2.0100456620000005, \"y\": [\"VMGRO8\"]}, {\"base\": [-7.390606654], \"hovertext\": \"-0.0039164202419073296\", \"marker\": {\"cmax\": 0.25, \"cmin\": -0.25, \"color\": \"rgb(210, 216, 219)\", \"opacity\": 1}, \"orientation\": \"h\", \"type\": \"bar\", \"width\": 1, \"x0\": 3.1534246579999996, \"y\": [\"FR4AL7\"]}, {\"base\": [-7.390606654], \"hovertext\": \"-0.0039164202419073296\", \"marker\": {\"cmax\": 0.25, \"cmin\": -0.25, \"color\": \"rgb(210, 216, 219)\", \"opacity\": 1}, \"orientation\": \"h\", \"type\": \"bar\", \"width\": 1, \"x0\": 3.1534246579999996, \"y\": [\"FR4AL7\"]}, {\"base\": [-7.390606654], \"hovertext\": \"-0.0039164202419073296\", \"marker\": {\"cmax\": 0.25, \"cmin\": -0.25, \"color\": \"rgb(210, 216, 219)\", \"opacity\": 1}, \"orientation\": \"h\", \"type\": \"bar\", \"width\": 1, \"x0\": 3.1534246579999996, \"y\": [\"FR4AL7\"]}, {\"base\": [-8.207433191], \"hovertext\": \"0.23972598973478385\", \"marker\": {\"cmax\": 0.25, \"cmin\": -0.25, \"color\": \"rgb(60, 9, 17)\", \"opacity\": 1}, \"orientation\": \"h\", \"type\": \"bar\", \"width\": 1, \"x0\": 2.526027397, \"y\": [\"KG4W9Z\"]}, {\"base\": [-8.207433191], \"hovertext\": \"0.23972598973478385\", \"marker\": {\"cmax\": 0.25, \"cmin\": -0.25, \"color\": \"rgb(60, 9, 17)\", \"opacity\": 1}, \"orientation\": \"h\", \"type\": \"bar\", \"width\": 1, \"x0\": 2.526027397, \"y\": [\"KG4W9Z\"]}, {\"base\": [-8.207433191], \"hovertext\": \"0.23972598973478385\", \"marker\": {\"cmax\": 0.25, \"cmin\": -0.25, \"color\": \"rgb(60, 9, 17)\", \"opacity\": 1}, \"orientation\": \"h\", \"type\": \"bar\", \"width\": 1, \"x0\": 2.526027397, \"y\": [\"KG4W9Z\"]}, {\"base\": [-9.294716243], \"hovertext\": \"-0.0003442688496392369\", \"marker\": {\"cmax\": 0.25, \"cmin\": -0.25, \"color\": \"rgb(210, 216, 219)\", \"opacity\": 1}, \"orientation\": \"h\", \"type\": \"bar\", \"width\": 1, \"x0\": 3.0027397259999997, \"y\": [\"VMGRO8\"]}, {\"base\": [-9.294716243], \"hovertext\": \"-0.0003442688496392369\", \"marker\": {\"cmax\": 0.25, \"cmin\": -0.25, \"color\": \"rgb(210, 216, 219)\", \"opacity\": 1}, \"orientation\": \"h\", \"type\": \"bar\", \"width\": 1, \"x0\": 3.0027397259999997, \"y\": [\"VMGRO8\"]}, {\"base\": [-9.294716243], \"hovertext\": \"-0.0003442688496392369\", \"marker\": {\"cmax\": 0.25, \"cmin\": -0.25, \"color\": \"rgb(210, 216, 219)\", \"opacity\": 1}, \"orientation\": \"h\", \"type\": \"bar\", \"width\": 1, \"x0\": 3.0027397259999997, \"y\": [\"VMGRO8\"]}, {\"base\": [-11.71937378], \"hovertext\": \"-0.0010227770527811\", \"marker\": {\"cmax\": 0.25, \"cmin\": -0.25, \"color\": \"rgb(210, 216, 219)\", \"opacity\": 1}, \"orientation\": \"h\", \"type\": \"bar\", \"width\": 1, \"x0\": 2.013698632999999, \"y\": [\"8AKUN6\"]}, {\"base\": [-11.71937378], \"hovertext\": \"-0.0010227770527811\", \"marker\": {\"cmax\": 0.25, \"cmin\": -0.25, \"color\": \"rgb(210, 216, 219)\", \"opacity\": 1}, \"orientation\": \"h\", \"type\": \"bar\", \"width\": 1, \"x0\": 2.013698632999999, \"y\": [\"8AKUN6\"]}, {\"base\": [-11.71937378], \"hovertext\": \"-0.0010227770527811\", \"marker\": {\"cmax\": 0.25, \"cmin\": -0.25, \"color\": \"rgb(210, 216, 219)\", \"opacity\": 1}, \"orientation\": \"h\", \"type\": \"bar\", \"width\": 1, \"x0\": 2.013698632999999, \"y\": [\"8AKUN6\"]}, {\"base\": [-12.774168300000001], \"hovertext\": \"-0.0031016593806669377\", \"marker\": {\"cmax\": 0.25, \"cmin\": -0.25, \"color\": \"rgb(210, 216, 219)\", \"opacity\": 1}, \"orientation\": \"h\", \"type\": \"bar\", \"width\": 1, \"x0\": 1.0547945200000015, \"y\": [\"8AKUN6\"]}, {\"base\": [-12.774168300000001], \"hovertext\": \"-0.0031016593806669377\", \"marker\": {\"cmax\": 0.25, \"cmin\": -0.25, \"color\": \"rgb(210, 216, 219)\", \"opacity\": 1}, \"orientation\": \"h\", \"type\": \"bar\", \"width\": 1, \"x0\": 1.0547945200000015, \"y\": [\"8AKUN6\"]}, {\"base\": [-12.774168300000001], \"hovertext\": \"-0.0031016593806669377\", \"marker\": {\"cmax\": 0.25, \"cmin\": -0.25, \"color\": \"rgb(210, 216, 219)\", \"opacity\": 1}, \"orientation\": \"h\", \"type\": \"bar\", \"width\": 1, \"x0\": 1.0547945200000015, \"y\": [\"8AKUN6\"]}, {\"base\": [-18.08871173], \"hovertext\": \"-1.7328619948707286e-05\", \"marker\": {\"cmax\": 0.25, \"cmin\": -0.25, \"color\": \"rgb(210, 216, 219)\", \"opacity\": 1}, \"orientation\": \"h\", \"type\": \"bar\", \"width\": 1, \"x0\": 2.10783741, \"y\": [\"5FZWKH\"]}, {\"base\": [-18.08871173], \"hovertext\": \"-1.7328619948707286e-05\", \"marker\": {\"cmax\": 0.25, \"cmin\": -0.25, \"color\": \"rgb(210, 216, 219)\", \"opacity\": 1}, \"orientation\": \"h\", \"type\": \"bar\", \"width\": 1, \"x0\": 2.10783741, \"y\": [\"5FZWKH\"]}, {\"base\": [-18.08871173], \"hovertext\": \"-1.7328619948707286e-05\", \"marker\": {\"cmax\": 0.25, \"cmin\": -0.25, \"color\": \"rgb(210, 216, 219)\", \"opacity\": 1}, \"orientation\": \"h\", \"type\": \"bar\", \"width\": 1, \"x0\": 2.10783741, \"y\": [\"5FZWKH\"]}, {\"base\": [-19.49131021], \"hovertext\": \"0.003637854251847117\", \"marker\": {\"cmax\": 0.25, \"cmin\": -0.25, \"color\": \"rgb(230, 210, 204)\", \"opacity\": 1}, \"orientation\": \"h\", \"type\": \"bar\", \"width\": 1, \"x0\": 2.1621528600000026, \"y\": [\"DF2ECY\"]}, {\"base\": [-19.49131021], \"hovertext\": \"0.003637854251847117\", \"marker\": {\"cmax\": 0.25, \"cmin\": -0.25, \"color\": \"rgb(230, 210, 204)\", \"opacity\": 1}, \"orientation\": \"h\", \"type\": \"bar\", \"width\": 1, \"x0\": 2.1621528600000026, \"y\": [\"DF2ECY\"]}, {\"base\": [-19.49131021], \"hovertext\": \"0.003637854251847117\", \"marker\": {\"cmax\": 0.25, \"cmin\": -0.25, \"color\": \"rgb(230, 210, 204)\", \"opacity\": 1}, \"orientation\": \"h\", \"type\": \"bar\", \"width\": 1, \"x0\": 2.1621528600000026, \"y\": [\"DF2ECY\"]}, {\"base\": [-21.11336926], \"hovertext\": \"1.7328619948707286e-05\", \"marker\": {\"cmax\": 0.25, \"cmin\": -0.25, \"color\": \"rgb(230, 210, 204)\", \"opacity\": 1}, \"orientation\": \"h\", \"type\": \"bar\", \"width\": 1, \"x0\": 3.024657529999999, \"y\": [\"5FZWKH\"]}, {\"base\": [-21.11336926], \"hovertext\": \"1.7328619948707286e-05\", \"marker\": {\"cmax\": 0.25, \"cmin\": -0.25, \"color\": \"rgb(230, 210, 204)\", \"opacity\": 1}, \"orientation\": \"h\", \"type\": \"bar\", \"width\": 1, \"x0\": 3.024657529999999, \"y\": [\"5FZWKH\"]}, {\"base\": [-21.11336926], \"hovertext\": \"1.7328619948707286e-05\", \"marker\": {\"cmax\": 0.25, \"cmin\": -0.25, \"color\": \"rgb(230, 210, 204)\", \"opacity\": 1}, \"orientation\": \"h\", \"type\": \"bar\", \"width\": 1, \"x0\": 3.024657529999999, \"y\": [\"5FZWKH\"]}, {\"base\": [-22.55706363], \"hovertext\": \"0.0002810342820417652\", \"marker\": {\"cmax\": 0.25, \"cmin\": -0.25, \"color\": \"rgb(230, 210, 204)\", \"opacity\": 1}, \"orientation\": \"h\", \"type\": \"bar\", \"width\": 1, \"x0\": 3.0657534199999965, \"y\": [\"DF2ECY\"]}, {\"base\": [-22.55706363], \"hovertext\": \"0.0002810342820417652\", \"marker\": {\"cmax\": 0.25, \"cmin\": -0.25, \"color\": \"rgb(230, 210, 204)\", \"opacity\": 1}, \"orientation\": \"h\", \"type\": \"bar\", \"width\": 1, \"x0\": 3.0657534199999965, \"y\": [\"DF2ECY\"]}, {\"base\": [-22.55706363], \"hovertext\": \"0.0002810342820417652\", \"marker\": {\"cmax\": 0.25, \"cmin\": -0.25, \"color\": \"rgb(230, 210, 204)\", \"opacity\": 1}, \"orientation\": \"h\", \"type\": \"bar\", \"width\": 1, \"x0\": 3.0657534199999965, \"y\": [\"DF2ECY\"]}],\n",
       "                        {\"plot_bgcolor\": \"rgb(255,255,255)\", \"showlegend\": false, \"template\": {\"data\": {\"bar\": [{\"error_x\": {\"color\": \"#2a3f5f\"}, \"error_y\": {\"color\": \"#2a3f5f\"}, \"marker\": {\"line\": {\"color\": \"#E5ECF6\", \"width\": 0.5}}, \"type\": \"bar\"}], \"barpolar\": [{\"marker\": {\"line\": {\"color\": \"#E5ECF6\", \"width\": 0.5}}, \"type\": \"barpolar\"}], \"carpet\": [{\"aaxis\": {\"endlinecolor\": \"#2a3f5f\", \"gridcolor\": \"white\", \"linecolor\": \"white\", \"minorgridcolor\": \"white\", \"startlinecolor\": \"#2a3f5f\"}, \"baxis\": {\"endlinecolor\": \"#2a3f5f\", \"gridcolor\": \"white\", \"linecolor\": \"white\", \"minorgridcolor\": \"white\", \"startlinecolor\": \"#2a3f5f\"}, \"type\": \"carpet\"}], \"choropleth\": [{\"colorbar\": {\"outlinewidth\": 0, \"ticks\": \"\"}, \"type\": \"choropleth\"}], \"contour\": [{\"colorbar\": {\"outlinewidth\": 0, \"ticks\": \"\"}, \"colorscale\": [[0.0, \"#0d0887\"], [0.1111111111111111, \"#46039f\"], [0.2222222222222222, \"#7201a8\"], [0.3333333333333333, \"#9c179e\"], [0.4444444444444444, \"#bd3786\"], [0.5555555555555556, \"#d8576b\"], [0.6666666666666666, \"#ed7953\"], [0.7777777777777778, \"#fb9f3a\"], [0.8888888888888888, \"#fdca26\"], [1.0, \"#f0f921\"]], \"type\": \"contour\"}], \"contourcarpet\": [{\"colorbar\": {\"outlinewidth\": 0, \"ticks\": \"\"}, \"type\": \"contourcarpet\"}], \"heatmap\": [{\"colorbar\": {\"outlinewidth\": 0, \"ticks\": \"\"}, \"colorscale\": [[0.0, \"#0d0887\"], [0.1111111111111111, \"#46039f\"], [0.2222222222222222, \"#7201a8\"], [0.3333333333333333, \"#9c179e\"], [0.4444444444444444, \"#bd3786\"], [0.5555555555555556, \"#d8576b\"], [0.6666666666666666, \"#ed7953\"], [0.7777777777777778, \"#fb9f3a\"], [0.8888888888888888, \"#fdca26\"], [1.0, \"#f0f921\"]], \"type\": \"heatmap\"}], \"heatmapgl\": [{\"colorbar\": {\"outlinewidth\": 0, \"ticks\": \"\"}, \"colorscale\": [[0.0, \"#0d0887\"], [0.1111111111111111, \"#46039f\"], [0.2222222222222222, \"#7201a8\"], [0.3333333333333333, \"#9c179e\"], [0.4444444444444444, \"#bd3786\"], [0.5555555555555556, \"#d8576b\"], [0.6666666666666666, \"#ed7953\"], [0.7777777777777778, \"#fb9f3a\"], [0.8888888888888888, \"#fdca26\"], [1.0, \"#f0f921\"]], \"type\": \"heatmapgl\"}], \"histogram\": [{\"marker\": {\"colorbar\": {\"outlinewidth\": 0, \"ticks\": \"\"}}, \"type\": \"histogram\"}], \"histogram2d\": [{\"colorbar\": {\"outlinewidth\": 0, \"ticks\": \"\"}, \"colorscale\": [[0.0, \"#0d0887\"], [0.1111111111111111, \"#46039f\"], [0.2222222222222222, \"#7201a8\"], [0.3333333333333333, \"#9c179e\"], [0.4444444444444444, \"#bd3786\"], [0.5555555555555556, \"#d8576b\"], [0.6666666666666666, \"#ed7953\"], [0.7777777777777778, \"#fb9f3a\"], [0.8888888888888888, \"#fdca26\"], [1.0, \"#f0f921\"]], \"type\": \"histogram2d\"}], \"histogram2dcontour\": [{\"colorbar\": {\"outlinewidth\": 0, \"ticks\": \"\"}, \"colorscale\": [[0.0, \"#0d0887\"], [0.1111111111111111, \"#46039f\"], [0.2222222222222222, \"#7201a8\"], [0.3333333333333333, \"#9c179e\"], [0.4444444444444444, \"#bd3786\"], [0.5555555555555556, \"#d8576b\"], [0.6666666666666666, \"#ed7953\"], [0.7777777777777778, \"#fb9f3a\"], [0.8888888888888888, \"#fdca26\"], [1.0, \"#f0f921\"]], \"type\": \"histogram2dcontour\"}], \"mesh3d\": [{\"colorbar\": {\"outlinewidth\": 0, \"ticks\": \"\"}, \"type\": \"mesh3d\"}], \"parcoords\": [{\"line\": {\"colorbar\": {\"outlinewidth\": 0, \"ticks\": \"\"}}, \"type\": \"parcoords\"}], \"pie\": [{\"automargin\": true, \"type\": \"pie\"}], \"scatter\": [{\"marker\": {\"colorbar\": {\"outlinewidth\": 0, \"ticks\": \"\"}}, \"type\": \"scatter\"}], \"scatter3d\": [{\"line\": {\"colorbar\": {\"outlinewidth\": 0, \"ticks\": \"\"}}, \"marker\": {\"colorbar\": {\"outlinewidth\": 0, \"ticks\": \"\"}}, \"type\": \"scatter3d\"}], \"scattercarpet\": [{\"marker\": {\"colorbar\": {\"outlinewidth\": 0, \"ticks\": \"\"}}, \"type\": \"scattercarpet\"}], \"scattergeo\": [{\"marker\": {\"colorbar\": {\"outlinewidth\": 0, \"ticks\": \"\"}}, \"type\": \"scattergeo\"}], \"scattergl\": [{\"marker\": {\"colorbar\": {\"outlinewidth\": 0, \"ticks\": \"\"}}, \"type\": \"scattergl\"}], \"scattermapbox\": [{\"marker\": {\"colorbar\": {\"outlinewidth\": 0, \"ticks\": \"\"}}, \"type\": \"scattermapbox\"}], \"scatterpolar\": [{\"marker\": {\"colorbar\": {\"outlinewidth\": 0, \"ticks\": \"\"}}, \"type\": \"scatterpolar\"}], \"scatterpolargl\": [{\"marker\": {\"colorbar\": {\"outlinewidth\": 0, \"ticks\": \"\"}}, \"type\": \"scatterpolargl\"}], \"scatterternary\": [{\"marker\": {\"colorbar\": {\"outlinewidth\": 0, \"ticks\": \"\"}}, \"type\": \"scatterternary\"}], \"surface\": [{\"colorbar\": {\"outlinewidth\": 0, \"ticks\": \"\"}, \"colorscale\": [[0.0, \"#0d0887\"], [0.1111111111111111, \"#46039f\"], [0.2222222222222222, \"#7201a8\"], [0.3333333333333333, \"#9c179e\"], [0.4444444444444444, \"#bd3786\"], [0.5555555555555556, \"#d8576b\"], [0.6666666666666666, \"#ed7953\"], [0.7777777777777778, \"#fb9f3a\"], [0.8888888888888888, \"#fdca26\"], [1.0, \"#f0f921\"]], \"type\": \"surface\"}], \"table\": [{\"cells\": {\"fill\": {\"color\": \"#EBF0F8\"}, \"line\": {\"color\": \"white\"}}, \"header\": {\"fill\": {\"color\": \"#C8D4E3\"}, \"line\": {\"color\": \"white\"}}, \"type\": \"table\"}]}, \"layout\": {\"annotationdefaults\": {\"arrowcolor\": \"#2a3f5f\", \"arrowhead\": 0, \"arrowwidth\": 1}, \"coloraxis\": {\"colorbar\": {\"outlinewidth\": 0, \"ticks\": \"\"}}, \"colorscale\": {\"diverging\": [[0, \"#8e0152\"], [0.1, \"#c51b7d\"], [0.2, \"#de77ae\"], [0.3, \"#f1b6da\"], [0.4, \"#fde0ef\"], [0.5, \"#f7f7f7\"], [0.6, \"#e6f5d0\"], [0.7, \"#b8e186\"], [0.8, \"#7fbc41\"], [0.9, \"#4d9221\"], [1, \"#276419\"]], \"sequential\": [[0.0, \"#0d0887\"], [0.1111111111111111, \"#46039f\"], [0.2222222222222222, \"#7201a8\"], [0.3333333333333333, \"#9c179e\"], [0.4444444444444444, \"#bd3786\"], [0.5555555555555556, \"#d8576b\"], [0.6666666666666666, \"#ed7953\"], [0.7777777777777778, \"#fb9f3a\"], [0.8888888888888888, \"#fdca26\"], [1.0, \"#f0f921\"]], \"sequentialminus\": [[0.0, \"#0d0887\"], [0.1111111111111111, \"#46039f\"], [0.2222222222222222, \"#7201a8\"], [0.3333333333333333, \"#9c179e\"], [0.4444444444444444, \"#bd3786\"], [0.5555555555555556, \"#d8576b\"], [0.6666666666666666, \"#ed7953\"], [0.7777777777777778, \"#fb9f3a\"], [0.8888888888888888, \"#fdca26\"], [1.0, \"#f0f921\"]]}, \"colorway\": [\"#636efa\", \"#EF553B\", \"#00cc96\", \"#ab63fa\", \"#FFA15A\", \"#19d3f3\", \"#FF6692\", \"#B6E880\", \"#FF97FF\", \"#FECB52\"], \"font\": {\"color\": \"#2a3f5f\"}, \"geo\": {\"bgcolor\": \"white\", \"lakecolor\": \"white\", \"landcolor\": \"#E5ECF6\", \"showlakes\": true, \"showland\": true, \"subunitcolor\": \"white\"}, \"hoverlabel\": {\"align\": \"left\"}, \"hovermode\": \"closest\", \"mapbox\": {\"style\": \"light\"}, \"paper_bgcolor\": \"white\", \"plot_bgcolor\": \"#E5ECF6\", \"polar\": {\"angularaxis\": {\"gridcolor\": \"white\", \"linecolor\": \"white\", \"ticks\": \"\"}, \"bgcolor\": \"#E5ECF6\", \"radialaxis\": {\"gridcolor\": \"white\", \"linecolor\": \"white\", \"ticks\": \"\"}}, \"scene\": {\"xaxis\": {\"backgroundcolor\": \"#E5ECF6\", \"gridcolor\": \"white\", \"gridwidth\": 2, \"linecolor\": \"white\", \"showbackground\": true, \"ticks\": \"\", \"zerolinecolor\": \"white\"}, \"yaxis\": {\"backgroundcolor\": \"#E5ECF6\", \"gridcolor\": \"white\", \"gridwidth\": 2, \"linecolor\": \"white\", \"showbackground\": true, \"ticks\": \"\", \"zerolinecolor\": \"white\"}, \"zaxis\": {\"backgroundcolor\": \"#E5ECF6\", \"gridcolor\": \"white\", \"gridwidth\": 2, \"linecolor\": \"white\", \"showbackground\": true, \"ticks\": \"\", \"zerolinecolor\": \"white\"}}, \"shapedefaults\": {\"line\": {\"color\": \"#2a3f5f\"}}, \"ternary\": {\"aaxis\": {\"gridcolor\": \"white\", \"linecolor\": \"white\", \"ticks\": \"\"}, \"baxis\": {\"gridcolor\": \"white\", \"linecolor\": \"white\", \"ticks\": \"\"}, \"bgcolor\": \"#E5ECF6\", \"caxis\": {\"gridcolor\": \"white\", \"linecolor\": \"white\", \"ticks\": \"\"}}, \"title\": {\"x\": 0.05}, \"xaxis\": {\"automargin\": true, \"gridcolor\": \"white\", \"linecolor\": \"white\", \"ticks\": \"\", \"title\": {\"standoff\": 15}, \"zerolinecolor\": \"white\", \"zerolinewidth\": 2}, \"yaxis\": {\"automargin\": true, \"gridcolor\": \"white\", \"linecolor\": \"white\", \"ticks\": \"\", \"title\": {\"standoff\": 15}, \"zerolinecolor\": \"white\", \"zerolinewidth\": 2}}}, \"title\": {\"text\": \"AB Deposition Change Between Visits (Mutation Carriers)\"}, \"xaxis\": {\"title\": {\"text\": \"Estimated Years to Symptom Onset\"}}, \"yaxis\": {\"tickvals\": [], \"title\": {\"text\": \"Subject\"}}},\n",
       "                        {\"responsive\": true}\n",
       "                    ).then(function(){\n",
       "                            \n",
       "var gd = document.getElementById('09b87da8-e630-48bf-a648-9e2192d6f0e2');\n",
       "var x = new MutationObserver(function (mutations, observer) {{\n",
       "        var display = window.getComputedStyle(gd).display;\n",
       "        if (!display || display === 'none') {{\n",
       "            console.log([gd, 'removed!']);\n",
       "            Plotly.purge(gd);\n",
       "            observer.disconnect();\n",
       "        }}\n",
       "}});\n",
       "\n",
       "// Listen for the removal of the full notebook cells\n",
       "var notebookContainer = gd.closest('#notebook-container');\n",
       "if (notebookContainer) {{\n",
       "    x.observe(notebookContainer, {childList: true});\n",
       "}}\n",
       "\n",
       "// Listen for the clearing of the current output cell\n",
       "var outputEl = gd.closest('.output');\n",
       "if (outputEl) {{\n",
       "    x.observe(outputEl, {childList: true});\n",
       "}}\n",
       "\n",
       "                        })\n",
       "                };\n",
       "                });\n",
       "            </script>\n",
       "        </div>"
      ]
     },
     "metadata": {},
     "output_type": "display_data"
    }
   ],
   "source": [
    "ab_eyo_gantt_plot(ab_prob_gantt_df, mut_status=1, minn=-0.25)"
   ]
  },
  {
   "cell_type": "code",
   "execution_count": null,
   "metadata": {},
   "outputs": [],
   "source": []
  }
 ],
 "metadata": {
  "kernelspec": {
   "display_name": "Python 3.7.6 64-bit",
   "language": "python",
   "name": "python37664bit70f6405f84b2499eaacd8189440522c0"
  },
  "language_info": {
   "codemirror_mode": {
    "name": "ipython",
    "version": 3
   },
   "file_extension": ".py",
   "mimetype": "text/x-python",
   "name": "python",
   "nbconvert_exporter": "python",
   "pygments_lexer": "ipython3",
   "version": "3.7.6"
  }
 },
 "nbformat": 4,
 "nbformat_minor": 4
}
